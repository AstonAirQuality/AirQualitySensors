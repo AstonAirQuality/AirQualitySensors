{
 "cells": [
  {
   "cell_type": "markdown",
   "source": [
    "# Extracting data from csvs"
   ],
   "metadata": {}
  },
  {
   "cell_type": "code",
   "execution_count": 22,
   "source": [
    "%store -r sensorIds\r\n",
    "print(sensorIds)"
   ],
   "outputs": [
    {
     "output_type": "stream",
     "name": "stdout",
     "text": [
      "['18699', '18720', '18749']\n"
     ]
    }
   ],
   "metadata": {}
  },
  {
   "cell_type": "code",
   "execution_count": null,
   "source": [
    "#temporary reassigning of paths (since plume dashboard not working)\r\n",
    "\r\n",
    "# we need two dictionaries (one for measurements and one for location)\r\n",
    "measure_dictionary = {}\r\n",
    "location_dictionary = {}\r\n",
    "\r\n",
    "sensorPaths = []\r\n",
    "\r\n",
    "for snum in sensorIds:\r\n",
    "    sensorPaths.append(\"..\\\\data\\\\flow\\\\temp\\\\sensor_\"  + snum)\r\n",
    "print(sensorPaths)\r\n"
   ],
   "outputs": [],
   "metadata": {}
  },
  {
   "cell_type": "code",
   "execution_count": 1,
   "source": [
    "import pandas as pd\r\n",
    "import numpy as np\r\n",
    "import psycopg2\r\n",
    "from datetime import datetime\r\n",
    "from datetime import timezone\r\n",
    "import os"
   ],
   "outputs": [],
   "metadata": {}
  },
  {
   "cell_type": "code",
   "execution_count": null,
   "source": [
    "csvMeasurementsPath = []\r\n",
    "csvPostionsPath = []\r\n",
    "\r\n",
    "for i in sensorPaths:\r\n",
    "    with os.scandir(i) as listOfFiles:\r\n",
    "        for currentFile in listOfFiles:\r\n",
    "            # get all files that are csv\r\n",
    "            if currentFile.is_file() and currentFile.name.endswith('csv'):\r\n",
    "                 if \"positions\" not in currentFile.name:\r\n",
    "                    csvMeasurementsPath.append(os.path.join(i,currentFile.name)) \r\n",
    "                 else:\r\n",
    "                    csvPostionsPath.append(os.path.join(i,currentFile.name)) "
   ],
   "outputs": [],
   "metadata": {}
  },
  {
   "cell_type": "code",
   "execution_count": 120,
   "source": [
    "#map sensor id to filepaths\r\n",
    "measurement_dictionary = {k:v for k,v in zip(sensorIds,csvMeasurementsPath)}\r\n",
    "location_dictionary = {k:v for k,v in zip(sensorIds,csvPostionsPath)}\r\n",
    "print(measurement_dictionary)\r\n",
    "print(location_dictionary)"
   ],
   "outputs": [
    {
     "output_type": "stream",
     "name": "stdout",
     "text": [
      "{'18699': '..\\\\data\\\\flow\\\\temp\\\\sensor_18699\\\\user_measures.csv', '18720': '..\\\\data\\\\flow\\\\temp\\\\sensor_18720\\\\user_measures.csv', '18749': '..\\\\data\\\\flow\\\\temp\\\\sensor_18749\\\\user_measures.csv'}\n",
      "{'18699': '..\\\\data\\\\flow\\\\temp\\\\sensor_18699\\\\user_positions.csv', '18720': '..\\\\data\\\\flow\\\\temp\\\\sensor_18720\\\\user_positions.csv', '18749': '..\\\\data\\\\flow\\\\temp\\\\sensor_18749\\\\user_positions.csv'}\n"
     ]
    }
   ],
   "metadata": {
    "scrolled": true
   }
  },
  {
   "cell_type": "code",
   "execution_count": 121,
   "source": [
    "def dataSplit(csvpath,dateString):\r\n",
    "\r\n",
    "    data = {} #intialise empty dictionary to store each day of locations\r\n",
    "\r\n",
    "    df_temp = pd.read_csv(csvpath,parse_dates=True, index_col=\"timestamp\")\r\n",
    "\r\n",
    "    #convert index from float to int\r\n",
    "    df_temp.index = df_temp.index.astype(int,copy=False)\r\n",
    "\r\n",
    "    # using the dates which are already supplied. This strategy in the line below converts them and rounds down to date using 'd' flag\r\n",
    "    # This strategy (line below) will keep just the date\r\n",
    "    df_temp['day'] = pd.to_datetime(df_temp[dateString], dayfirst=True, errors='coerce').dt.date\r\n",
    "\r\n",
    "    the_unique_dates = df_temp['day'].unique()\r\n",
    "    #print('Unique dates:',the_unique_dates)\r\n",
    "    # this gives the same result as the for loop below\r\n",
    "  \r\n",
    "    #splitting the dataframe into separate days\r\n",
    "    #for each day in unique dates set:\r\n",
    "    for day in the_unique_dates:\r\n",
    "        try:\r\n",
    "            # In my code below I assign the subset of records to a new dataframe called dft\r\n",
    "            # create 'midnight' timestamps\r\n",
    "            timestampKey = int((pd.to_datetime(day, errors='coerce')).timestamp())\r\n",
    "\r\n",
    "            # select the records for this day\r\n",
    "            dft = df_temp[df_temp['day']==day]\r\n",
    "\r\n",
    "            # #drop the date column to save space (we don't need this anymore)\r\n",
    "            #dft = dft.drop(dateString, axis=1)\r\n",
    "            dft = dft.drop(\"day\", axis=1)\r\n",
    "\r\n",
    "            data[timestampKey] = dft\r\n",
    "\r\n",
    "        except KeyError as e:\r\n",
    "            print(e)\r\n",
    "\r\n",
    "    return data"
   ],
   "outputs": [],
   "metadata": {}
  },
  {
   "cell_type": "markdown",
   "source": [
    "# ...."
   ],
   "metadata": {}
  },
  {
   "cell_type": "code",
   "execution_count": 122,
   "source": [
    "#bringing the csv to pandas dataframes\r\n",
    "#put the dataframes into a dictionary with the sensor id as the key\r\n",
    "for key in sensorIds:\r\n",
    "    #assign new value to each dictionary, so it is associated in key-value pair with its coressponding sensorid\r\n",
    "    location_dictionary[key] = dataSplit(location_dictionary[key],\"date\")\r\n",
    "    measurement_dictionary[key] = dataSplit(measurement_dictionary[key],\"date (UTC)\")"
   ],
   "outputs": [],
   "metadata": {}
  },
  {
   "cell_type": "code",
   "execution_count": 123,
   "source": [
    "def testsize(my_dictionary, paths):\r\n",
    "    total = 0\r\n",
    "    print(\"extracted dataframes:\")\r\n",
    "    \r\n",
    "    for key in my_dictionary:\r\n",
    "\r\n",
    "        for timestampKey in my_dictionary[key]:\r\n",
    "            df_temp = my_dictionary[key][timestampKey]\r\n",
    "            total += len(df_temp.index.values)\r\n",
    "        \r\n",
    "       \r\n",
    "        print(\"sensor: \"  + str(key) + \"_total:\" + str(total))\r\n",
    "        total = 0 #reset the total\r\n",
    "    \r\n",
    "    print(\"original dataframes:\")\r\n",
    "\r\n",
    "    test = {k:v for k,v in zip(sensorIds,paths)}\r\n",
    "    for key in sensorIds:\r\n",
    "        df_temp = pd.read_csv(test[key],parse_dates=True, index_col=\"timestamp\")\r\n",
    "        \r\n",
    "        print(\"sensor: \"  + str(key) + \"_total:\" + str(len(df_temp.index.values)))"
   ],
   "outputs": [],
   "metadata": {}
  },
  {
   "cell_type": "code",
   "execution_count": 124,
   "source": [
    "for i in range(0,2):\r\n",
    "  \r\n",
    "    if i == 0:\r\n",
    "        testsize(location_dictionary, csvPostionsPath)\r\n",
    "        print(\"\\n\")\r\n",
    "    elif i == 1:\r\n",
    "        testsize(measurement_dictionary, csvMeasurementsPath)\r\n"
   ],
   "outputs": [
    {
     "output_type": "stream",
     "name": "stdout",
     "text": [
      "extracted dataframes:\n",
      "sensor: 18699_total:5139\n",
      "sensor: 18720_total:449\n",
      "sensor: 18749_total:1113\n",
      "original dataframes:\n",
      "sensor: 18699_total:5139\n",
      "sensor: 18720_total:449\n",
      "sensor: 18749_total:1113\n",
      "\n",
      "\n",
      "extracted dataframes:\n",
      "sensor: 18699_total:25507\n",
      "sensor: 18720_total:16520\n",
      "sensor: 18749_total:27043\n",
      "original dataframes:\n",
      "sensor: 18699_total:25507\n",
      "sensor: 18720_total:16520\n",
      "sensor: 18749_total:27043\n"
     ]
    }
   ],
   "metadata": {}
  },
  {
   "cell_type": "markdown",
   "source": [
    "# Getting hourly averages for each day"
   ],
   "metadata": {}
  },
  {
   "cell_type": "code",
   "execution_count": 204,
   "source": [
    "location_averages_dictionary = {}\r\n",
    "\r\n",
    "for key in sensorIds:\r\n",
    "    \r\n",
    "    ldf = pd.DataFrame\r\n",
    "    geometry_string = \"\"\r\n",
    "    data = {}\r\n",
    "    hoursummary = []\r\n",
    "\r\n",
    "    #we can look into either dictioanry as they both share the same time range.\r\n",
    "    for timestampKey in location_dictionary[key]:\r\n",
    "        \r\n",
    "        ldf = location_dictionary[key][timestampKey]\r\n",
    "        ldf = ldf.set_index('date')\r\n",
    "        ldf.index = pd.to_datetime(ldf.index)\r\n",
    "        #data[timestampKey] = ldf.resample('60min').agg(['min','max'])\r\n",
    "        ldf = ldf.resample('60min').agg(['min','max']) #resample only works with datetimes\r\n",
    "        \r\n",
    "        #extracting a bounding box from hourly readings\r\n",
    "        try:\r\n",
    "            for row in ldf.iterrows():\r\n",
    "                tempArray = [] \r\n",
    "                min_x= row[1][0]    # lat\r\n",
    "                max_x = row[1][1]   # lat\r\n",
    "                \r\n",
    "                min_y= row[1][2]    # long\r\n",
    "                max_y = row[1][3]   # long\r\n",
    "\r\n",
    "                geometry_string = \"POLYGON(({} {}, {} {}, {} {}, {} {},{} {}))\".format(min_x,min_y,   min_x,max_y,   max_x,max_y,   max_x,min_y,   min_x,min_y)\r\n",
    "\r\n",
    "                tempArray = [timestampKey,geometry_string,len(ldf.index.values)] #inserting row into temp array\r\n",
    "            hoursummary.append(tempArray)\r\n",
    "            \r\n",
    "        except Exception as e:\r\n",
    "            print('The dataframe is empty therefore no bounding box will be applied :{0}'.format(e))\r\n",
    "\r\n",
    "        \r\n",
    "\r\n",
    "    location_averages_dictionary[key] = hoursummary    #assign new dataframe to coressponding key\r\n",
    "\r\n",
    "    #location_averages_dictionary[key] = data"
   ],
   "outputs": [],
   "metadata": {}
  },
  {
   "cell_type": "code",
   "execution_count": 211,
   "source": [
    "for key in location_averages_dictionary:\r\n",
    "    #print(location_averages_dictionary[key])\r\n",
    "    print(location_averages_dictionary[key][8])\r\n",
    "    break\r\n"
   ],
   "outputs": [
    {
     "output_type": "stream",
     "name": "stdout",
     "text": [
      "[1627171200, 'POLYGON((-1.889719 52.451042, -1.889719 52.452771, -1.88546 52.452771, -1.88546 52.451042,-1.889719 52.451042))', 19]\n"
     ]
    }
   ],
   "metadata": {}
  },
  {
   "cell_type": "code",
   "execution_count": 151,
   "source": [
    "# for key in sensorIds:\r\n",
    "#     #we can look into either dictioanry as they both share the same time range.\r\n",
    "#     for timestampKey in location_averages_dictionary[key]:\r\n",
    "#           ldf = location_averages_dictionary[key][timestampKey]\r\n",
    "#           for row in ldf.iterrows():\r\n",
    "#             print(row[1])\r\n",
    "#             break\r\n",
    "#     break"
   ],
   "outputs": [],
   "metadata": {}
  },
  {
   "cell_type": "markdown",
   "source": [
    "# Preparing data for upload into PostGres"
   ],
   "metadata": {}
  },
  {
   "cell_type": "code",
   "execution_count": 68,
   "source": [
    "sensor_summaries = {}\r\n",
    "sensor_data = {}\r\n",
    "\r\n",
    "for key in sensorIds:\r\n",
    "\r\n",
    "    ldf = mdf =  pd.DataFrame\r\n",
    "    geometry_string = \"\"\r\n",
    "    timestamp_sensor_key = \"\"\r\n",
    "\r\n",
    "    #we can look into either dictioanry as they both share the same time range.\r\n",
    "    for timestampKey in location_dictionary[key]:\r\n",
    "   \r\n",
    "        # concatenating numbers into text: \r\n",
    "        timestamp_sensor_key = \"%s_%s\" % (timestampKey, key)\r\n",
    "\r\n",
    "        #try get location dataframe\r\n",
    "        try:\r\n",
    "            #location dataframe\r\n",
    "            ldf = location_dictionary[key][timestampKey]\r\n",
    "\r\n",
    "            #create bounding box polygon\r\n",
    "            min_y= ldf['longitude'].min()\r\n",
    "            max_y = ldf['longitude'].max()\r\n",
    "\r\n",
    "            min_x= ldf['latitude'].min()\r\n",
    "            max_x = ldf['latitude'].max()\r\n",
    "            #POLYGON(minx miny, minx Maxy, maxx Maxy, maxx miny, minx miny)\r\n",
    "            geometry_string = \"POLYGON(({} {}, {} {}, {} {}, {} {},{} {}))\".format(min_x,min_y,   min_x,max_y,   max_x,max_y,   max_x,min_y,   min_x,min_y)\r\n",
    "        except Exception as e:\r\n",
    "            print('The dataframe is empty therefore no bounding box will be applied :{0}'.format(e))\r\n",
    "        \r\n",
    "        # try get measurement dataframe\r\n",
    "        try:\r\n",
    "            #measurement dataframe\r\n",
    "            mdf = measurement_dictionary[key][timestampKey] \r\n",
    "        except Exception as e:\r\n",
    "            print('The measurement dataframe is empty. check csv files :{0}'.format(e))\r\n",
    "\r\n",
    "\r\n",
    "        #summaryArray = [timestamp_start,sensor_id,bouding_box,measurement_count]\r\n",
    "        summaryArray = [timestampKey,int(key),geometry_string,len(mdf.index.values)] #inserting row into temp array\r\n",
    "        sensor_summaries[timestamp_sensor_key] = summaryArray    #assign new dataframe to coressponding key\r\n",
    "\r\n",
    "        #dataArray = [id, mesaurement_json,location_json]\r\n",
    "        dataArray = [mdf.to_json(orient=\"columns\"),ldf.to_json(orient=\"columns\")]\r\n",
    "        sensor_data[timestamp_sensor_key] = dataArray    #assign new dataframe to coressponding key    "
   ],
   "outputs": [],
   "metadata": {}
  },
  {
   "cell_type": "code",
   "execution_count": null,
   "source": [
    "# for key in sensor_summaries:\r\n",
    "#     mdf = sensor_summaries[key]\r\n",
    "#     print(mdf)\r\n",
    "#     break"
   ],
   "outputs": [],
   "metadata": {}
  },
  {
   "cell_type": "code",
   "execution_count": 70,
   "source": [
    "# for key in sensor_data:\r\n",
    "#     print(key)\r\n",
    "\r\n",
    "# for key in sensor_summaries:\r\n",
    "#     print(key)\r\n"
   ],
   "outputs": [],
   "metadata": {}
  },
  {
   "cell_type": "markdown",
   "source": [
    "# Exporting to PostgresSQL \n"
   ],
   "metadata": {}
  },
  {
   "cell_type": "markdown",
   "source": [
    "# Writing records from a Dictionary of arrays to a SQL database\n",
    "loop over all the keys and execute insert query"
   ],
   "metadata": {}
  },
  {
   "cell_type": "code",
   "execution_count": 28,
   "source": [
    "#Connecting to an existing database\r\n",
    "con = psycopg2.connect(\r\n",
    "    host=\"localhost\",\r\n",
    "    database=\"airQuality\",\r\n",
    "    user=\"Riyad\", \r\n",
    "    password=\"123\",\r\n",
    "    # attempt to connect for 3 seconds then raise exception\r\n",
    "    connect_timeout = 3)"
   ],
   "outputs": [],
   "metadata": {}
  },
  {
   "cell_type": "code",
   "execution_count": 29,
   "source": [
    "#Opening a cursor to execute database operations\r\n",
    "cursor = con.cursor()\r\n",
    "query = \"SELECT * FROM sensor_network.sensors\"\r\n",
    "#change dataframe to csv and save file\r\n",
    "sensorsdf = pd.read_sql_query(query, con, index_col='plume_id')\r\n",
    "sensorsdf = sensorsdf.convert_dtypes() #convert to correct types\r\n",
    "cursor.close()"
   ],
   "outputs": [],
   "metadata": {}
  },
  {
   "cell_type": "code",
   "execution_count": 30,
   "source": [
    "sensorsdf.head()"
   ],
   "outputs": [
    {
     "output_type": "execute_result",
     "data": {
      "text/plain": [
       "         sensor_serial_number  id  type_id  zephyr_id\n",
       "plume_id                                             \n",
       "17539       02:00:00:00:43:8b   1        1        NaN\n",
       "19115       02:00:00:00:49:b3   2        1        NaN\n",
       "17521       02:00:00:00:43:79   3        1        NaN\n",
       "16397       02:00:00:00:3f:15   4        1        NaN\n",
       "16701       02:00:00:00:40:45   5        1        NaN"
      ],
      "text/html": [
       "<div>\n",
       "<style scoped>\n",
       "    .dataframe tbody tr th:only-of-type {\n",
       "        vertical-align: middle;\n",
       "    }\n",
       "\n",
       "    .dataframe tbody tr th {\n",
       "        vertical-align: top;\n",
       "    }\n",
       "\n",
       "    .dataframe thead th {\n",
       "        text-align: right;\n",
       "    }\n",
       "</style>\n",
       "<table border=\"1\" class=\"dataframe\">\n",
       "  <thead>\n",
       "    <tr style=\"text-align: right;\">\n",
       "      <th></th>\n",
       "      <th>sensor_serial_number</th>\n",
       "      <th>id</th>\n",
       "      <th>type_id</th>\n",
       "      <th>zephyr_id</th>\n",
       "    </tr>\n",
       "    <tr>\n",
       "      <th>plume_id</th>\n",
       "      <th></th>\n",
       "      <th></th>\n",
       "      <th></th>\n",
       "      <th></th>\n",
       "    </tr>\n",
       "  </thead>\n",
       "  <tbody>\n",
       "    <tr>\n",
       "      <th>17539</th>\n",
       "      <td>02:00:00:00:43:8b</td>\n",
       "      <td>1</td>\n",
       "      <td>1</td>\n",
       "      <td>NaN</td>\n",
       "    </tr>\n",
       "    <tr>\n",
       "      <th>19115</th>\n",
       "      <td>02:00:00:00:49:b3</td>\n",
       "      <td>2</td>\n",
       "      <td>1</td>\n",
       "      <td>NaN</td>\n",
       "    </tr>\n",
       "    <tr>\n",
       "      <th>17521</th>\n",
       "      <td>02:00:00:00:43:79</td>\n",
       "      <td>3</td>\n",
       "      <td>1</td>\n",
       "      <td>NaN</td>\n",
       "    </tr>\n",
       "    <tr>\n",
       "      <th>16397</th>\n",
       "      <td>02:00:00:00:3f:15</td>\n",
       "      <td>4</td>\n",
       "      <td>1</td>\n",
       "      <td>NaN</td>\n",
       "    </tr>\n",
       "    <tr>\n",
       "      <th>16701</th>\n",
       "      <td>02:00:00:00:40:45</td>\n",
       "      <td>5</td>\n",
       "      <td>1</td>\n",
       "      <td>NaN</td>\n",
       "    </tr>\n",
       "  </tbody>\n",
       "</table>\n",
       "</div>"
      ]
     },
     "metadata": {},
     "execution_count": 30
    }
   ],
   "metadata": {}
  },
  {
   "cell_type": "code",
   "execution_count": null,
   "source": [
    "for key in sensor_summaries:\r\n",
    "\r\n",
    "    #split key to get only sensorid\r\n",
    "    s = key.split('_')[1]\r\n",
    "    #get the new key from sensors table\r\n",
    "    ##sensor_id = sensorsdf.loc[int(s)][1]\r\n",
    "    sensorsdf.loc[int(s)]['id']\r\n",
    "\r\n",
    "    mdf = sensor_summaries[key]\r\n",
    "    ldf = sensor_data[key]\r\n",
    "\r\n",
    "    try:\r\n",
    "        #Opening a cursor to execute database operations\r\n",
    "        cursor = con.cursor()\r\n",
    "\r\n",
    "        #inserting sensor data and return the id of new record\r\n",
    "        cursor.execute(\"INSERT INTO sensor_data.archive_measurements (measurements,locations) VALUES(%s, %s) \\n RETURNING id\", (str(ldf[0]),str(ldf[1])) )\r\n",
    "        con.commit() \r\n",
    "        \r\n",
    "        #set id of new record into local variable\r\n",
    "        sensor_data_id = cursor.fetchone()[0]\r\n",
    "\r\n",
    "        #inserting sensor summary\r\n",
    "        cursor.execute(\"INSERT INTO sensor_network.sensor_summaries (timestamp_start, sensor_id, b_box, sensor_data_id, measurement_count) VALUES(%s, %s, %s, %s, %s)\", (int(mdf[0]), int(sensor_id),str(mdf[2]),int(sensor_data_id),int(mdf[3])))\r\n",
    "        con.commit() \r\n",
    "\r\n",
    "        cursor.close()\r\n",
    "    #if table name does not exist exit loop \r\n",
    "    except(psycopg2.errors.UndefinedTable) as error:\r\n",
    "        print('ERROR: ' + error)\r\n",
    "        break"
   ],
   "outputs": [],
   "metadata": {}
  },
  {
   "cell_type": "code",
   "execution_count": 31,
   "source": [
    "#closing the connection\r\n",
    "con.close()"
   ],
   "outputs": [],
   "metadata": {}
  },
  {
   "cell_type": "markdown",
   "source": [],
   "metadata": {}
  }
 ],
 "metadata": {
  "interpreter": {
   "hash": "58e6f625ba2c43b7fc3c95c61d4ef7749e639023949ab2a4f0956b7241794ddb"
  },
  "kernelspec": {
   "name": "python3",
   "display_name": "Python 3.8.8 64-bit ('base': conda)"
  },
  "language_info": {
   "codemirror_mode": {
    "name": "ipython",
    "version": 3
   },
   "file_extension": ".py",
   "mimetype": "text/x-python",
   "name": "python",
   "nbconvert_exporter": "python",
   "pygments_lexer": "ipython3",
   "version": "3.8.8"
  }
 },
 "nbformat": 4,
 "nbformat_minor": 2
}