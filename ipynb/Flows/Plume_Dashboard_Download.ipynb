{
 "cells": [
  {
   "cell_type": "markdown",
   "metadata": {},
   "source": [
    "# Checking the status of URL\n",
    "\n",
    "input the url from the plume email in the first code block as well as your unique username to get started"
   ]
  },
  {
   "cell_type": "code",
   "execution_count": 3,
   "metadata": {
    "execution": {
     "iopub.execute_input": "2021-07-26T17:43:24.005190Z",
     "iopub.status.busy": "2021-07-26T17:43:24.005190Z",
     "iopub.status.idle": "2021-07-26T17:43:24.488190Z",
     "shell.execute_reply": "2021-07-26T17:43:24.488190Z"
    }
   },
   "outputs": [],
   "source": [
    "import wget # pip install wget\n",
    "import zipfile\n",
    "import os"
   ]
  },
  {
   "cell_type": "code",
   "execution_count": 4,
   "metadata": {
    "execution": {
     "iopub.execute_input": "2021-07-26T17:43:24.492190Z",
     "iopub.status.busy": "2021-07-26T17:43:24.492190Z",
     "iopub.status.idle": "2021-07-26T17:43:24.503190Z",
     "shell.execute_reply": "2021-07-26T17:43:24.504190Z"
    }
   },
   "outputs": [
    {
     "ename": "FileNotFoundError",
     "evalue": "[Errno 2] No such file or directory: '../../CypressAutomation/urls/url.txt'",
     "output_type": "error",
     "traceback": [
      "\u001b[1;31m---------------------------------------------------------------------------\u001b[0m",
      "\u001b[1;31mFileNotFoundError\u001b[0m                         Traceback (most recent call last)",
      "\u001b[1;32m<ipython-input-4-2ec407b2f77f>\u001b[0m in \u001b[0;36m<module>\u001b[1;34m\u001b[0m\n\u001b[0;32m      1\u001b[0m \u001b[1;31m#reading the url link from Plume\u001b[0m\u001b[1;33m\u001b[0m\u001b[1;33m\u001b[0m\u001b[1;33m\u001b[0m\u001b[0m\n\u001b[1;32m----> 2\u001b[1;33m \u001b[0murl\u001b[0m \u001b[1;33m=\u001b[0m \u001b[0mopen\u001b[0m\u001b[1;33m(\u001b[0m\u001b[1;34m\"../../CypressAutomation/urls/url.txt\"\u001b[0m\u001b[1;33m,\u001b[0m \u001b[1;34m\"r\"\u001b[0m\u001b[1;33m)\u001b[0m\u001b[1;33m.\u001b[0m\u001b[0mread\u001b[0m\u001b[1;33m(\u001b[0m\u001b[1;33m)\u001b[0m\u001b[1;33m\u001b[0m\u001b[1;33m\u001b[0m\u001b[0m\n\u001b[0m\u001b[0;32m      3\u001b[0m \u001b[0mprint\u001b[0m\u001b[1;33m(\u001b[0m\u001b[0murl\u001b[0m\u001b[1;33m)\u001b[0m\u001b[1;33m\u001b[0m\u001b[1;33m\u001b[0m\u001b[0m\n",
      "\u001b[1;31mFileNotFoundError\u001b[0m: [Errno 2] No such file or directory: '../../CypressAutomation/urls/url.txt'"
     ]
    }
   ],
   "source": [
    "#reading the url link from Plume\n",
    "url = open(\"../../CypressAutomation/urls/url.txt\", \"r\").read()\n",
    "print(url)"
   ]
  },
  {
   "cell_type": "markdown",
   "metadata": {},
   "source": [
    "# Download and extraction \n",
    "\n",
    "We can use the wget library to download the zip file.\n",
    "We can then extract the file into a local \"data\" folder \n",
    "The final step is to identify the paths of the csv files we need."
   ]
  },
  {
   "cell_type": "code",
   "execution_count": 5,
   "metadata": {
    "execution": {
     "iopub.execute_input": "2021-07-26T17:43:24.557190Z",
     "iopub.status.busy": "2021-07-26T17:43:24.556191Z",
     "iopub.status.idle": "2021-07-26T17:43:24.799664Z",
     "shell.execute_reply": "2021-07-26T17:43:24.799664Z"
    }
   },
   "outputs": [
    {
     "name": "stdout",
     "output_type": "stream",
     "text": [
      "An exception occurred: name 'url' is not defined\n"
     ]
    }
   ],
   "source": [
    "try: \n",
    "    target = wget.download(url, \"..\\..\\data\\zipfiles\")\n",
    "    #extract zip file on successful download\n",
    "    with zipfile.ZipFile(target, \"r\") as zip_ref:\n",
    "        zip_ref.extractall(\"..\\..\\data\")\n",
    "except BaseException as error:\n",
    "    print('An exception occurred: {}'.format(error))"
   ]
  },
  {
   "cell_type": "code",
   "execution_count": 27,
   "metadata": {
    "execution": {
     "iopub.execute_input": "2021-07-26T17:43:24.799664Z",
     "iopub.status.busy": "2021-07-26T17:43:24.799664Z",
     "iopub.status.idle": "2021-07-26T17:43:24.815286Z",
     "shell.execute_reply": "2021-07-26T17:43:24.815286Z"
    }
   },
   "outputs": [
    {
     "name": "stdout",
     "output_type": "stream",
     "text": [
      ".\\data\\flow\\task_206_1629981045\n",
      "True\n"
     ]
    }
   ],
   "source": [
    "#timestampPath = target.split(\"/\",1)[1] \n",
    "#timestampPath = timestampPath.split(\".zip\",1)[0] \n",
    "\n",
    "#directory = \"..\\..\\data\\\\flow\\\\{}\".format(timestampPath)\n",
    "directory  = os.getcwd() + \"\\\\data\\\\flow\\\\task_206_1629981045\" \n",
    "directory  = \".\\\\data\\\\flow\\\\task_206_1629981045\" \n",
    "\n",
    "print(directory)\n",
    "print (os.path.isdir(directory))"
   ]
  },
  {
   "cell_type": "markdown",
   "metadata": {},
   "source": [
    "# Getting the path for each sensor"
   ]
  },
  {
   "cell_type": "code",
   "execution_count": 28,
   "metadata": {},
   "outputs": [
    {
     "name": "stdout",
     "output_type": "stream",
     "text": [
      "['sensor_1239564', 'sensor_1239791', 'sensor_16397', 'sensor_17539', 'sensor_18699']\n"
     ]
    }
   ],
   "source": [
    "#extracts all the sensor directories in this folder\n",
    "sensorDirectory = next(os.walk(directory))[1]\n",
    "print(sensorDirectory)"
   ]
  },
  {
   "cell_type": "code",
   "execution_count": 29,
   "metadata": {},
   "outputs": [
    {
     "name": "stdout",
     "output_type": "stream",
     "text": [
      "['1239564', '1239791', '16397', '17539', '18699']\n"
     ]
    }
   ],
   "source": [
    "#extracts all the sensorIDs from the list of sensor directories and adds it to a list\n",
    "sensorIds = []\n",
    "\n",
    "for currentId in sensorDirectory:\n",
    "    sensorIds.append(currentId.split(\"_\")[1])\n",
    "print(sensorIds)"
   ]
  },
  {
   "cell_type": "code",
   "execution_count": 30,
   "metadata": {
    "execution": {
     "iopub.execute_input": "2021-07-26T17:43:24.541190Z",
     "iopub.status.busy": "2021-07-26T17:43:24.541190Z",
     "iopub.status.idle": "2021-07-26T17:43:24.552190Z",
     "shell.execute_reply": "2021-07-26T17:43:24.551190Z"
    }
   },
   "outputs": [
    {
     "name": "stdout",
     "output_type": "stream",
     "text": [
      "['\\\\sensor_1239564', '\\\\sensor_1239791', '\\\\sensor_16397', '\\\\sensor_17539', '\\\\sensor_18699']\n"
     ]
    }
   ],
   "source": [
    "sensorPaths = []\n",
    "\n",
    "for snum in sensorIds:\n",
    "    sensorPaths.append(\"\\sensor_\"  + snum)\n",
    "print(sensorPaths)\n",
    "\n",
    "#sensorPaths.append(\"\\sensor_\"  + str((sensors.loc[int(snum), :][1])))"
   ]
  },
  {
   "cell_type": "code",
   "execution_count": 31,
   "metadata": {
    "execution": {
     "iopub.execute_input": "2021-07-26T17:43:24.815286Z",
     "iopub.status.busy": "2021-07-26T17:43:24.815286Z",
     "iopub.status.idle": "2021-07-26T17:43:24.830911Z",
     "shell.execute_reply": "2021-07-26T17:43:24.830911Z"
    }
   },
   "outputs": [
    {
     "name": "stdout",
     "output_type": "stream",
     "text": [
      "['.\\\\data\\\\flow\\\\task_206_1629981045\\\\sensor_1239564', '.\\\\data\\\\flow\\\\task_206_1629981045\\\\sensor_1239791', '.\\\\data\\\\flow\\\\task_206_1629981045\\\\sensor_16397', '.\\\\data\\\\flow\\\\task_206_1629981045\\\\sensor_17539', '.\\\\data\\\\flow\\\\task_206_1629981045\\\\sensor_18699']\n"
     ]
    }
   ],
   "source": [
    "sensorPath = []\n",
    "for i in sensorPaths:\n",
    "    sensorPath.append(os.path.join(directory + i))\n",
    "print(sensorPath)"
   ]
  },
  {
   "cell_type": "code",
   "execution_count": 32,
   "metadata": {
    "execution": {
     "iopub.execute_input": "2021-07-26T17:43:24.830911Z",
     "iopub.status.busy": "2021-07-26T17:43:24.830911Z",
     "iopub.status.idle": "2021-07-26T17:43:24.846538Z",
     "shell.execute_reply": "2021-07-26T17:43:24.846538Z"
    }
   },
   "outputs": [
    {
     "name": "stdout",
     "output_type": "stream",
     "text": [
      "{'1239564': '.\\\\data\\\\flow\\\\task_206_1629981045\\\\sensor_1239564\\\\user_measures_20210805_20210824_1.csv', '1239791': '.\\\\data\\\\flow\\\\task_206_1629981045\\\\sensor_1239791\\\\user_measures_20210806_20210824_1.csv', '16397': '.\\\\data\\\\flow\\\\task_206_1629981045\\\\sensor_16397\\\\sensor_measures_20210805_20210824_1.csv', '17539': '.\\\\data\\\\flow\\\\task_206_1629981045\\\\sensor_17539\\\\sensor_measures_20210806_20210824_1.csv', '18699': '.\\\\data\\\\flow\\\\task_206_1629981045\\\\sensor_18699\\\\sensor_measures_20210731_20210824_1.csv'}\n"
     ]
    }
   ],
   "source": [
    "csvPaths = []\n",
    "\n",
    "for i in sensorPath:\n",
    "    with os.scandir(i) as listOfFiles:\n",
    "        for currentFile in listOfFiles:\n",
    "            # get all files that are csv\n",
    "            if currentFile.is_file() and currentFile.name.endswith('csv') :\n",
    "                csvPaths.append(os.path.join(i,currentFile.name)) \n",
    "        \n",
    "#map serial number to filepaths\n",
    "sensorPaths = {k:v for k,v in zip(sensorIds,csvPaths)}\n",
    "print(sensorPaths)"
   ]
  },
  {
   "cell_type": "markdown",
   "metadata": {},
   "source": [
    "# Passing the CSV paths into another notebook"
   ]
  },
  {
   "cell_type": "code",
   "execution_count": 33,
   "metadata": {
    "execution": {
     "iopub.execute_input": "2021-07-26T17:43:24.846538Z",
     "iopub.status.busy": "2021-07-26T17:43:24.846538Z",
     "iopub.status.idle": "2021-07-26T17:43:24.862163Z",
     "shell.execute_reply": "2021-07-26T17:43:24.862163Z"
    }
   },
   "outputs": [
    {
     "name": "stdout",
     "output_type": "stream",
     "text": [
      "Stored 'sensorPaths' (dict)\n",
      "Stored 'sensorIds' (list)\n"
     ]
    }
   ],
   "source": [
    "%store sensorPaths\n",
    "%store sensorIds"
   ]
  },
  {
   "cell_type": "code",
   "execution_count": null,
   "metadata": {},
   "outputs": [],
   "source": []
  }
 ],
 "metadata": {
  "interpreter": {
   "hash": "58e6f625ba2c43b7fc3c95c61d4ef7749e639023949ab2a4f0956b7241794ddb"
  },
  "kernelspec": {
   "display_name": "Python 3",
   "language": "python",
   "name": "python3"
  },
  "language_info": {
   "codemirror_mode": {
    "name": "ipython",
    "version": 3
   },
   "file_extension": ".py",
   "mimetype": "text/x-python",
   "name": "python",
   "nbconvert_exporter": "python",
   "pygments_lexer": "ipython3",
   "version": "3.8.5"
  }
 },
 "nbformat": 4,
 "nbformat_minor": 5
}
