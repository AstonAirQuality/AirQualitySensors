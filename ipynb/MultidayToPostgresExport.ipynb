{
 "cells": [
  {
   "cell_type": "markdown",
   "source": [
    "# Extracting data from csvs"
   ],
   "metadata": {}
  },
  {
   "cell_type": "code",
   "execution_count": 1,
   "source": [
    "%store -r sensorIds\r\n",
    "print(sensorIds)"
   ],
   "outputs": [
    {
     "output_type": "stream",
     "name": "stdout",
     "text": [
      "['18699', '18720', '18749']\n"
     ]
    }
   ],
   "metadata": {}
  },
  {
   "cell_type": "code",
   "execution_count": 2,
   "source": [
    "#temporary reassigning of paths (since plume dashboard not working)\r\n",
    "\r\n",
    "# we need two dictionaries (one for measurements and one for location)\r\n",
    "measure_dictionary = {}\r\n",
    "location_dictionary = {}\r\n",
    "\r\n",
    "sensorPaths = []\r\n",
    "\r\n",
    "for snum in sensorIds:\r\n",
    "    sensorPaths.append(\"..\\\\data\\\\flow\\\\temp\\\\sensor_\"  + snum)\r\n",
    "print(sensorPaths)\r\n"
   ],
   "outputs": [
    {
     "output_type": "stream",
     "name": "stdout",
     "text": [
      "['..\\\\data\\\\flow\\\\temp\\\\sensor_18699', '..\\\\data\\\\flow\\\\temp\\\\sensor_18720', '..\\\\data\\\\flow\\\\temp\\\\sensor_18749']\n"
     ]
    }
   ],
   "metadata": {}
  },
  {
   "cell_type": "code",
   "execution_count": 3,
   "source": [
    "import pandas as pd\r\n",
    "import numpy as np\r\n",
    "import psycopg2\r\n",
    "from datetime import datetime\r\n",
    "from datetime import timezone\r\n",
    "import os"
   ],
   "outputs": [],
   "metadata": {}
  },
  {
   "cell_type": "code",
   "execution_count": 4,
   "source": [
    "csvMeasurementsPath = []\r\n",
    "csvPostionsPath = []\r\n",
    "\r\n",
    "for i in sensorPaths:\r\n",
    "    with os.scandir(i) as listOfFiles:\r\n",
    "        for currentFile in listOfFiles:\r\n",
    "            # get all files that are csv\r\n",
    "            if currentFile.is_file() and currentFile.name.endswith('csv'):\r\n",
    "                 if \"positions\" not in currentFile.name:\r\n",
    "                    csvMeasurementsPath.append(os.path.join(i,currentFile.name)) \r\n",
    "                 else:\r\n",
    "                    csvPostionsPath.append(os.path.join(i,currentFile.name)) "
   ],
   "outputs": [],
   "metadata": {}
  },
  {
   "cell_type": "code",
   "execution_count": 5,
   "source": [
    "#map sensor id to filepaths\r\n",
    "measurement_dictionary = {k:v for k,v in zip(sensorIds,csvMeasurementsPath)}\r\n",
    "location_dictionary = {k:v for k,v in zip(sensorIds,csvPostionsPath)}\r\n",
    "print(measurement_dictionary)\r\n",
    "print(location_dictionary)"
   ],
   "outputs": [
    {
     "output_type": "stream",
     "name": "stdout",
     "text": [
      "{'18699': '..\\\\data\\\\flow\\\\temp\\\\sensor_18699\\\\user_measures.csv', '18720': '..\\\\data\\\\flow\\\\temp\\\\sensor_18720\\\\user_measures.csv', '18749': '..\\\\data\\\\flow\\\\temp\\\\sensor_18749\\\\user_measures.csv'}\n",
      "{'18699': '..\\\\data\\\\flow\\\\temp\\\\sensor_18699\\\\user_positions.csv', '18720': '..\\\\data\\\\flow\\\\temp\\\\sensor_18720\\\\user_positions.csv', '18749': '..\\\\data\\\\flow\\\\temp\\\\sensor_18749\\\\user_positions.csv'}\n"
     ]
    }
   ],
   "metadata": {
    "scrolled": true
   }
  },
  {
   "cell_type": "markdown",
   "source": [
    "# ...."
   ],
   "metadata": {}
  },
  {
   "cell_type": "code",
   "execution_count": 6,
   "source": [
    "#bringing the csv to pandas dataframes\r\n",
    "#put the dataframes into a dictionary with the sensor id as the key\r\n",
    "for key in sensorIds:\r\n",
    "    locations = {} #intialise empty dictionary to store each day of locations\r\n",
    "    \r\n",
    "    df_temp = pd.read_csv(location_dictionary[key],parse_dates=True, index_col=\"timestamp\")\r\n",
    "\r\n",
    "    #convert index from float to int\r\n",
    "    df_temp.index = df_temp.index.astype(int,copy=False)\r\n",
    "\r\n",
    "    \r\n",
    "    # try using the dates which are already supplied. \r\n",
    "    # This strategy in the line below converts them and rounds down to date using 'd' flag\r\n",
    "    # df_temp['day'] = pd.to_datetime(df_temp['date'], errors='coerce').dt.floor('d')\r\n",
    "    # However, they are still datetimes so there is still a time - it's just been rounded down to zero, \r\n",
    "    # e.g. '2021-07-17T00:00:00.000000000'\r\n",
    "    # This strategy (line below) really will keep just the date\r\n",
    "    df_temp['day'] = pd.to_datetime(df_temp['date'], dayfirst=True, errors='coerce').dt.date\r\n",
    "\r\n",
    "    the_unique_dates = df_temp['day'].unique()\r\n",
    "    #print('Unique dates:',the_unique_dates)\r\n",
    "    # this gives the same result as the for loop below\r\n",
    "  \r\n",
    "    #splitting the dataframe into separate days\r\n",
    "    #for each day in unique dates set:\r\n",
    "    for day in the_unique_dates:\r\n",
    "        try:\r\n",
    "            # In my code below I assign the subset of records to a new dataframe called dft\r\n",
    "            # create 'midnight' timestamps\r\n",
    "            timestampKey = int((pd.to_datetime(day, errors='coerce')).timestamp())\r\n",
    "\r\n",
    "            # select the records for this day\r\n",
    "            dft = df_temp[df_temp['day']==day]\r\n",
    "\r\n",
    "            # #drop the date column to save space (we don't need this anymore)\r\n",
    "            dft = dft.drop(\"date\", axis=1)\r\n",
    "            dft = dft.drop(\"day\", axis=1)\r\n",
    "\r\n",
    "            locations[timestampKey] = dft\r\n",
    "        except KeyError as e:\r\n",
    "            print(e)\r\n",
    "    #assign new value to the locations dictionary, so it is associated in key-value pair with its coressponding sensorid\r\n",
    "    location_dictionary[key] = locations\r\n"
   ],
   "outputs": [],
   "metadata": {}
  },
  {
   "cell_type": "code",
   "execution_count": 7,
   "source": [
    "total = 0\r\n",
    "for key in location_dictionary:\r\n",
    "    for timestampKey in location_dictionary[key]:\r\n",
    "      df_temp = location_dictionary[key][timestampKey]\r\n",
    "      total += len(df_temp.index.values)\r\n",
    "    print(\"sensor: \"  + str(key) + \"_total:\" + str(total))\r\n",
    "    total = 0 #reset the total\r\n",
    "\r\n",
    "print(\"\\n\")\r\n",
    "\r\n",
    "test = {k:v for k,v in zip(sensorIds,csvPostionsPath)}\r\n",
    "for key in sensorIds:\r\n",
    "    df_temp = pd.read_csv(test[key],parse_dates=True, index_col=\"timestamp\")\r\n",
    "    print(\"sensor: \"  + str(key) + \"_total:\" + str(len(df_temp.index.values)))\r\n"
   ],
   "outputs": [
    {
     "output_type": "stream",
     "name": "stdout",
     "text": [
      "sensor: 18699_total:5139\n",
      "sensor: 18720_total:449\n",
      "sensor: 18749_total:1113\n",
      "\n",
      "\n",
      "sensor: 18699_total:5139\n",
      "sensor: 18720_total:449\n",
      "sensor: 18749_total:1113\n"
     ]
    }
   ],
   "metadata": {}
  },
  {
   "cell_type": "code",
   "execution_count": 8,
   "source": [
    "#bringing the csv to pandas dataframes\r\n",
    "#put the dataframes into a dictionary with the sensor id as the key\r\n",
    "for key in sensorIds:\r\n",
    "\r\n",
    "    measurements = {} #intialse empty dictioanry to store each day of measurements\r\n",
    "\r\n",
    "    df_temp = pd.read_csv(measurement_dictionary[key],parse_dates=True, index_col=\"timestamp\")\r\n",
    "\r\n",
    "    #convert index from float to int\r\n",
    "    df_temp.index = df_temp.index.astype(int,copy=False)\r\n",
    "\r\n",
    "    #make a new day column to store the datetime.date of each record\r\n",
    "    df_temp['day'] = pd.to_datetime(df_temp['date (UTC)'], dayfirst=True, errors='coerce').dt.date\r\n",
    "   \r\n",
    "   \r\n",
    "    the_unique_dates = df_temp['day'].unique()\r\n",
    "\r\n",
    "    #splitting the dataframe into separate days\r\n",
    "    #for each day in unique dates set:\r\n",
    "    for day in the_unique_dates:\r\n",
    "        try:\r\n",
    "            # In my code below I assign the subset of records to a new dataframe called dft\r\n",
    "            # create 'midnight' timestamps\r\n",
    "            timestampKey = int((pd.to_datetime(day, errors='coerce')).timestamp())\r\n",
    "\r\n",
    "            # select the records for this day\r\n",
    "            dft = df_temp[df_temp['day']==day]\r\n",
    "\r\n",
    "            # #drop the date column to save space (we don't need this anymore)\r\n",
    "            dft = dft.drop(\"date (UTC)\", axis=1)\r\n",
    "            dft = dft.drop(\"day\", axis=1)\r\n",
    "            \r\n",
    "            measurements[timestampKey] = dft\r\n",
    "\r\n",
    "        except KeyError as e:\r\n",
    "            print(e)\r\n",
    "\r\n",
    "    measurement_dictionary[key] = measurements #clear dataframe\r\n",
    "    \r\n",
    "    #print(df_temp['day'])\r\n"
   ],
   "outputs": [],
   "metadata": {}
  },
  {
   "cell_type": "code",
   "execution_count": 9,
   "source": [
    "total = 0\r\n",
    "for key in measurement_dictionary:\r\n",
    "    for timestampKey in measurement_dictionary[key]:\r\n",
    "        df_temp = measurement_dictionary[key][timestampKey]\r\n",
    "        total += len(df_temp.index.values)\r\n",
    "    print(\"sensor: \"  + str(key) + \"_total:\" + str(total))\r\n",
    "    total = 0 #reset the total\r\n",
    "\r\n",
    "print(\"\\n\")\r\n",
    "\r\n",
    "test = {k:v for k,v in zip(sensorIds,csvMeasurementsPath)}\r\n",
    "for key in sensorIds:\r\n",
    "    df_temp = pd.read_csv(test[key],parse_dates=True, index_col=\"timestamp\")\r\n",
    "    print(\"sensor: \"  + str(key) + \"_total:\" + str(len(df_temp.index.values)))"
   ],
   "outputs": [
    {
     "output_type": "stream",
     "name": "stdout",
     "text": [
      "sensor: 18699_total:25507\n",
      "sensor: 18720_total:16520\n",
      "sensor: 18749_total:27043\n",
      "\n",
      "\n",
      "sensor: 18699_total:25507\n",
      "sensor: 18720_total:16520\n",
      "sensor: 18749_total:27043\n"
     ]
    }
   ],
   "metadata": {}
  },
  {
   "cell_type": "markdown",
   "source": [
    "# Preparing data for upload into PostGres"
   ],
   "metadata": {}
  },
  {
   "cell_type": "code",
   "execution_count": 10,
   "source": [
    "sensor_summaries = {}\r\n",
    "sensor_data = {}\r\n",
    "\r\n",
    "for key in sensorIds:\r\n",
    "\r\n",
    "    ldf = mdf =  pd.DataFrame\r\n",
    "    geometry_string = \"\"\r\n",
    "    timestamp_sensor_key = \"\"\r\n",
    "\r\n",
    "    #we can look into either dictioanry as they both share the same time range.\r\n",
    "    for timestampKey in location_dictionary[key]:\r\n",
    "   \r\n",
    "        # concatenating numbers into text: \r\n",
    "        timestamp_sensor_key = \"%s_%s\" % (timestampKey, key)\r\n",
    "\r\n",
    "        #try get location dataframe\r\n",
    "        try:\r\n",
    "            #location dataframe\r\n",
    "            ldf = location_dictionary[key][timestampKey]\r\n",
    "\r\n",
    "            #create bounding box polygon\r\n",
    "            min_y= ldf['longitude'].min()\r\n",
    "            max_y = ldf['longitude'].max()\r\n",
    "\r\n",
    "            min_x= ldf['latitude'].min()\r\n",
    "            max_x = ldf['latitude'].max()\r\n",
    "            #POLYGON(minx miny, minx Maxy, maxx Maxy, maxx miny, minx miny)\r\n",
    "            geometry_string = \"POLYGON(({} {}, {} {}, {} {}, {} {},{} {}))\".format(min_x,min_y,   min_x,max_y,   max_x,max_y,   max_x,min_y,   min_x,min_y)\r\n",
    "        except Exception as e:\r\n",
    "            print('The dataframe is empty therefore no bounding box will be applied :{0}'.format(e))\r\n",
    "        \r\n",
    "        # try get measurement dataframe\r\n",
    "        try:\r\n",
    "            #measurement dataframe\r\n",
    "            mdf = measurement_dictionary[key][timestampKey] \r\n",
    "        except Exception as e:\r\n",
    "            print('The measurement dataframe is empty. check csv files :{0}'.format(e))\r\n",
    "\r\n",
    "\r\n",
    "        #summaryArray = [timestamp_start,sensor_id,bouding_box,measurement_count]\r\n",
    "        summaryArray = [timestampKey,int(key),geometry_string,len(mdf.index.values)] #inserting row into temp array\r\n",
    "        sensor_summaries[timestamp_sensor_key] = summaryArray    #assign new dataframe to coressponding key\r\n",
    "\r\n",
    "        #dataArray = [id, mesaurement_json,location_json]\r\n",
    "        dataArray = [mdf.to_json(orient=\"columns\"),ldf.to_json(orient=\"columns\")]     #dataArray = [mdf.to_json('./{}.json'.format(key),orient=\"columns\"),ldf.to_json(orient=\"columns\")]\r\n",
    "        sensor_data[timestamp_sensor_key] = dataArray    #assign new dataframe to coressponding key    "
   ],
   "outputs": [],
   "metadata": {}
  },
  {
   "cell_type": "code",
   "execution_count": 11,
   "source": [
    "for key in sensor_summaries:\r\n",
    "    mdf = sensor_summaries[key]\r\n",
    "    print(mdf)\r\n",
    "    break"
   ],
   "outputs": [
    {
     "output_type": "stream",
     "name": "stdout",
     "text": [
      "[1626480000, 18699, 'POLYGON((-1.908207 52.4491, -1.908207 52.586137, -1.839111 52.586137, -1.839111 52.4491,-1.908207 52.4491))', 1086]\n"
     ]
    }
   ],
   "metadata": {}
  },
  {
   "cell_type": "code",
   "execution_count": 12,
   "source": [
    "# for key in sensor_data:\r\n",
    "#     mdf = sensor_data[key]\r\n",
    "#     print(type(mdf))\r\n",
    "#     break"
   ],
   "outputs": [],
   "metadata": {}
  },
  {
   "cell_type": "markdown",
   "source": [
    "# Exporting to PostgresSQL \n"
   ],
   "metadata": {}
  },
  {
   "cell_type": "markdown",
   "source": [
    "# Writing records from a Dictionary of arrays to a SQL database\n",
    "loop over all the keys and execute insert query"
   ],
   "metadata": {}
  },
  {
   "cell_type": "code",
   "execution_count": 13,
   "source": [
    "#Connecting to an existing database\r\n",
    "con = psycopg2.connect(\r\n",
    "    host=\"localhost\",\r\n",
    "    database=\"airQuality\",\r\n",
    "    user=\"Riyad\", \r\n",
    "    password=\"123\",\r\n",
    "    # attempt to connect for 3 seconds then raise exception\r\n",
    "    connect_timeout = 3)"
   ],
   "outputs": [],
   "metadata": {}
  },
  {
   "cell_type": "code",
   "execution_count": 14,
   "source": [
    "#Opening a cursor to execute database operations\r\n",
    "cursor = con.cursor()\r\n",
    "query = \"SELECT * FROM sensor_network.sensors\"\r\n",
    "#change dataframe to csv and save file\r\n",
    "sensorsdf = pd.read_sql_query(query, con, index_col='plume_id')\r\n",
    "\r\n",
    "cursor.close()"
   ],
   "outputs": [],
   "metadata": {}
  },
  {
   "cell_type": "code",
   "execution_count": 15,
   "source": [
    "sensorsdf.head()"
   ],
   "outputs": [
    {
     "output_type": "execute_result",
     "data": {
      "text/plain": [
       "         sensor_serial_number  id  type_id\n",
       "plume_id                                  \n",
       "17539       02:00:00:00:43:8b   1        1\n",
       "19115       02:00:00:00:49:b3   2        1\n",
       "17521       02:00:00:00:43:79   3        1\n",
       "16397       02:00:00:00:3f:15   4        1\n",
       "16701       02:00:00:00:40:45   5        1"
      ],
      "text/html": [
       "<div>\n",
       "<style scoped>\n",
       "    .dataframe tbody tr th:only-of-type {\n",
       "        vertical-align: middle;\n",
       "    }\n",
       "\n",
       "    .dataframe tbody tr th {\n",
       "        vertical-align: top;\n",
       "    }\n",
       "\n",
       "    .dataframe thead th {\n",
       "        text-align: right;\n",
       "    }\n",
       "</style>\n",
       "<table border=\"1\" class=\"dataframe\">\n",
       "  <thead>\n",
       "    <tr style=\"text-align: right;\">\n",
       "      <th></th>\n",
       "      <th>sensor_serial_number</th>\n",
       "      <th>id</th>\n",
       "      <th>type_id</th>\n",
       "    </tr>\n",
       "    <tr>\n",
       "      <th>plume_id</th>\n",
       "      <th></th>\n",
       "      <th></th>\n",
       "      <th></th>\n",
       "    </tr>\n",
       "  </thead>\n",
       "  <tbody>\n",
       "    <tr>\n",
       "      <th>17539</th>\n",
       "      <td>02:00:00:00:43:8b</td>\n",
       "      <td>1</td>\n",
       "      <td>1</td>\n",
       "    </tr>\n",
       "    <tr>\n",
       "      <th>19115</th>\n",
       "      <td>02:00:00:00:49:b3</td>\n",
       "      <td>2</td>\n",
       "      <td>1</td>\n",
       "    </tr>\n",
       "    <tr>\n",
       "      <th>17521</th>\n",
       "      <td>02:00:00:00:43:79</td>\n",
       "      <td>3</td>\n",
       "      <td>1</td>\n",
       "    </tr>\n",
       "    <tr>\n",
       "      <th>16397</th>\n",
       "      <td>02:00:00:00:3f:15</td>\n",
       "      <td>4</td>\n",
       "      <td>1</td>\n",
       "    </tr>\n",
       "    <tr>\n",
       "      <th>16701</th>\n",
       "      <td>02:00:00:00:40:45</td>\n",
       "      <td>5</td>\n",
       "      <td>1</td>\n",
       "    </tr>\n",
       "  </tbody>\n",
       "</table>\n",
       "</div>"
      ]
     },
     "metadata": {},
     "execution_count": 15
    }
   ],
   "metadata": {}
  },
  {
   "cell_type": "code",
   "execution_count": 17,
   "source": [
    "for key in sensor_summaries:\r\n",
    "\r\n",
    "    #split key to get only sensorid\r\n",
    "    s = key.split('_')[1]\r\n",
    "    #get the new key from sensors table\r\n",
    "    sensor_id = sensorsdf.loc[int(s)][1]\r\n",
    "\r\n",
    "    mdf = sensor_summaries[key]\r\n",
    "    ldf = sensor_data[key]\r\n",
    "\r\n",
    "    try:\r\n",
    "        #Opening a cursor to execute database operations\r\n",
    "        cursor = con.cursor()\r\n",
    "\r\n",
    "        #inserting sensor data and return the id of new record\r\n",
    "        cursor.execute(\"INSERT INTO sensor_data.archive_measurements (measurements,locations) VALUES(%s, %s) \\n RETURNING id\", (str(ldf[0]),str(ldf[1])) )\r\n",
    "        con.commit() \r\n",
    "        \r\n",
    "        #set id of new record into local variable\r\n",
    "        sensor_data_id = cursor.fetchone()[0]\r\n",
    "\r\n",
    "        #inserting sensor summary\r\n",
    "        cursor.execute(\"INSERT INTO sensor_network.sensor_summaries (timestamp_start, sensor_id, b_box, sensor_data_id, measurement_count) VALUES(%s, %s, %s, %s, %s)\", (int(mdf[0]), int(sensor_id),str(mdf[2]),int(sensor_data_id),int(mdf[3])))\r\n",
    "        con.commit() \r\n",
    "\r\n",
    "        cursor.close()\r\n",
    "    #if table name does not exist exit loop \r\n",
    "    except(psycopg2.errors.UndefinedTable) as error:\r\n",
    "        print('ERROR: ' + error)\r\n",
    "        break"
   ],
   "outputs": [
    {
     "output_type": "error",
     "ename": "IndexError",
     "evalue": "tuple index out of range",
     "traceback": [
      "\u001b[1;31m---------------------------------------------------------------------------\u001b[0m",
      "\u001b[1;31mIndexError\u001b[0m                                Traceback (most recent call last)",
      "\u001b[1;32m<ipython-input-17-d844ffab1375>\u001b[0m in \u001b[0;36m<module>\u001b[1;34m\u001b[0m\n\u001b[0;32m     21\u001b[0m \u001b[1;33m\u001b[0m\u001b[0m\n\u001b[0;32m     22\u001b[0m         \u001b[1;31m#inserting sensor summary\u001b[0m\u001b[1;33m\u001b[0m\u001b[1;33m\u001b[0m\u001b[1;33m\u001b[0m\u001b[0m\n\u001b[1;32m---> 23\u001b[1;33m         \u001b[0mcursor\u001b[0m\u001b[1;33m.\u001b[0m\u001b[0mexecute\u001b[0m\u001b[1;33m(\u001b[0m\u001b[1;34m\"INSERT INTO sensor_network.sensor_summaries (timestamp_start, sensor_id, b_box, sensor_data_id, measurement_count) VALUES(%s, %s, %s, %s, %s, %s)\"\u001b[0m\u001b[1;33m,\u001b[0m \u001b[1;33m(\u001b[0m\u001b[0mint\u001b[0m\u001b[1;33m(\u001b[0m\u001b[0mmdf\u001b[0m\u001b[1;33m[\u001b[0m\u001b[1;36m0\u001b[0m\u001b[1;33m]\u001b[0m\u001b[1;33m)\u001b[0m\u001b[1;33m,\u001b[0m \u001b[0mint\u001b[0m\u001b[1;33m(\u001b[0m\u001b[0msensor_id\u001b[0m\u001b[1;33m)\u001b[0m\u001b[1;33m,\u001b[0m\u001b[0mstr\u001b[0m\u001b[1;33m(\u001b[0m\u001b[0mmdf\u001b[0m\u001b[1;33m[\u001b[0m\u001b[1;36m2\u001b[0m\u001b[1;33m]\u001b[0m\u001b[1;33m)\u001b[0m\u001b[1;33m,\u001b[0m\u001b[0mint\u001b[0m\u001b[1;33m(\u001b[0m\u001b[0msensor_data_id\u001b[0m\u001b[1;33m)\u001b[0m\u001b[1;33m,\u001b[0m\u001b[0mint\u001b[0m\u001b[1;33m(\u001b[0m\u001b[0mmdf\u001b[0m\u001b[1;33m[\u001b[0m\u001b[1;36m3\u001b[0m\u001b[1;33m]\u001b[0m\u001b[1;33m)\u001b[0m\u001b[1;33m)\u001b[0m\u001b[1;33m)\u001b[0m\u001b[1;33m\u001b[0m\u001b[1;33m\u001b[0m\u001b[0m\n\u001b[0m\u001b[0;32m     24\u001b[0m         \u001b[0mcon\u001b[0m\u001b[1;33m.\u001b[0m\u001b[0mcommit\u001b[0m\u001b[1;33m(\u001b[0m\u001b[1;33m)\u001b[0m\u001b[1;33m\u001b[0m\u001b[1;33m\u001b[0m\u001b[0m\n\u001b[0;32m     25\u001b[0m \u001b[1;33m\u001b[0m\u001b[0m\n",
      "\u001b[1;31mIndexError\u001b[0m: tuple index out of range"
     ]
    }
   ],
   "metadata": {}
  },
  {
   "cell_type": "code",
   "execution_count": null,
   "source": [
    "#closing the connection\r\n",
    "con.close()"
   ],
   "outputs": [],
   "metadata": {}
  },
  {
   "cell_type": "markdown",
   "source": [],
   "metadata": {}
  }
 ],
 "metadata": {
  "interpreter": {
   "hash": "58e6f625ba2c43b7fc3c95c61d4ef7749e639023949ab2a4f0956b7241794ddb"
  },
  "kernelspec": {
   "name": "python3",
   "display_name": "Python 3.8.8 64-bit ('base': conda)"
  },
  "language_info": {
   "codemirror_mode": {
    "name": "ipython",
    "version": 3
   },
   "file_extension": ".py",
   "mimetype": "text/x-python",
   "name": "python",
   "nbconvert_exporter": "python",
   "pygments_lexer": "ipython3",
   "version": "3.8.8"
  }
 },
 "nbformat": 4,
 "nbformat_minor": 2
}