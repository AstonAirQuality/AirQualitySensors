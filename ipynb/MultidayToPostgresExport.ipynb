{
 "cells": [
  {
   "cell_type": "markdown",
   "source": [
    "# Extracting data from csvs"
   ],
   "metadata": {}
  },
  {
   "cell_type": "code",
   "execution_count": 1,
   "source": [
    "%store -r sensorIds\r\n",
    "print(sensorIds)"
   ],
   "outputs": [
    {
     "output_type": "stream",
     "name": "stdout",
     "text": [
      "['18699', '18720', '18749']\n"
     ]
    }
   ],
   "metadata": {}
  },
  {
   "cell_type": "code",
   "execution_count": 2,
   "source": [
    "#temporary reassigning of paths (since plume dashboard not working)\r\n",
    "\r\n",
    "# we need two dictionaries (one for measurements and one for location)\r\n",
    "measure_dictionary = {}\r\n",
    "location_dictionary = {}\r\n",
    "\r\n",
    "sensorPaths = []\r\n",
    "\r\n",
    "for snum in sensorIds:\r\n",
    "    sensorPaths.append(\"..\\\\data\\\\flow\\\\temp\\\\sensor_\"  + snum)\r\n",
    "print(sensorPaths)\r\n"
   ],
   "outputs": [
    {
     "output_type": "stream",
     "name": "stdout",
     "text": [
      "['..\\\\data\\\\flow\\\\temp\\\\sensor_18699', '..\\\\data\\\\flow\\\\temp\\\\sensor_18720', '..\\\\data\\\\flow\\\\temp\\\\sensor_18749']\n"
     ]
    }
   ],
   "metadata": {}
  },
  {
   "cell_type": "code",
   "execution_count": 3,
   "source": [
    "import pandas as pd\r\n",
    "import numpy as np\r\n",
    "import psycopg2\r\n",
    "from datetime import datetime\r\n",
    "from datetime import timezone\r\n",
    "import os"
   ],
   "outputs": [],
   "metadata": {}
  },
  {
   "cell_type": "code",
   "execution_count": 4,
   "source": [
    "csvMeasurementsPath = []\r\n",
    "csvPostionsPath = []\r\n",
    "\r\n",
    "for i in sensorPaths:\r\n",
    "    with os.scandir(i) as listOfFiles:\r\n",
    "        for currentFile in listOfFiles:\r\n",
    "            # get all files that are csv\r\n",
    "            if currentFile.is_file() and currentFile.name.endswith('csv'):\r\n",
    "                 if \"positions\" not in currentFile.name:\r\n",
    "                    csvMeasurementsPath.append(os.path.join(i,currentFile.name)) \r\n",
    "                 else:\r\n",
    "                    csvPostionsPath.append(os.path.join(i,currentFile.name)) "
   ],
   "outputs": [],
   "metadata": {}
  },
  {
   "cell_type": "code",
   "execution_count": 5,
   "source": [
    "#map sensor id to filepaths\r\n",
    "measurement_dictionary = {k:v for k,v in zip(sensorIds,csvMeasurementsPath)}\r\n",
    "location_dictionary = {k:v for k,v in zip(sensorIds,csvPostionsPath)}\r\n",
    "print(measurement_dictionary)\r\n",
    "print(location_dictionary)"
   ],
   "outputs": [
    {
     "output_type": "stream",
     "name": "stdout",
     "text": [
      "{'18699': '..\\\\data\\\\flow\\\\temp\\\\sensor_18699\\\\user_measures.csv', '18720': '..\\\\data\\\\flow\\\\temp\\\\sensor_18720\\\\user_measures.csv', '18749': '..\\\\data\\\\flow\\\\temp\\\\sensor_18749\\\\user_measures.csv'}\n",
      "{'18699': '..\\\\data\\\\flow\\\\temp\\\\sensor_18699\\\\user_positions.csv', '18720': '..\\\\data\\\\flow\\\\temp\\\\sensor_18720\\\\user_positions.csv', '18749': '..\\\\data\\\\flow\\\\temp\\\\sensor_18749\\\\user_positions.csv'}\n"
     ]
    }
   ],
   "metadata": {
    "scrolled": true
   }
  },
  {
   "cell_type": "markdown",
   "source": [
    "# ...."
   ],
   "metadata": {}
  },
  {
   "cell_type": "code",
   "execution_count": 6,
   "source": [
    "#bringing the csv to pandas dataframes\r\n",
    "#put the dataframes into a dictionary with the sensor id as the key\r\n",
    "for key in sensorIds:\r\n",
    "    locations = {} #intialise empty dictionary to store each day of locations\r\n",
    "    \r\n",
    "    df_temp = pd.read_csv(location_dictionary[key],parse_dates=True, index_col=\"timestamp\")\r\n",
    "\r\n",
    "    #convert index from float to int\r\n",
    "    df_temp.index = df_temp.index.astype(int,copy=False)\r\n",
    "\r\n",
    "    \r\n",
    "    # try using the dates which are already supplied. \r\n",
    "    # This strategy in the line below converts them and rounds down to date using 'd' flag\r\n",
    "    # df_temp['day'] = pd.to_datetime(df_temp['date'], errors='coerce').dt.floor('d')\r\n",
    "    # However, they are still datetimes so there is still a time - it's just been rounded down to zero, \r\n",
    "    # e.g. '2021-07-17T00:00:00.000000000'\r\n",
    "    # This strategy (line below) really will keep just the date\r\n",
    "    df_temp['day'] = pd.to_datetime(df_temp['date'], dayfirst=True, errors='coerce').dt.date\r\n",
    "\r\n",
    "    the_unique_dates = df_temp['day'].unique()\r\n",
    "    #print('Unique dates:',the_unique_dates)\r\n",
    "    # this gives the same result as the for loop below\r\n",
    "  \r\n",
    "    #splitting the dataframe into separate days\r\n",
    "    #for each day in unique dates set:\r\n",
    "    for day in the_unique_dates:\r\n",
    "        try:\r\n",
    "            # In my code below I assign the subset of records to a new dataframe called dft\r\n",
    "            # create 'midnight' timestamps\r\n",
    "            st = pd.to_datetime(day, errors='coerce')\r\n",
    "            # add one day to this midnight\r\n",
    "            et = st + pd.DateOffset(1)\r\n",
    "            # cast both to integers to make neat keys\r\n",
    "            sts = int(st.timestamp())\r\n",
    "            ets = int(et.timestamp())\r\n",
    "            #print(sts, ets)\r\n",
    "\r\n",
    "            # concatenating numbers into text: \r\n",
    "            timestampKey = \"%d_%d\" % (sts, ets)\r\n",
    "                \r\n",
    "            # select the records for this day\r\n",
    "            dft = df_temp[df_temp['day']==day]\r\n",
    "\r\n",
    "            # #drop the date column to save space (we don't need this anymore)\r\n",
    "            # dft.drop(\"date\", axis=1, inplace=True)\r\n",
    "            locations[timestampKey] = dft\r\n",
    "        except (KeyError):\r\n",
    "            print(KeyError)\r\n",
    "    #assign new value to the locations dictionary, so it is associated in key-value pair with its coressponding sensorid\r\n",
    "    location_dictionary[key] = locations\r\n"
   ],
   "outputs": [],
   "metadata": {}
  },
  {
   "cell_type": "code",
   "execution_count": 7,
   "source": [
    "total = 0\r\n",
    "for key in location_dictionary:\r\n",
    "    for timestampKey in location_dictionary[key]:\r\n",
    "      df_temp = location_dictionary[key][timestampKey]\r\n",
    "      df_temp.drop(\"date\", axis=1, inplace=True)\r\n",
    "      df_temp.drop(\"day\", axis=1, inplace=True)\r\n",
    "      total += len(df_temp.index.values)\r\n",
    "    print(\"sensor: \"  + str(key) + \"_total:\" + str(total))\r\n",
    "    total = 0 #reset the total\r\n",
    "\r\n",
    "print(\"\\n\")\r\n",
    "\r\n",
    "test = {k:v for k,v in zip(sensorIds,csvPostionsPath)}\r\n",
    "for key in sensorIds:\r\n",
    "    df_temp = pd.read_csv(test[key],parse_dates=True, index_col=\"timestamp\")\r\n",
    "    print(\"sensor: \"  + str(key) + \"_total:\" + str(len(df_temp.index.values)))\r\n"
   ],
   "outputs": [
    {
     "output_type": "stream",
     "name": "stdout",
     "text": [
      "sensor: 18699_total:5139\n",
      "sensor: 18720_total:449\n",
      "sensor: 18749_total:1113\n",
      "\n",
      "\n",
      "sensor: 18699_total:5139\n",
      "sensor: 18720_total:449\n",
      "sensor: 18749_total:1113\n"
     ]
    }
   ],
   "metadata": {}
  },
  {
   "cell_type": "code",
   "execution_count": 8,
   "source": [
    "#bringing the csv to pandas dataframes\r\n",
    "#put the dataframes into a dictionary with the sensor id as the key\r\n",
    "for key in sensorIds:\r\n",
    "\r\n",
    "    measurements = {} #intialse empty dictioanry to store each day of measurements\r\n",
    "\r\n",
    "    df_temp = pd.read_csv(measurement_dictionary[key],parse_dates=True, index_col=\"timestamp\")\r\n",
    "\r\n",
    "    #convert index from float to int\r\n",
    "    df_temp.index = df_temp.index.astype(int,copy=False)\r\n",
    "\r\n",
    "    #make a new day column to store the datetime.date of each record\r\n",
    "    df_temp['day'] = pd.to_datetime(df_temp['date (UTC)'], dayfirst=True, errors='coerce').dt.date\r\n",
    "   \r\n",
    "   \r\n",
    "    the_unique_dates = df_temp['day'].unique()\r\n",
    "\r\n",
    "    #splitting the dataframe into separate days\r\n",
    "    #for each day in unique dates set:\r\n",
    "    for day in the_unique_dates:\r\n",
    "        try:\r\n",
    "            # In my code below I assign the subset of records to a new dataframe called dft\r\n",
    "            # create 'midnight' timestamps\r\n",
    "            st = pd.to_datetime(day, errors='coerce')\r\n",
    "            # add one day to this midnight\r\n",
    "            et = st + pd.DateOffset(1)\r\n",
    "            # cast both to integers to make neat keys\r\n",
    "            sts = int(st.timestamp())\r\n",
    "            ets = int(et.timestamp())\r\n",
    "            #print(sts, ets)\r\n",
    "\r\n",
    "            # concatenating numbers into text: \r\n",
    "            timestampKey = \"%d_%d\" % (sts, ets)\r\n",
    "                \r\n",
    "            # select the records for this day\r\n",
    "            dft = df_temp[df_temp['day']==day]\r\n",
    "\r\n",
    "            # #drop the date column to save space (we don't need this anymore)\r\n",
    "            # dft.drop(\"date (UTC)\", axis=1, inplace=True)\r\n",
    "            measurements[timestampKey] = dft\r\n",
    "\r\n",
    "        except (KeyError):\r\n",
    "            print(\"...\")\r\n",
    "\r\n",
    "    measurement_dictionary[key] = measurements #clear dataframe\r\n",
    "    \r\n",
    "    #print(df_temp['day'])\r\n",
    "\r\n",
    "   \r\n",
    "\r\n",
    "\r\n"
   ],
   "outputs": [],
   "metadata": {}
  },
  {
   "cell_type": "code",
   "execution_count": 9,
   "source": [
    "total = 0\r\n",
    "for key in measurement_dictionary:\r\n",
    "    for timestampKey in measurement_dictionary[key]:\r\n",
    "        df_temp = measurement_dictionary[key][timestampKey]\r\n",
    "        df_temp.drop(\"date (UTC)\", axis=1, inplace=True)\r\n",
    "        df_temp.drop(\"day\", axis=1, inplace=True)\r\n",
    "        total += len(df_temp.index.values)\r\n",
    "    print(\"sensor: \"  + str(key) + \"_total:\" + str(total))\r\n",
    "    total = 0 #reset the total\r\n",
    "\r\n",
    "print(\"\\n\")\r\n",
    "\r\n",
    "test = {k:v for k,v in zip(sensorIds,csvMeasurementsPath)}\r\n",
    "for key in sensorIds:\r\n",
    "    df_temp = pd.read_csv(test[key],parse_dates=True, index_col=\"timestamp\")\r\n",
    "    print(\"sensor: \"  + str(key) + \"_total:\" + str(len(df_temp.index.values)))"
   ],
   "outputs": [
    {
     "output_type": "stream",
     "name": "stdout",
     "text": [
      "sensor: 18699_total:25507\n",
      "sensor: 18720_total:16520\n",
      "sensor: 18749_total:27043\n",
      "\n",
      "\n",
      "sensor: 18699_total:25507\n",
      "sensor: 18720_total:16520\n",
      "sensor: 18749_total:27043\n"
     ]
    }
   ],
   "metadata": {}
  },
  {
   "cell_type": "code",
   "execution_count": 10,
   "source": [
    "type(df_temp.index.values[0])"
   ],
   "outputs": [
    {
     "output_type": "execute_result",
     "data": {
      "text/plain": [
       "numpy.float64"
      ]
     },
     "metadata": {},
     "execution_count": 10
    }
   ],
   "metadata": {}
  },
  {
   "cell_type": "markdown",
   "source": [
    "# Preparing data for upload into PostGres"
   ],
   "metadata": {}
  },
  {
   "cell_type": "code",
   "execution_count": 11,
   "source": [
    "sensor_summaries = {}\r\n",
    "sensor_data = {}\r\n",
    "\r\n",
    "for key in sensorIds:\r\n",
    "\r\n",
    "    ldf = mdf =  pd.DataFrame\r\n",
    "    geometry_string = \"\"\r\n",
    "    timestamp_sensor_key = \"\"\r\n",
    "\r\n",
    "    #we can look into either dictioanry as they both share the same time range.\r\n",
    "    for timestampKey in location_dictionary[key]:\r\n",
    "\r\n",
    "        #split key to get only sensorid\r\n",
    "        timestamps = timestampKey.split('_')\r\n",
    "        timestamp_start = timestamps[0]\r\n",
    "        timestamp_end = timestamps[1]\r\n",
    "        \r\n",
    "        # concatenating numbers into text: \r\n",
    "        timestamp_sensor_key = \"%s_%s\" % (timestampKey, key)\r\n",
    "\r\n",
    "        #try get location dataframe\r\n",
    "        try:\r\n",
    "            #location dataframe\r\n",
    "            ldf = location_dictionary[key][timestampKey]\r\n",
    "\r\n",
    "            #create bounding box polygon\r\n",
    "            min_y= ldf['longitude'].min()\r\n",
    "            max_y = ldf['longitude'].max()\r\n",
    "\r\n",
    "            min_x= ldf['latitude'].min()\r\n",
    "            max_x = ldf['latitude'].max()\r\n",
    "            #POLYGON(minx miny, minx Maxy, maxx Maxy, maxx miny, minx miny)\r\n",
    "            geometry_string = \"POLYGON(({} {}, {} {}, {} {}, {} {},{} {}))\".format(min_x,min_y,   min_x,max_y,   max_x,max_y,   max_x,min_y,   min_x,min_y)\r\n",
    "        except Exception as e:\r\n",
    "            print('The dataframe is empty therefore no bounding box will be applied :{0}'.format(e))\r\n",
    "        \r\n",
    "        # try get measurement dataframe\r\n",
    "        try:\r\n",
    "            #measurement dataframe\r\n",
    "            mdf = measurement_dictionary[key][timestampKey] \r\n",
    "        except Exception as e:\r\n",
    "            print('The measurement dataframe is empty. check csv files :{0}'.format(e))\r\n",
    "\r\n",
    "\r\n",
    "        #summaryArray = [timestamp_start,timestamp_end,sensor_id,bouding_box,measurement_count]\r\n",
    "        summaryArray = [timestamp_start,timestamp_end,int(key),geometry_string,len(mdf.index.values)] #inserting row into temp array\r\n",
    "        sensor_summaries[timestamp_sensor_key] = summaryArray    #assign new dataframe to coressponding key\r\n",
    "\r\n",
    "        #dataArray = [id, mesaurement_json,location_json]\r\n",
    "        dataArray = [mdf.to_json(orient=\"columns\"),ldf.to_json(orient=\"columns\")]     #dataArray = [mdf.to_json('./{}.json'.format(key),orient=\"columns\"),ldf.to_json(orient=\"columns\")]\r\n",
    "        sensor_data[timestamp_sensor_key] = dataArray    #assign new dataframe to coressponding key    "
   ],
   "outputs": [],
   "metadata": {}
  },
  {
   "cell_type": "code",
   "execution_count": 12,
   "source": [
    "# for key in sensor_summaries:\r\n",
    "#     mdf = sensor_summaries[key]\r\n",
    "#     print(mdf)"
   ],
   "outputs": [],
   "metadata": {}
  },
  {
   "cell_type": "code",
   "execution_count": 13,
   "source": [
    "# for key in sensor_data:\r\n",
    "#     mdf = sensor_data[key]\r\n",
    "#     print(type(mdf))\r\n",
    "#     break"
   ],
   "outputs": [
    {
     "output_type": "stream",
     "name": "stdout",
     "text": [
      "<class 'list'>\n"
     ]
    }
   ],
   "metadata": {}
  },
  {
   "cell_type": "code",
   "execution_count": 14,
   "source": [
    "# # reading the JSON data using json.loads(json string)\r\n",
    "# # converting json dataset from dictionary to dataframe \r\n",
    "# dict_data = json.loads(sensor_data.index.values[0])\r\n",
    "# data = pd.DataFrame.from_dict(dict_data, orient='columns')\r\n",
    "# data.index.rename('timestamp', inplace=True)\r\n",
    "# data.head()"
   ],
   "outputs": [
    {
     "output_type": "error",
     "ename": "NameError",
     "evalue": "name 'json' is not defined",
     "traceback": [
      "\u001b[1;31m---------------------------------------------------------------------------\u001b[0m",
      "\u001b[1;31mNameError\u001b[0m                                 Traceback (most recent call last)",
      "\u001b[1;32m<ipython-input-14-736196bae23f>\u001b[0m in \u001b[0;36m<module>\u001b[1;34m\u001b[0m\n\u001b[0;32m      1\u001b[0m \u001b[1;31m# reading the JSON data using json.loads(json string)\u001b[0m\u001b[1;33m\u001b[0m\u001b[1;33m\u001b[0m\u001b[1;33m\u001b[0m\u001b[0m\n\u001b[0;32m      2\u001b[0m \u001b[1;31m# converting json dataset from dictionary to dataframe\u001b[0m\u001b[1;33m\u001b[0m\u001b[1;33m\u001b[0m\u001b[1;33m\u001b[0m\u001b[0m\n\u001b[1;32m----> 3\u001b[1;33m \u001b[0mdict_data\u001b[0m \u001b[1;33m=\u001b[0m \u001b[0mjson\u001b[0m\u001b[1;33m.\u001b[0m\u001b[0mloads\u001b[0m\u001b[1;33m(\u001b[0m\u001b[0msensor_data\u001b[0m\u001b[1;33m.\u001b[0m\u001b[0mindex\u001b[0m\u001b[1;33m.\u001b[0m\u001b[0mvalues\u001b[0m\u001b[1;33m[\u001b[0m\u001b[1;36m0\u001b[0m\u001b[1;33m]\u001b[0m\u001b[1;33m)\u001b[0m\u001b[1;33m\u001b[0m\u001b[1;33m\u001b[0m\u001b[0m\n\u001b[0m\u001b[0;32m      4\u001b[0m \u001b[0mdata\u001b[0m \u001b[1;33m=\u001b[0m \u001b[0mpd\u001b[0m\u001b[1;33m.\u001b[0m\u001b[0mDataFrame\u001b[0m\u001b[1;33m.\u001b[0m\u001b[0mfrom_dict\u001b[0m\u001b[1;33m(\u001b[0m\u001b[0mdict_data\u001b[0m\u001b[1;33m,\u001b[0m \u001b[0morient\u001b[0m\u001b[1;33m=\u001b[0m\u001b[1;34m'columns'\u001b[0m\u001b[1;33m)\u001b[0m\u001b[1;33m\u001b[0m\u001b[1;33m\u001b[0m\u001b[0m\n\u001b[0;32m      5\u001b[0m \u001b[0mdata\u001b[0m\u001b[1;33m.\u001b[0m\u001b[0mindex\u001b[0m\u001b[1;33m.\u001b[0m\u001b[0mrename\u001b[0m\u001b[1;33m(\u001b[0m\u001b[1;34m'timestamp'\u001b[0m\u001b[1;33m,\u001b[0m \u001b[0minplace\u001b[0m\u001b[1;33m=\u001b[0m\u001b[1;32mTrue\u001b[0m\u001b[1;33m)\u001b[0m\u001b[1;33m\u001b[0m\u001b[1;33m\u001b[0m\u001b[0m\n",
      "\u001b[1;31mNameError\u001b[0m: name 'json' is not defined"
     ]
    }
   ],
   "metadata": {}
  },
  {
   "cell_type": "markdown",
   "source": [
    "# Exporting to PostgresSQL \n"
   ],
   "metadata": {}
  },
  {
   "cell_type": "markdown",
   "source": [
    "# Writing records from a Dictionary of arrays to a SQL database\n",
    "loop over all the keys and execute insert query"
   ],
   "metadata": {}
  },
  {
   "cell_type": "code",
   "execution_count": null,
   "source": [
    "#Connecting to an existing database\r\n",
    "con = psycopg2.connect(\r\n",
    "    host=\"localhost\",\r\n",
    "    database=\"airQuality\",\r\n",
    "    user=\"Riyad\", \r\n",
    "    password=\"123\",\r\n",
    "    # attempt to connect for 3 seconds then raise exception\r\n",
    "    connect_timeout = 3)"
   ],
   "outputs": [],
   "metadata": {}
  },
  {
   "cell_type": "code",
   "execution_count": null,
   "source": [
    "#Opening a cursor to execute database operations\r\n",
    "cursor = con.cursor()\r\n",
    "query = \"SELECT * FROM sensor_network.sensors\"\r\n",
    "#change dataframe to csv and save file\r\n",
    "sensorsdf = pd.read_sql_query(query, con, index_col='plume_id')\r\n",
    "\r\n",
    "cursor.close()"
   ],
   "outputs": [],
   "metadata": {}
  },
  {
   "cell_type": "code",
   "execution_count": null,
   "source": [
    "sensorsdf.head()"
   ],
   "outputs": [],
   "metadata": {}
  },
  {
   "cell_type": "code",
   "execution_count": null,
   "source": [
    "for key in sensor_summaries:\r\n",
    "\r\n",
    "    #split key to get only sensorid\r\n",
    "    s = key.split('_')[2]\r\n",
    "    #get the new key from sensors table\r\n",
    "    sensor_id = sensorsdf.loc[int(s)][1]\r\n",
    "\r\n",
    "    mdf = sensor_summaries[key]\r\n",
    "    ldf = sensor_data[key]\r\n",
    "\r\n",
    "    try:\r\n",
    "        #Opening a cursor to execute database operations\r\n",
    "        cursor = con.cursor()\r\n",
    "\r\n",
    "        #inserting sensor data and return the id of new record\r\n",
    "        cursor.execute(\"INSERT INTO sensor_data.archive_measurements (measurements,locations) VALUES(%s, %s) \\n RETURNING id\", (str(ldf[0]),str(ldf[1])) )\r\n",
    "        con.commit() \r\n",
    "        \r\n",
    "        #set id of new record into local variable\r\n",
    "        sensor_data_id = cursor.fetchone()[0]\r\n",
    "\r\n",
    "        #inserting sensor summary\r\n",
    "        cursor.execute(\"INSERT INTO sensor_network.sensor_summaries (timestamp_start,timestamp_end, sensor_id, b_box, sensor_data_id, measurement_count) VALUES(%s, %s, %s, %s, %s, %s)\", (int(mdf[0]), int(mdf[1]), int(sensor_id),str(mdf[3]),int(sensor_data_id),int(mdf[4])))\r\n",
    "        con.commit() \r\n",
    "\r\n",
    "        cursor.close()\r\n",
    "    #if table name does not exist exit loop \r\n",
    "    except(psycopg2.errors.UndefinedTable) as error:\r\n",
    "        print('ERROR: ' + error)\r\n",
    "        break"
   ],
   "outputs": [],
   "metadata": {}
  },
  {
   "cell_type": "code",
   "execution_count": null,
   "source": [
    "#closing the connection\r\n",
    "con.close()"
   ],
   "outputs": [],
   "metadata": {}
  },
  {
   "cell_type": "markdown",
   "source": [],
   "metadata": {}
  }
 ],
 "metadata": {
  "interpreter": {
   "hash": "58e6f625ba2c43b7fc3c95c61d4ef7749e639023949ab2a4f0956b7241794ddb"
  },
  "kernelspec": {
   "name": "python3",
   "display_name": "Python 3.8.8 64-bit ('base': conda)"
  },
  "language_info": {
   "codemirror_mode": {
    "name": "ipython",
    "version": 3
   },
   "file_extension": ".py",
   "mimetype": "text/x-python",
   "name": "python",
   "nbconvert_exporter": "python",
   "pygments_lexer": "ipython3",
   "version": "3.8.8"
  }
 },
 "nbformat": 4,
 "nbformat_minor": 2
}