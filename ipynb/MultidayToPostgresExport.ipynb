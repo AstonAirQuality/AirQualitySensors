{
 "cells": [
  {
   "cell_type": "markdown",
   "source": [
    "# Extracting data from csvs"
   ],
   "metadata": {}
  },
  {
   "cell_type": "code",
   "execution_count": 2,
   "source": [
    "%store -r sensorIds\r\n",
    "print(sensorIds)"
   ],
   "outputs": [
    {
     "output_type": "stream",
     "name": "stdout",
     "text": [
      "['18699', '18720', '18749']\n"
     ]
    }
   ],
   "metadata": {}
  },
  {
   "cell_type": "code",
   "execution_count": 3,
   "source": [
    "#temporary reassigning of paths (since plume dashboard not working)\r\n",
    "\r\n",
    "# we need two dictionaries (one for measurements and one for location)\r\n",
    "measure_dictionary = {}\r\n",
    "location_dictionary = {}\r\n",
    "\r\n",
    "sensorPaths = []\r\n",
    "\r\n",
    "for snum in sensorIds:\r\n",
    "    sensorPaths.append(\"..\\\\data\\\\flow\\\\temp\\\\sensor_\"  + snum)\r\n",
    "print(sensorPaths)\r\n"
   ],
   "outputs": [
    {
     "output_type": "stream",
     "name": "stdout",
     "text": [
      "['..\\\\data\\\\flow\\\\temp\\\\sensor_18699', '..\\\\data\\\\flow\\\\temp\\\\sensor_18720', '..\\\\data\\\\flow\\\\temp\\\\sensor_18749']\n"
     ]
    }
   ],
   "metadata": {}
  },
  {
   "cell_type": "code",
   "execution_count": 4,
   "source": [
    "import pandas as pd\r\n",
    "import numpy as np\r\n",
    "import psycopg2\r\n",
    "from datetime import datetime\r\n",
    "from datetime import timezone\r\n",
    "import json\r\n",
    "import os"
   ],
   "outputs": [],
   "metadata": {}
  },
  {
   "cell_type": "code",
   "execution_count": 10,
   "source": [
    "csvMeasurementsPath = []\r\n",
    "csvPostionsPath = []\r\n",
    "\r\n",
    "for i in sensorPaths:\r\n",
    "    with os.scandir(i) as listOfFiles:\r\n",
    "        for currentFile in listOfFiles:\r\n",
    "            # get all files that are csv\r\n",
    "            if currentFile.is_file() and currentFile.name.endswith('csv'):\r\n",
    "                 if \"positions\" not in currentFile.name:\r\n",
    "                    csvMeasurementsPath.append(os.path.join(i,currentFile.name)) \r\n",
    "                 else:\r\n",
    "                    csvPostionsPath.append(os.path.join(i,currentFile.name)) "
   ],
   "outputs": [],
   "metadata": {}
  },
  {
   "cell_type": "code",
   "execution_count": 13,
   "source": [
    "#map sensor id to filepaths\r\n",
    "measurement_dictionary = {k:v for k,v in zip(sensorIds,csvMeasurementsPath)}\r\n",
    "location_dictionary = {k:v for k,v in zip(sensorIds,csvPostionsPath)}\r\n",
    "print(measurement_dictionary)\r\n",
    "print(location_dictionary)"
   ],
   "outputs": [
    {
     "output_type": "stream",
     "name": "stdout",
     "text": [
      "{'18699': '..\\\\data\\\\flow\\\\temp\\\\sensor_18699\\\\user_measures.csv', '18720': '..\\\\data\\\\flow\\\\temp\\\\sensor_18720\\\\user_measures.csv', '18749': '..\\\\data\\\\flow\\\\temp\\\\sensor_18749\\\\user_measures.csv'}\n",
      "{'18699': '..\\\\data\\\\flow\\\\temp\\\\sensor_18699\\\\user_positions.csv', '18720': '..\\\\data\\\\flow\\\\temp\\\\sensor_18720\\\\user_positions.csv', '18749': '..\\\\data\\\\flow\\\\temp\\\\sensor_18749\\\\user_positions.csv'}\n"
     ]
    }
   ],
   "metadata": {
    "scrolled": true
   }
  },
  {
   "cell_type": "markdown",
   "source": [
    "# ...."
   ],
   "metadata": {}
  },
  {
   "cell_type": "code",
   "execution_count": 14,
   "source": [
    "#bringing the csv to pandas dataframes\r\n",
    "#put the dataframes into a dictionary with the sensor id as the key\r\n",
    "for key in sensorIds:\r\n",
    "    locations = {} #intialise empty dictionary to store each day of locations\r\n",
    "    \r\n",
    "    df_temp = pd.read_csv(location_dictionary[key],parse_dates=True, index_col=\"timestamp\")\r\n",
    "    \r\n",
    "    # try using the dates which are already supplied. \r\n",
    "    # This strategy in the line below converts them and rounds down to date using 'd' flag\r\n",
    "    # df_temp['day'] = pd.to_datetime(df_temp['date'], errors='coerce').dt.floor('d')\r\n",
    "    # However, they are still datetimes so there is still a time - it's just been rounded down to zero, \r\n",
    "    # e.g. '2021-07-17T00:00:00.000000000'\r\n",
    "    # This strategy (line below) really will keep just the date\r\n",
    "    df_temp['day'] = pd.to_datetime(df_temp['date'], errors='coerce').dt.date\r\n",
    "    \r\n",
    "    print(df_temp['day'])\r\n",
    "    \r\n",
    "    the_unique_dates = df_temp['day'].unique()\r\n",
    "    #print('Unique dates:',the_unique_dates)\r\n",
    "    # this gives the same result as the for loop below\r\n",
    "  \r\n",
    "    #splitting the dataframe into separate days\r\n",
    "    #for each day in unique dates set:\r\n",
    "    for day in the_unique_dates:\r\n",
    "        try:\r\n",
    "            # In my code below I assign the subset of records to a new dataframe called dft\r\n",
    "            # create 'midnight' timestamps\r\n",
    "            st = pd.to_datetime(day, errors='coerce')\r\n",
    "            # add one day to this midnight\r\n",
    "            et = st + pd.DateOffset(1)\r\n",
    "            # cast both to integers to make neat keys\r\n",
    "            sts = int(st.timestamp())\r\n",
    "            ets = int(et.timestamp())\r\n",
    "            #print(sts, ets)\r\n",
    "\r\n",
    "            # concatenating numbers into text: \r\n",
    "            timestampKey = \"%d_%d\" % (sts, ets)\r\n",
    "                \r\n",
    "            # select the records for this day\r\n",
    "            dft = df_temp[df_temp['day']==day]\r\n",
    "            locations[timestampKey] = dft\r\n",
    "\r\n",
    "        except (KeyError):\r\n",
    "            print(KeyError)\r\n",
    "    #assign new value to the locations dictionary, so it is associated in key-value pair with its coressponding sensorid\r\n",
    "    location_dictionary[key] = locations\r\n",
    "    #print(df_temp['day'])\r\n"
   ],
   "outputs": [
    {
     "output_type": "stream",
     "name": "stdout",
     "text": [
      "timestamp\n",
      "1626501291   2021-07-17 05:54:00\n",
      "1626502670   2021-07-17 06:17:00\n",
      "1626502734   2021-07-17 06:18:00\n",
      "1626503572   2021-07-17 06:32:00\n",
      "1626503578   2021-07-17 06:32:00\n",
      "                     ...        \n",
      "1628086932   2021-04-08 14:22:00\n",
      "1628086964   2021-04-08 14:22:00\n",
      "1628086995   2021-04-08 14:23:00\n",
      "1628087027   2021-04-08 14:23:00\n",
      "1628087058   2021-04-08 14:24:00\n",
      "Name: day, Length: 5139, dtype: datetime64[ns]\n",
      "timestamp\n",
      "1626159288   2021-07-13 06:54:00\n",
      "1626159340   2021-07-13 06:55:00\n",
      "1626159370   2021-07-13 06:56:00\n",
      "1626159548   2021-07-13 06:59:00\n",
      "1626159592   2021-07-13 06:59:00\n",
      "                     ...        \n",
      "1628082493   2021-04-08 13:08:00\n",
      "1628085175   2021-04-08 13:52:00\n",
      "1628085710   2021-04-08 14:01:00\n",
      "1628086090   2021-04-08 14:08:00\n",
      "1628087025   2021-04-08 14:23:00\n",
      "Name: day, Length: 449, dtype: datetime64[ns]\n",
      "timestamp\n",
      "1626448226   2021-07-16 15:10:00\n",
      "1626448246   2021-07-16 15:10:00\n",
      "1626448276   2021-07-16 15:11:00\n",
      "1626450376   2021-07-16 15:46:00\n",
      "1626452845   2021-07-16 16:27:00\n",
      "                     ...        \n",
      "1628084174   2021-04-08 13:36:00\n",
      "1628084215   2021-04-08 13:36:00\n",
      "1628087424   2021-04-08 14:30:00\n",
      "1628087440   2021-04-08 14:30:00\n",
      "1628087474   2021-04-08 14:31:00\n",
      "Name: day, Length: 1113, dtype: datetime64[ns]\n"
     ]
    }
   ],
   "metadata": {}
  },
  {
   "cell_type": "code",
   "execution_count": 14,
   "source": [
    "total = 0\r\n",
    "for key in location_dictionary:\r\n",
    "    for timestampKey in location_dictionary[key]:\r\n",
    "    #   print(timestampKey)\r\n",
    "    # break\r\n",
    "      total += len(location_dictionary[key][timestampKey].index.values)\r\n",
    "    print(\"sensor: \"  + str(key) + \"_total:\" + str(total))\r\n",
    "    total = 0 #reset the total\r\n",
    "\r\n",
    "print(\"\\n\")\r\n",
    "\r\n",
    "test = {k:v for k,v in zip(sensorIds,csvPostionsPath)}\r\n",
    "for key in sensorIds:\r\n",
    "    df_temp = pd.read_csv(test[key],parse_dates=True, index_col=\"timestamp\")\r\n",
    "    print(\"sensor: \"  + str(key) + \"_total:\" + str(len(df_temp.index.values)))\r\n"
   ],
   "outputs": [
    {
     "output_type": "stream",
     "name": "stdout",
     "text": [
      "sensor: 18699_total:5139\n",
      "sensor: 18720_total:449\n",
      "sensor: 18749_total:1113\n",
      "\n",
      "\n",
      "sensor: 18699_total:5139\n",
      "sensor: 18720_total:449\n",
      "sensor: 18749_total:1113\n"
     ]
    }
   ],
   "metadata": {}
  },
  {
   "cell_type": "code",
   "execution_count": 14,
   "source": [
    "#bringing the csv to pandas dataframes\r\n",
    "#put the dataframes into a dictionary with the sensor id as the key\r\n",
    "for key in sensorIds:\r\n",
    "\r\n",
    "    measurements = {} #intialse empty dictioanry to store each day of measurements\r\n",
    "\r\n",
    "    df_temp = pd.read_csv(measurement_dictionary[key],parse_dates=True, index_col=\"timestamp\")\r\n",
    "\r\n",
    "\r\n",
    "    #make a new day column to store the datetime.date of each record\r\n",
    "    df_temp['day'] = pd.to_datetime(df_temp['date (UTC)'], errors='coerce').dt.date\r\n",
    "   \r\n",
    "   \r\n",
    "    the_unique_dates = df_temp['day'].unique()\r\n",
    "\r\n",
    "    #splitting the dataframe into separate days\r\n",
    "    #for each day in unique dates set:\r\n",
    "    for day in the_unique_dates:\r\n",
    "        try:\r\n",
    "            # In my code below I assign the subset of records to a new dataframe called dft\r\n",
    "            # create 'midnight' timestamps\r\n",
    "            st = pd.to_datetime(day, errors='coerce')\r\n",
    "            # add one day to this midnight\r\n",
    "            et = st + pd.DateOffset(1)\r\n",
    "            # cast both to integers to make neat keys\r\n",
    "            sts = int(st.timestamp())\r\n",
    "            ets = int(et.timestamp())\r\n",
    "            #print(sts, ets)\r\n",
    "\r\n",
    "            # concatenating numbers into text: \r\n",
    "            timestampKey = \"%d_%d\" % (sts, ets)\r\n",
    "                \r\n",
    "            # select the records for this day\r\n",
    "            dft = df_temp[df_temp['day']==day]\r\n",
    "            measurements[timestampKey] = dft\r\n",
    "\r\n",
    "        except (KeyError):\r\n",
    "            print(\"...\")\r\n",
    "\r\n",
    "    measurement_dictionary[key] = measurements #clear dataframe\r\n",
    "    \r\n",
    "    #print(df_temp['day'])\r\n",
    "\r\n",
    "    # df = measure_dictionary[key]\r\n",
    "    # df.drop(\"date (UTC)\", axis=1, inplace=True)\r\n",
    "\r\n"
   ],
   "outputs": [
    {
     "output_type": "stream",
     "name": "stdout",
     "text": [
      "timestamp\n",
      "1.626501e+09    2021-07-17\n",
      "1.626501e+09    2021-07-17\n",
      "1.626501e+09    2021-07-17\n",
      "1.626501e+09    2021-07-17\n",
      "1.626502e+09    2021-07-17\n",
      "                   ...    \n",
      "1.628083e+09    2021-08-04\n",
      "1.628083e+09    2021-08-04\n",
      "1.628083e+09    2021-08-04\n",
      "1.628084e+09    2021-08-04\n",
      "1.628084e+09    2021-08-04\n",
      "Name: day, Length: 25507, dtype: object\n",
      "timestamp\n",
      "1.625901e+09    2021-07-10\n",
      "1.625901e+09    2021-07-10\n",
      "1.625901e+09    2021-07-10\n",
      "1.625901e+09    2021-07-10\n",
      "1.625901e+09    2021-07-10\n",
      "                   ...    \n",
      "1.628083e+09    2021-08-04\n",
      "1.628084e+09    2021-08-04\n",
      "1.628084e+09    2021-08-04\n",
      "1.628084e+09    2021-08-04\n",
      "1.628084e+09    2021-08-04\n",
      "Name: day, Length: 16520, dtype: object\n",
      "timestamp\n",
      "1.626448e+09    2021-07-16\n",
      "1.626448e+09    2021-07-16\n",
      "1.626448e+09    2021-07-16\n",
      "1.626448e+09    2021-07-16\n",
      "1.626448e+09    2021-07-16\n",
      "                   ...    \n",
      "1.628081e+09    2021-08-04\n",
      "1.628081e+09    2021-08-04\n",
      "1.628081e+09    2021-08-04\n",
      "1.628081e+09    2021-08-04\n",
      "1.628081e+09    2021-08-04\n",
      "Name: day, Length: 27043, dtype: object\n"
     ]
    }
   ],
   "metadata": {}
  },
  {
   "cell_type": "code",
   "execution_count": 13,
   "source": [
    "total = 0\r\n",
    "for key in measurement_dictionary:\r\n",
    "    for timestampKey in measurement_dictionary[key]:\r\n",
    "    #     print(timestampKey)\r\n",
    "    # break       \r\n",
    "        total += len(measurement_dictionary[key][timestampKey].index.values)\r\n",
    "    print(\"sensor: \"  + str(key) + \"_total:\" + str(total))\r\n",
    "    total = 0 #reset the total\r\n",
    "\r\n",
    "print(\"\\n\")\r\n",
    "\r\n",
    "test = {k:v for k,v in zip(sensorIds,csvMeasurementsPath)}\r\n",
    "for key in sensorIds:\r\n",
    "    df_temp = pd.read_csv(test[key],parse_dates=True, index_col=\"timestamp\")\r\n",
    "    print(\"sensor: \"  + str(key) + \"_total:\" + str(len(df_temp.index.values)))"
   ],
   "outputs": [
    {
     "output_type": "stream",
     "name": "stdout",
     "text": [
      "sensor: 18699_total:25507\n",
      "sensor: 18720_total:16520\n",
      "sensor: 18749_total:27043\n",
      "\n",
      "\n",
      "sensor: 18699_total:25507\n",
      "sensor: 18720_total:16520\n",
      "sensor: 18749_total:27043\n"
     ]
    }
   ],
   "metadata": {}
  },
  {
   "cell_type": "code",
   "execution_count": null,
   "source": [
    "measurement_dictionary[sensorIds[0]]"
   ],
   "outputs": [],
   "metadata": {}
  },
  {
   "cell_type": "code",
   "execution_count": 9,
   "source": [
    "for key in sensorIds:\r\n",
    "    for l_dictionary in location_dictionary[key]:\r\n",
    "        for timestampKey in l_dictionary:\r\n",
    "            df = l_dictionary[timestampKey]\r\n",
    "            print(df.head(1))\r\n",
    "        \r\n",
    "# min_long= df['longitude'].min()\r\n",
    "# max_long = df['longitude'].max()\r\n",
    "\r\n",
    "# min_lat= df['latitude'].min()\r\n",
    "# max_lat = df['latitude'].max()\r\n",
    "\r\n",
    "# print(\"min_longitude: \" + str(min_long) + \"\\n max_logitude: \" + str(max_long))\r\n",
    "# print(\"min_latitude: \" + str(min_lat) + \"\\n max_latitude: \" + str(max_lat))"
   ],
   "outputs": [],
   "metadata": {}
  },
  {
   "cell_type": "markdown",
   "source": [
    "# Preparing data for upload into PostGres"
   ],
   "metadata": {}
  },
  {
   "cell_type": "code",
   "execution_count": 12,
   "source": [
    "sensor_summaries = {}\r\n",
    "sensor_data = {}\r\n",
    "\r\n",
    "geometry_string = \"\"\r\n",
    "\r\n",
    "ldf = df\r\n",
    "mdf = df\r\n",
    "\r\n",
    "for timestampKey in location_dictionary[sensorIds[0]]:\r\n",
    "    #location dataframe\r\n",
    "    ldf = locations[timestampKey]\r\n",
    "\r\n",
    "    #create bounding box polygon\r\n",
    "    min_y= ldf['longitude'].min()\r\n",
    "    max_y = ldf['longitude'].max()\r\n",
    "\r\n",
    "    min_x= ldf['latitude'].min()\r\n",
    "    max_x = ldf['latitude'].max()\r\n",
    "    #POLYGON(minx miny, minx Maxy, maxx Maxy, maxx miny, minx miny)\r\n",
    "    geometry_string = \"POLYGON(({} {}, {} {}, {} {}, {} {},{} {}))\".format(min_x,min_y,   min_x,max_y,   max_x,max_y,   max_x,min_y,   min_x,min_y)\r\n",
    "\r\n",
    "print(geometry_string)\r\n",
    "        \r\n",
    "    # for timestampKey in measure_dictionary[key]:\r\n",
    "        \r\n",
    "    #     #create new key for sensor summaries\r\n",
    "    #     timestamp_sensor_key = str(df.index[0]) + \"_\" + str(df.index[-1]) + \"_\" +  str(int(key))\r\n",
    "\r\n",
    "    #     #measurement dataframe\r\n",
    "    #     mdf = measurements[timestampKey]\r\n",
    "\r\n",
    "    #     #summaryArray = [timestamp_start,timestamp_end,sensor_id,bouding_box,measurement_count]\r\n",
    "    #     summaryArray = [mdf.index[0],mdf.index[-1],int(key),geometry_string,len(mdf.index.values)] #inserting row into temp array\r\n",
    "    #     sensor_summaries[timestamp_sensor_key] = summaryArray    #assign new dataframe to coressponding key\r\n",
    "        \r\n",
    "    #     ##########print(sensor_summaries[timestamp_sensor_key])\r\n",
    "\r\n",
    "    #     #dataArray = [id, mesaurement_json,location_json]\r\n",
    "    #     dataArray = [mdf.to_json(orient=\"columns\"),ldf.to_json(orient=\"columns\")]     #dataArray = [mdf.to_json('./{}.json'.format(key),orient=\"columns\"),ldf.to_json(orient=\"columns\")]\r\n",
    "    #     sensor_data[timestamp_sensor_key] = dataArray    #assign new dataframe to coressponding key    "
   ],
   "outputs": [
    {
     "output_type": "stream",
     "name": "stdout",
     "text": [
      "\n"
     ]
    }
   ],
   "metadata": {}
  },
  {
   "cell_type": "code",
   "execution_count": 10,
   "source": [
    "# min_long= df['longitude'].min()\r\n",
    "# max_long = df['longitude'].max()\r\n",
    "\r\n",
    "# min_lat= df['latitude'].min()\r\n",
    "# max_lat = df['latitude'].max()\r\n",
    "\r\n",
    "# print(\"min_longitude: \" + str(min_long) + \"\\n max_logitude: \" + str(max_long))\r\n",
    "# print(\"min_latitude: \" + str(min_lat) + \"\\n max_latitude: \" + str(max_lat))"
   ],
   "outputs": [],
   "metadata": {}
  },
  {
   "cell_type": "code",
   "execution_count": 11,
   "source": [
    "# sensor_summaries = {}\r\n",
    "# sensor_data = {}\r\n",
    "\r\n",
    "# geometry_string = \"\"\r\n",
    "\r\n",
    "# ldf = df\r\n",
    "# mdf = df\r\n",
    "\r\n",
    "# for key in sensorIds:\r\n",
    "#     for timestampKey in location_dictionary[sensorIds[0]]:\r\n",
    "#         #location dataframe\r\n",
    "#         ldf = locations[timestampKey]\r\n",
    "\r\n",
    "#         #create bounding box polygon\r\n",
    "#         min_y= ldf['longitude'].min()\r\n",
    "#         max_y = ldf['longitude'].max()\r\n",
    "\r\n",
    "#         min_x= ldf['latitude'].min()\r\n",
    "#         max_x = ldf['latitude'].max()\r\n",
    "#         #POLYGON(minx miny, minx Maxy, maxx Maxy, maxx miny, minx miny)\r\n",
    "#         geometry_string = \"POLYGON(({} {}, {} {}, {} {}, {} {},{} {}))\".format(min_x,min_y,   min_x,max_y,   max_x,max_y,   max_x,min_y,   min_x,min_y)\r\n",
    "\r\n",
    "# print(geometry_string)\r\n",
    "        \r\n",
    "#     # for timestampKey in measure_dictionary[key]:\r\n",
    "        \r\n",
    "#     #     #create new key for sensor summaries\r\n",
    "#     #     timestamp_sensor_key = str(df.index[0]) + \"_\" + str(df.index[-1]) + \"_\" +  str(int(key))\r\n",
    "\r\n",
    "#     #     #measurement dataframe\r\n",
    "#     #     mdf = measurements[timestampKey]\r\n",
    "\r\n",
    "#     #     #summaryArray = [timestamp_start,timestamp_end,sensor_id,bouding_box,measurement_count]\r\n",
    "#     #     summaryArray = [mdf.index[0],mdf.index[-1],int(key),geometry_string,len(mdf.index.values)] #inserting row into temp array\r\n",
    "#     #     sensor_summaries[timestamp_sensor_key] = summaryArray    #assign new dataframe to coressponding key\r\n",
    "        \r\n",
    "#     #     ##########print(sensor_summaries[timestamp_sensor_key])\r\n",
    "\r\n",
    "#     #     #dataArray = [id, mesaurement_json,location_json]\r\n",
    "#     #     dataArray = [mdf.to_json(orient=\"columns\"),ldf.to_json(orient=\"columns\")]     #dataArray = [mdf.to_json('./{}.json'.format(key),orient=\"columns\"),ldf.to_json(orient=\"columns\")]\r\n",
    "#     #     sensor_data[timestamp_sensor_key] = dataArray    #assign new dataframe to coressponding key    "
   ],
   "outputs": [
    {
     "output_type": "stream",
     "name": "stdout",
     "text": [
      "\n"
     ]
    }
   ],
   "metadata": {}
  },
  {
   "cell_type": "code",
   "execution_count": 11,
   "source": [
    "# # reading the JSON data using json.loads(json string)\r\n",
    "# # converting json dataset from dictionary to dataframe\r\n",
    "# dict_data = json.loads(sensor_data[sensorIds[0]][0])\r\n",
    "# data = pd.DataFrame.from_dict(dict_data, orient='columns')\r\n",
    "# data.index.rename('timestamp', inplace=True)\r\n",
    "# data.head()"
   ],
   "outputs": [],
   "metadata": {}
  },
  {
   "cell_type": "code",
   "execution_count": 21,
   "source": [
    "for key in sensor_summaries:\r\n",
    "    mdf = sensor_summaries[key]\r\n",
    "    print(mdf)\r\n"
   ],
   "outputs": [
    {
     "output_type": "stream",
     "name": "stdout",
     "text": [
      "[1626480043.0, 1626566444.0, 18699, '', 1434]\n",
      "[1626480043.0, 1626566444.0, 18720, '', 1434]\n",
      "[1626480043.0, 1626566444.0, 18749, '', 1434]\n"
     ]
    }
   ],
   "metadata": {}
  },
  {
   "cell_type": "markdown",
   "source": [
    "# Exporting to PostgresSQL \n"
   ],
   "metadata": {}
  },
  {
   "cell_type": "markdown",
   "source": [
    "# Writing records from a Dictionary of arrays to a SQL database\n",
    "loop over all the keys and execute insert query"
   ],
   "metadata": {}
  },
  {
   "cell_type": "code",
   "execution_count": 12,
   "source": [
    "#Connecting to an existing database\r\n",
    "sdgshehe\r\n",
    "con = psycopg2.connect(\r\n",
    "    host=\"localhost\",\r\n",
    "    database=\"airQuality\",\r\n",
    "    user=\"Riyad\", \r\n",
    "    password=\"123\",\r\n",
    "    # attempt to connect for 3 seconds then raise exception\r\n",
    "    connect_timeout = 3)"
   ],
   "outputs": [],
   "metadata": {}
  },
  {
   "cell_type": "code",
   "execution_count": 13,
   "source": [
    "#Opening a cursor to execute database operations\r\n",
    "cursor = con.cursor()\r\n",
    "query = \"SELECT * FROM sensor_network.sensors\"\r\n",
    "#change dataframe to csv and save file\r\n",
    "sensorsdf = pd.read_sql_query(query, con, index_col='plume_id')\r\n",
    "\r\n",
    "cursor.close()"
   ],
   "outputs": [],
   "metadata": {}
  },
  {
   "cell_type": "code",
   "execution_count": 14,
   "source": [
    "sensorsdf.head()"
   ],
   "outputs": [
    {
     "output_type": "execute_result",
     "data": {
      "text/plain": [
       "         sensor_serial_number  id  type_id\n",
       "plume_id                                  \n",
       "17539       02:00:00:00:43:8b   1        1\n",
       "19115       02:00:00:00:49:b3   2        1\n",
       "17521       02:00:00:00:43:79   3        1\n",
       "16397       02:00:00:00:3f:15   4        1\n",
       "16701       02:00:00:00:40:45   5        1"
      ],
      "text/html": [
       "<div>\n",
       "<style scoped>\n",
       "    .dataframe tbody tr th:only-of-type {\n",
       "        vertical-align: middle;\n",
       "    }\n",
       "\n",
       "    .dataframe tbody tr th {\n",
       "        vertical-align: top;\n",
       "    }\n",
       "\n",
       "    .dataframe thead th {\n",
       "        text-align: right;\n",
       "    }\n",
       "</style>\n",
       "<table border=\"1\" class=\"dataframe\">\n",
       "  <thead>\n",
       "    <tr style=\"text-align: right;\">\n",
       "      <th></th>\n",
       "      <th>sensor_serial_number</th>\n",
       "      <th>id</th>\n",
       "      <th>type_id</th>\n",
       "    </tr>\n",
       "    <tr>\n",
       "      <th>plume_id</th>\n",
       "      <th></th>\n",
       "      <th></th>\n",
       "      <th></th>\n",
       "    </tr>\n",
       "  </thead>\n",
       "  <tbody>\n",
       "    <tr>\n",
       "      <th>17539</th>\n",
       "      <td>02:00:00:00:43:8b</td>\n",
       "      <td>1</td>\n",
       "      <td>1</td>\n",
       "    </tr>\n",
       "    <tr>\n",
       "      <th>19115</th>\n",
       "      <td>02:00:00:00:49:b3</td>\n",
       "      <td>2</td>\n",
       "      <td>1</td>\n",
       "    </tr>\n",
       "    <tr>\n",
       "      <th>17521</th>\n",
       "      <td>02:00:00:00:43:79</td>\n",
       "      <td>3</td>\n",
       "      <td>1</td>\n",
       "    </tr>\n",
       "    <tr>\n",
       "      <th>16397</th>\n",
       "      <td>02:00:00:00:3f:15</td>\n",
       "      <td>4</td>\n",
       "      <td>1</td>\n",
       "    </tr>\n",
       "    <tr>\n",
       "      <th>16701</th>\n",
       "      <td>02:00:00:00:40:45</td>\n",
       "      <td>5</td>\n",
       "      <td>1</td>\n",
       "    </tr>\n",
       "  </tbody>\n",
       "</table>\n",
       "</div>"
      ]
     },
     "metadata": {},
     "execution_count": 14
    }
   ],
   "metadata": {}
  },
  {
   "cell_type": "code",
   "execution_count": 15,
   "source": [
    "for key in sensorIds:\r\n",
    "    #get the new key from sensors table\r\n",
    "    sensor_id = sensorsdf.loc[int(key)][1]\r\n",
    "\r\n",
    "    mdf = sensor_summaries[key]\r\n",
    "    ldf = sensor_data[key]\r\n",
    "\r\n",
    "    try:\r\n",
    "        #Opening a cursor to execute database operations\r\n",
    "        cursor = con.cursor()\r\n",
    "\r\n",
    "        #inserting sensor data and return the id of new record\r\n",
    "        cursor.execute(\"INSERT INTO sensor_data.archive_measurements (measurements,locations) VALUES(%s, %s) \\n RETURNING id\", (str(ldf[0]),str(ldf[1])) )\r\n",
    "        con.commit() \r\n",
    "        \r\n",
    "        #set id of new record into local variable\r\n",
    "        sensor_data_id = cursor.fetchone()[0]\r\n",
    "\r\n",
    "        #inserting sensor summary\r\n",
    "        cursor.execute(\"INSERT INTO sensor_network.sensor_summaries (timestamp_start,timestamp_end, sensor_id, b_box, sensor_data_id, measurement_count) VALUES(%s, %s, %s, %s, %s, %s)\", (int(mdf[0]), int(mdf[1]), int(sensor_id),str(mdf[3]),int(sensor_data_id),int(mdf[4])))\r\n",
    "        con.commit() \r\n",
    "\r\n",
    "        cursor.close()\r\n",
    "    #if table name does not exist exit loop \r\n",
    "    except(psycopg2.errors.UndefinedTable) as error:\r\n",
    "        print('ERROR: ' + error)\r\n",
    "        break"
   ],
   "outputs": [],
   "metadata": {}
  },
  {
   "cell_type": "code",
   "execution_count": 16,
   "source": [
    "#closing the connection\n",
    "con.close()"
   ],
   "outputs": [],
   "metadata": {}
  },
  {
   "cell_type": "markdown",
   "source": [],
   "metadata": {}
  }
 ],
 "metadata": {
  "interpreter": {
   "hash": "58e6f625ba2c43b7fc3c95c61d4ef7749e639023949ab2a4f0956b7241794ddb"
  },
  "kernelspec": {
   "name": "python3",
   "display_name": "Python 3.8.8 64-bit ('base': conda)"
  },
  "language_info": {
   "codemirror_mode": {
    "name": "ipython",
    "version": 3
   },
   "file_extension": ".py",
   "mimetype": "text/x-python",
   "name": "python",
   "nbconvert_exporter": "python",
   "pygments_lexer": "ipython3",
   "version": "3.8.8"
  }
 },
 "nbformat": 4,
 "nbformat_minor": 2
}