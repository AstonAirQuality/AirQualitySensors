{
 "metadata": {
  "language_info": {
   "codemirror_mode": {
    "name": "ipython",
    "version": 3
   },
   "file_extension": ".py",
   "mimetype": "text/x-python",
   "name": "python",
   "nbconvert_exporter": "python",
   "pygments_lexer": "ipython3",
   "version": "3.8.8"
  },
  "orig_nbformat": 4,
  "kernelspec": {
   "name": "python3",
   "display_name": "Python 3.8.8 64-bit ('base': conda)"
  },
  "interpreter": {
   "hash": "58e6f625ba2c43b7fc3c95c61d4ef7749e639023949ab2a4f0956b7241794ddb"
  }
 },
 "nbformat": 4,
 "nbformat_minor": 2,
 "cells": [
  {
   "cell_type": "markdown",
   "source": [
    "# Extracting data from csvs"
   ],
   "metadata": {}
  },
  {
   "cell_type": "code",
   "execution_count": 1,
   "source": [
    "%store -r sensorIds\r\n",
    "print(sensorIds)"
   ],
   "outputs": [
    {
     "output_type": "stream",
     "name": "stdout",
     "text": [
      "['18699', '18720', '18749']\n"
     ]
    }
   ],
   "metadata": {}
  },
  {
   "cell_type": "code",
   "execution_count": 2,
   "source": [
    "#temporary reassigning of paths (since plume dashboard not working)\r\n",
    "\r\n",
    "# we need two dictionaries (one for measurements and one for location)\r\n",
    "measure_dictionary = {}\r\n",
    "location_dictionary = {}\r\n",
    "\r\n",
    "sensorPaths = []\r\n",
    "\r\n",
    "for snum in sensorIds:\r\n",
    "    sensorPaths.append(\"..\\\\data\\\\flow\\\\temp\\\\sensor_\"  + snum)\r\n",
    "print(sensorPaths)\r\n"
   ],
   "outputs": [
    {
     "output_type": "stream",
     "name": "stdout",
     "text": [
      "['..\\\\data\\\\flow\\\\temp\\\\sensor_18699', '..\\\\data\\\\flow\\\\temp\\\\sensor_18720', '..\\\\data\\\\flow\\\\temp\\\\sensor_18749']\n"
     ]
    }
   ],
   "metadata": {}
  },
  {
   "cell_type": "code",
   "execution_count": 3,
   "source": [
    "import pandas as pd\r\n",
    "import numpy as np\r\n",
    "import psycopg2\r\n",
    "from datetime import datetime\r\n",
    "from datetime import timezone\r\n",
    "import json\r\n",
    "import os"
   ],
   "outputs": [],
   "metadata": {}
  },
  {
   "cell_type": "code",
   "execution_count": 80,
   "source": [
    "csvMeasurementsPath = []\r\n",
    "csvPostionsPath = []\r\n",
    "\r\n",
    "for i in sensorPaths:\r\n",
    "    with os.scandir(i) as listOfFiles:\r\n",
    "        for currentFile in listOfFiles:\r\n",
    "            # get all files that are csv\r\n",
    "            if currentFile.is_file() and currentFile.name.endswith('csv'):\r\n",
    "                 if \"positions\" not in currentFile.name:\r\n",
    "                    csvMeasurementsPath.append(os.path.join(i,currentFile.name)) \r\n",
    "                 else:\r\n",
    "                    csvPostionsPath.append(os.path.join(i,currentFile.name)) "
   ],
   "outputs": [],
   "metadata": {}
  },
  {
   "cell_type": "code",
   "execution_count": 81,
   "source": [
    "#map sensor id to filepaths\r\n",
    "measure_dictionary = {k:v for k,v in zip(sensorIds,csvMeasurementsPath)}\r\n",
    "location_dictionary = {k:v for k,v in zip(sensorIds,csvPostionsPath)}\r\n",
    "print(measure_dictionary)\r\n",
    "print(location_dictionary)"
   ],
   "outputs": [
    {
     "output_type": "stream",
     "name": "stdout",
     "text": [
      "{'18699': '..\\\\data\\\\flow\\\\temp\\\\sensor_18699\\\\user_measures.csv', '18720': '..\\\\data\\\\flow\\\\temp\\\\sensor_18720\\\\user_measures.csv', '18749': '..\\\\data\\\\flow\\\\temp\\\\sensor_18749\\\\user_measures.csv'}\n",
      "{'18699': '..\\\\data\\\\flow\\\\temp\\\\sensor_18699\\\\user_positions.csv', '18720': '..\\\\data\\\\flow\\\\temp\\\\sensor_18720\\\\user_positions.csv', '18749': '..\\\\data\\\\flow\\\\temp\\\\sensor_18749\\\\user_positions.csv'}\n"
     ]
    }
   ],
   "metadata": {}
  },
  {
   "cell_type": "markdown",
   "source": [
    "# Intialising the measurement dataframe"
   ],
   "metadata": {}
  },
  {
   "cell_type": "code",
   "execution_count": 82,
   "source": [
    "endConst= \"00:01:00\"    #intialising constant of midnight in UTC \r\n",
    "endConst= datetime.strptime(endConst,\"%H:%M:%S\").time()     #convert to time only (already in UTC)\r\n",
    "# #MIDNIGHT TO MIDNIGHT SEARCH WILL NOT WORK ON LOCATIONS BECAUSE THEY ARE NOT TAKEN PER MINUTE"
   ],
   "outputs": [],
   "metadata": {}
  },
  {
   "cell_type": "code",
   "execution_count": 83,
   "source": [
    "locations = {} #intialise empty dictionary to store each day of locations\r\n",
    "\r\n",
    "\r\n",
    "#bringing the csv to pandas dataframes\r\n",
    "#put the dataframes into a dictionary with the sensor id as the key\r\n",
    "for key in sensorIds:\r\n",
    "    location_dictionary[key] = pd.read_csv(location_dictionary[key],parse_dates=True, index_col=\"timestamp\")\r\n",
    "\r\n",
    "    df = location_dictionary[key]\r\n",
    "\r\n",
    "    #dropping the date column \r\n",
    "    df.drop(\"date\", axis=1, inplace=True)\r\n",
    "\r\n",
    "    #get all the timestamps\r\n",
    "    timestamps = df.index.values\r\n",
    "\r\n",
    "    dayset = set() #holds each day\r\n",
    "\r\n",
    "    for t in timestamps:\r\n",
    "        t = int(t)\r\n",
    "        dt = datetime.fromtimestamp(t, tz=timezone.utc).date()\r\n",
    "\r\n",
    "        if dt not in dayset:\r\n",
    "            dayset.add(dt)\r\n",
    "\r\n",
    "   \r\n",
    "    ################################################################\r\n",
    "\r\n",
    "    #splitting dataframes into daily basis (UTC) midnight to midnight\r\n",
    "    indexes = []\r\n",
    "    \r\n",
    "    #sort the days\r\n",
    "    dayset = sorted(dayset)\r\n",
    "\r\n",
    "    #convert and store timestamp ranges of each day\r\n",
    "    for day in dayset:\r\n",
    "        dt = datetime.combine(day, endConst)\r\n",
    "        dt = int(dt.replace(tzinfo=timezone.utc).timestamp())\r\n",
    "        indexes.append(dt)\r\n",
    "        #indexes.append(day)\r\n",
    "\r\n",
    "    timestamp_pair = [] # empty array to hold start and end timestamp\r\n",
    "    days = [] #holds each timestamp pair as a day\r\n",
    "    i = 0 #local counter\r\n",
    "\r\n",
    "    while i < (len(indexes)-1):\r\n",
    "        timestamp_pair.append(indexes[i]) \r\n",
    "        timestamp_pair.append(indexes[i+1])\r\n",
    "        days.append(timestamp_pair)\r\n",
    "        timestamp_pair = [] # empty the pair\r\n",
    "        \r\n",
    "        i += 1\r\n",
    "\r\n",
    "        #if i is even then skip onto next pair\r\n",
    "        if (i % 2 == 0):\r\n",
    "          i += 1  \r\n",
    "   \r\n",
    "\r\n",
    "    #splitting the dataframe into separate days\r\n",
    "    for pair in days:\r\n",
    "        try:\r\n",
    "            timestampKey = str(pair[0]) + \"_\" +  str(pair[1]) \r\n",
    "            #mask = (df.index > pair[0]) & (df.index <= pair[1])\r\n",
    "            #df = df.loc[mask]\r\n",
    "            df = df.loc[pair[0]:pair[1]]\r\n",
    "            locations[timestampKey] = df\r\n",
    "        except KeyError:\r\n",
    "            print(\"find next time\")\r\n",
    "        #print(df)\r\n",
    "\r\n",
    "    break\r\n"
   ],
   "outputs": [],
   "metadata": {}
  },
  {
   "cell_type": "code",
   "execution_count": 84,
   "source": [
    "print(locations)"
   ],
   "outputs": [
    {
     "output_type": "stream",
     "name": "stdout",
     "text": [
      "{'1626480060_1626566460':             latitude  longitude\n",
      "timestamp                      \n",
      "1626501291 -1.889811  52.452676\n",
      "1626502670 -1.889395  52.452940\n",
      "1626502734 -1.889774  52.452767\n",
      "1626503572 -1.890229  52.452835\n",
      "1626503578 -1.890589  52.453279\n",
      "...              ...        ...\n",
      "1626558816 -1.885437  52.450709\n",
      "1626558945 -1.889935  52.452639\n",
      "1626561645 -1.889937  52.452638\n",
      "1626561651 -1.889754  52.452967\n",
      "1626562826 -1.889937  52.452638\n",
      "\n",
      "[1043 rows x 2 columns], '1626566460_1626652860': Empty DataFrame\n",
      "Columns: [latitude, longitude]\n",
      "Index: [], '1626739260_1626825660': Empty DataFrame\n",
      "Columns: [latitude, longitude]\n",
      "Index: [], '1626912060_1626998460': Empty DataFrame\n",
      "Columns: [latitude, longitude]\n",
      "Index: [], '1627084860_1627171260': Empty DataFrame\n",
      "Columns: [latitude, longitude]\n",
      "Index: [], '1627257660_1627344060': Empty DataFrame\n",
      "Columns: [latitude, longitude]\n",
      "Index: [], '1627430460_1627516860': Empty DataFrame\n",
      "Columns: [latitude, longitude]\n",
      "Index: [], '1627603260_1627689660': Empty DataFrame\n",
      "Columns: [latitude, longitude]\n",
      "Index: [], '1627776060_1627862460': Empty DataFrame\n",
      "Columns: [latitude, longitude]\n",
      "Index: [], '1627948860_1628035260': Empty DataFrame\n",
      "Columns: [latitude, longitude]\n",
      "Index: []}\n"
     ]
    }
   ],
   "metadata": {}
  },
  {
   "cell_type": "code",
   "execution_count": 79,
   "source": [
    "df = location_dictionary[sensorIds[0]]\r\n",
    "df.loc[int(1626566460):int(1626652860)]"
   ],
   "outputs": [
    {
     "output_type": "execute_result",
     "data": {
      "text/plain": [
       "            latitude  longitude\n",
       "timestamp                      \n",
       "1626585426 -1.885194  52.450762\n",
       "1626585456 -1.889596  52.452820\n",
       "1626585546 -1.889945  52.452646\n",
       "1626585834 -1.889599  52.452829\n",
       "1626587195 -1.889951  52.452635\n",
       "...              ...        ...\n",
       "1626645141 -1.885044  52.450716\n",
       "1626645267 -1.889617  52.452723\n",
       "1626645502 -1.885044  52.450716\n",
       "1626645628 -1.889604  52.452718\n",
       "1626649592 -1.889939  52.452635\n",
       "\n",
       "[101 rows x 2 columns]"
      ],
      "text/html": [
       "<div>\n",
       "<style scoped>\n",
       "    .dataframe tbody tr th:only-of-type {\n",
       "        vertical-align: middle;\n",
       "    }\n",
       "\n",
       "    .dataframe tbody tr th {\n",
       "        vertical-align: top;\n",
       "    }\n",
       "\n",
       "    .dataframe thead th {\n",
       "        text-align: right;\n",
       "    }\n",
       "</style>\n",
       "<table border=\"1\" class=\"dataframe\">\n",
       "  <thead>\n",
       "    <tr style=\"text-align: right;\">\n",
       "      <th></th>\n",
       "      <th>latitude</th>\n",
       "      <th>longitude</th>\n",
       "    </tr>\n",
       "    <tr>\n",
       "      <th>timestamp</th>\n",
       "      <th></th>\n",
       "      <th></th>\n",
       "    </tr>\n",
       "  </thead>\n",
       "  <tbody>\n",
       "    <tr>\n",
       "      <th>1626585426</th>\n",
       "      <td>-1.885194</td>\n",
       "      <td>52.450762</td>\n",
       "    </tr>\n",
       "    <tr>\n",
       "      <th>1626585456</th>\n",
       "      <td>-1.889596</td>\n",
       "      <td>52.452820</td>\n",
       "    </tr>\n",
       "    <tr>\n",
       "      <th>1626585546</th>\n",
       "      <td>-1.889945</td>\n",
       "      <td>52.452646</td>\n",
       "    </tr>\n",
       "    <tr>\n",
       "      <th>1626585834</th>\n",
       "      <td>-1.889599</td>\n",
       "      <td>52.452829</td>\n",
       "    </tr>\n",
       "    <tr>\n",
       "      <th>1626587195</th>\n",
       "      <td>-1.889951</td>\n",
       "      <td>52.452635</td>\n",
       "    </tr>\n",
       "    <tr>\n",
       "      <th>...</th>\n",
       "      <td>...</td>\n",
       "      <td>...</td>\n",
       "    </tr>\n",
       "    <tr>\n",
       "      <th>1626645141</th>\n",
       "      <td>-1.885044</td>\n",
       "      <td>52.450716</td>\n",
       "    </tr>\n",
       "    <tr>\n",
       "      <th>1626645267</th>\n",
       "      <td>-1.889617</td>\n",
       "      <td>52.452723</td>\n",
       "    </tr>\n",
       "    <tr>\n",
       "      <th>1626645502</th>\n",
       "      <td>-1.885044</td>\n",
       "      <td>52.450716</td>\n",
       "    </tr>\n",
       "    <tr>\n",
       "      <th>1626645628</th>\n",
       "      <td>-1.889604</td>\n",
       "      <td>52.452718</td>\n",
       "    </tr>\n",
       "    <tr>\n",
       "      <th>1626649592</th>\n",
       "      <td>-1.889939</td>\n",
       "      <td>52.452635</td>\n",
       "    </tr>\n",
       "  </tbody>\n",
       "</table>\n",
       "<p>101 rows × 2 columns</p>\n",
       "</div>"
      ]
     },
     "metadata": {},
     "execution_count": 79
    }
   ],
   "metadata": {}
  },
  {
   "cell_type": "code",
   "execution_count": 72,
   "source": [
    "df = location_dictionary[sensorIds[0]]\r\n",
    "df.head()"
   ],
   "outputs": [
    {
     "output_type": "execute_result",
     "data": {
      "text/plain": [
       "            latitude  longitude\n",
       "timestamp                      \n",
       "1626501291 -1.889811  52.452676\n",
       "1626502670 -1.889395  52.452940\n",
       "1626502734 -1.889774  52.452767\n",
       "1626503572 -1.890229  52.452835\n",
       "1626503578 -1.890589  52.453279"
      ],
      "text/html": [
       "<div>\n",
       "<style scoped>\n",
       "    .dataframe tbody tr th:only-of-type {\n",
       "        vertical-align: middle;\n",
       "    }\n",
       "\n",
       "    .dataframe tbody tr th {\n",
       "        vertical-align: top;\n",
       "    }\n",
       "\n",
       "    .dataframe thead th {\n",
       "        text-align: right;\n",
       "    }\n",
       "</style>\n",
       "<table border=\"1\" class=\"dataframe\">\n",
       "  <thead>\n",
       "    <tr style=\"text-align: right;\">\n",
       "      <th></th>\n",
       "      <th>latitude</th>\n",
       "      <th>longitude</th>\n",
       "    </tr>\n",
       "    <tr>\n",
       "      <th>timestamp</th>\n",
       "      <th></th>\n",
       "      <th></th>\n",
       "    </tr>\n",
       "  </thead>\n",
       "  <tbody>\n",
       "    <tr>\n",
       "      <th>1626501291</th>\n",
       "      <td>-1.889811</td>\n",
       "      <td>52.452676</td>\n",
       "    </tr>\n",
       "    <tr>\n",
       "      <th>1626502670</th>\n",
       "      <td>-1.889395</td>\n",
       "      <td>52.452940</td>\n",
       "    </tr>\n",
       "    <tr>\n",
       "      <th>1626502734</th>\n",
       "      <td>-1.889774</td>\n",
       "      <td>52.452767</td>\n",
       "    </tr>\n",
       "    <tr>\n",
       "      <th>1626503572</th>\n",
       "      <td>-1.890229</td>\n",
       "      <td>52.452835</td>\n",
       "    </tr>\n",
       "    <tr>\n",
       "      <th>1626503578</th>\n",
       "      <td>-1.890589</td>\n",
       "      <td>52.453279</td>\n",
       "    </tr>\n",
       "  </tbody>\n",
       "</table>\n",
       "</div>"
      ]
     },
     "metadata": {},
     "execution_count": 72
    }
   ],
   "metadata": {}
  },
  {
   "cell_type": "code",
   "execution_count": 193,
   "source": [
    "#location_dictionary[key] = locations\r\n",
    "    #print(locations)\r\n",
    "    #locations = {} #clear dataframe after each iteration\r\n",
    "\r\n",
    "    #break"
   ],
   "outputs": [
    {
     "output_type": "stream",
     "name": "stdout",
     "text": [
      "{'1626476400_1626562800':             latitude  longitude\n",
      "timestamp                      \n",
      "1626476400 -1.836325  52.425768, '1626562800_1626649200': Empty DataFrame\n",
      "Columns: [latitude, longitude]\n",
      "Index: [], '1626735600_1626822000': Empty DataFrame\n",
      "Columns: [latitude, longitude]\n",
      "Index: [], '1626908400_1626994800': Empty DataFrame\n",
      "Columns: [latitude, longitude]\n",
      "Index: [], '1627081200_1627167600': Empty DataFrame\n",
      "Columns: [latitude, longitude]\n",
      "Index: [], '1627254000_1627340400': Empty DataFrame\n",
      "Columns: [latitude, longitude]\n",
      "Index: [], '1627426800_1627513200': Empty DataFrame\n",
      "Columns: [latitude, longitude]\n",
      "Index: [], '1627599600_1627686000': Empty DataFrame\n",
      "Columns: [latitude, longitude]\n",
      "Index: [], '1627772400_1627858800': Empty DataFrame\n",
      "Columns: [latitude, longitude]\n",
      "Index: [], '1627945200_1628031600': Empty DataFrame\n",
      "Columns: [latitude, longitude]\n",
      "Index: [], '1626130800_1626390000':             latitude  longitude\n",
      "timestamp                      \n",
      "1626159288 -1.896519  52.482877, '1626822000_1626994800': Empty DataFrame\n",
      "Columns: [latitude, longitude]\n",
      "Index: [], '1627254000_1627945200': Empty DataFrame\n",
      "Columns: [latitude, longitude]\n",
      "Index: [], '1626649200_1626735600': Empty DataFrame\n",
      "Columns: [latitude, longitude]\n",
      "Index: [], '1626822000_1626908400': Empty DataFrame\n",
      "Columns: [latitude, longitude]\n",
      "Index: [], '1626994800_1627081200': Empty DataFrame\n",
      "Columns: [latitude, longitude]\n",
      "Index: [], '1627167600_1627254000': Empty DataFrame\n",
      "Columns: [latitude, longitude]\n",
      "Index: [], '1627340400_1627426800': Empty DataFrame\n",
      "Columns: [latitude, longitude]\n",
      "Index: [], '1627513200_1627599600': Empty DataFrame\n",
      "Columns: [latitude, longitude]\n",
      "Index: [], '1627686000_1627772400': Empty DataFrame\n",
      "Columns: [latitude, longitude]\n",
      "Index: [], '1627858800_1627945200': Empty DataFrame\n",
      "Columns: [latitude, longitude]\n",
      "Index: []}\n"
     ]
    }
   ],
   "metadata": {}
  },
  {
   "cell_type": "code",
   "execution_count": 21,
   "source": [
    "endConst= \"00:01:00\"    #intialising constant of midnight in UTC \r\n",
    "endConst= datetime.strptime(endConst,\"%H:%M:%S\").time()     #convert to time only (already in UTC)"
   ],
   "outputs": [],
   "metadata": {}
  },
  {
   "cell_type": "code",
   "execution_count": 31,
   "source": [
    "print(location_dictionary[sensorIds[2]])"
   ],
   "outputs": [
    {
     "output_type": "stream",
     "name": "stdout",
     "text": [
      "{1626480094:             latitude  longitude\n",
      "timestamp                      \n",
      "1626480094 -1.836324  52.425765\n",
      "1626481017 -1.836324  52.425765}\n"
     ]
    }
   ],
   "metadata": {}
  },
  {
   "cell_type": "code",
   "execution_count": 21,
   "source": [
    "endConst= \"00:01:00\"    #intialising constant of midnight in UTC \r\n",
    "endConst= datetime.strptime(endConst,\"%H:%M:%S\").time()     #convert to time only (already in UTC)"
   ],
   "outputs": [],
   "metadata": {}
  },
  {
   "cell_type": "code",
   "execution_count": 22,
   "source": [
    "measurements = {} #intialse empty dictioanry to store each day of measurements\r\n",
    "\r\n",
    "#bringing the csv to pandas dataframes\r\n",
    "#put the dataframes into a dictionary with the sensor id as the key\r\n",
    "for key in sensorIds:\r\n",
    "    measure_dictionary[key] = pd.read_csv(measure_dictionary[key],parse_dates=True, index_col=\"timestamp\")\r\n",
    "\r\n",
    "    #dropping the date column \r\n",
    "    df = measure_dictionary[key]\r\n",
    "    df.drop(\"date (UTC)\", axis=1, inplace=True)\r\n",
    "\r\n",
    "    #splitting dataframes into daily basis (UTC) midnight to midnight\r\n",
    "    indexes = []\r\n",
    "\r\n",
    "    #get all the timestamps\r\n",
    "    timestamps = df.index.values\r\n",
    "\r\n",
    "    for t in timestamps:\r\n",
    "        t = int(t)\r\n",
    "        dt = datetime.fromtimestamp(t, tz=timezone.utc).time()\r\n",
    "  \r\n",
    "        if (endConst > dt):\r\n",
    "            indexes.append(t)\r\n",
    "    \r\n",
    "\r\n",
    "    timestamp_pair = [] # empty array\r\n",
    "    days = []\r\n",
    "    i= 0 \r\n",
    "\r\n",
    "    while i < (len(indexes)-1):\r\n",
    "        timestamp_pair.append(indexes[i]) \r\n",
    "        timestamp_pair.append(indexes[i+1])\r\n",
    "        days.append(timestamp_pair)\r\n",
    "        i += 1\r\n",
    "\r\n",
    "        #if i is even then skip onto next pair\r\n",
    "        if (i % 2 == 0):\r\n",
    "          i += 1  \r\n",
    "\r\n",
    "    #splitting the dataframe into separate days\r\n",
    "    for pair in days:\r\n",
    "        timestamp = pair[0]\r\n",
    "        measurements[timestamp] = df.loc[pair[0]:pair[1]]\r\n",
    "        \r\n",
    "    measure_dictionary[key] = measurements\r\n",
    "\r\n",
    "    measurements = {} #clear dataframe"
   ],
   "outputs": [],
   "metadata": {}
  },
  {
   "cell_type": "code",
   "execution_count": 9,
   "source": [
    "for key in sensorIds:\r\n",
    "    for l_dictionary in location_dictionary[key]:\r\n",
    "        for timestampKey in l_dictionary:\r\n",
    "            df = l_dictionary[timestampKey]\r\n",
    "            print(df.head(1))\r\n",
    "        \r\n",
    "# min_long= df['longitude'].min()\r\n",
    "# max_long = df['longitude'].max()\r\n",
    "\r\n",
    "# min_lat= df['latitude'].min()\r\n",
    "# max_lat = df['latitude'].max()\r\n",
    "\r\n",
    "# print(\"min_longitude: \" + str(min_long) + \"\\n max_logitude: \" + str(max_long))\r\n",
    "# print(\"min_latitude: \" + str(min_lat) + \"\\n max_latitude: \" + str(max_lat))"
   ],
   "outputs": [],
   "metadata": {}
  },
  {
   "cell_type": "markdown",
   "source": [
    "# Preparing data for upload into PostGres"
   ],
   "metadata": {}
  },
  {
   "cell_type": "code",
   "execution_count": 12,
   "source": [
    "sensor_summaries = {}\r\n",
    "sensor_data = {}\r\n",
    "\r\n",
    "geometry_string = \"\"\r\n",
    "\r\n",
    "ldf = df\r\n",
    "mdf = df\r\n",
    "\r\n",
    "for timestampKey in location_dictionary[sensorIds[0]]:\r\n",
    "    #location dataframe\r\n",
    "    ldf = locations[timestampKey]\r\n",
    "\r\n",
    "    #create bounding box polygon\r\n",
    "    min_y= ldf['longitude'].min()\r\n",
    "    max_y = ldf['longitude'].max()\r\n",
    "\r\n",
    "    min_x= ldf['latitude'].min()\r\n",
    "    max_x = ldf['latitude'].max()\r\n",
    "    #POLYGON(minx miny, minx Maxy, maxx Maxy, maxx miny, minx miny)\r\n",
    "    geometry_string = \"POLYGON(({} {}, {} {}, {} {}, {} {},{} {}))\".format(min_x,min_y,   min_x,max_y,   max_x,max_y,   max_x,min_y,   min_x,min_y)\r\n",
    "\r\n",
    "print(geometry_string)\r\n",
    "        \r\n",
    "    # for timestampKey in measure_dictionary[key]:\r\n",
    "        \r\n",
    "    #     #create new key for sensor summaries\r\n",
    "    #     timestamp_sensor_key = str(df.index[0]) + \"_\" + str(df.index[-1]) + \"_\" +  str(int(key))\r\n",
    "\r\n",
    "    #     #measurement dataframe\r\n",
    "    #     mdf = measurements[timestampKey]\r\n",
    "\r\n",
    "    #     #summaryArray = [timestamp_start,timestamp_end,sensor_id,bouding_box,measurement_count]\r\n",
    "    #     summaryArray = [mdf.index[0],mdf.index[-1],int(key),geometry_string,len(mdf.index.values)] #inserting row into temp array\r\n",
    "    #     sensor_summaries[timestamp_sensor_key] = summaryArray    #assign new dataframe to coressponding key\r\n",
    "        \r\n",
    "    #     ##########print(sensor_summaries[timestamp_sensor_key])\r\n",
    "\r\n",
    "    #     #dataArray = [id, mesaurement_json,location_json]\r\n",
    "    #     dataArray = [mdf.to_json(orient=\"columns\"),ldf.to_json(orient=\"columns\")]     #dataArray = [mdf.to_json('./{}.json'.format(key),orient=\"columns\"),ldf.to_json(orient=\"columns\")]\r\n",
    "    #     sensor_data[timestamp_sensor_key] = dataArray    #assign new dataframe to coressponding key    "
   ],
   "outputs": [
    {
     "output_type": "stream",
     "name": "stdout",
     "text": [
      "\n"
     ]
    }
   ],
   "metadata": {}
  },
  {
   "cell_type": "code",
   "execution_count": 10,
   "source": [
    "# min_long= df['longitude'].min()\r\n",
    "# max_long = df['longitude'].max()\r\n",
    "\r\n",
    "# min_lat= df['latitude'].min()\r\n",
    "# max_lat = df['latitude'].max()\r\n",
    "\r\n",
    "# print(\"min_longitude: \" + str(min_long) + \"\\n max_logitude: \" + str(max_long))\r\n",
    "# print(\"min_latitude: \" + str(min_lat) + \"\\n max_latitude: \" + str(max_lat))"
   ],
   "outputs": [],
   "metadata": {}
  },
  {
   "cell_type": "code",
   "execution_count": 11,
   "source": [
    "# sensor_summaries = {}\r\n",
    "# sensor_data = {}\r\n",
    "\r\n",
    "# geometry_string = \"\"\r\n",
    "\r\n",
    "# ldf = df\r\n",
    "# mdf = df\r\n",
    "\r\n",
    "# for key in sensorIds:\r\n",
    "#     for timestampKey in location_dictionary[sensorIds[0]]:\r\n",
    "#         #location dataframe\r\n",
    "#         ldf = locations[timestampKey]\r\n",
    "\r\n",
    "#         #create bounding box polygon\r\n",
    "#         min_y= ldf['longitude'].min()\r\n",
    "#         max_y = ldf['longitude'].max()\r\n",
    "\r\n",
    "#         min_x= ldf['latitude'].min()\r\n",
    "#         max_x = ldf['latitude'].max()\r\n",
    "#         #POLYGON(minx miny, minx Maxy, maxx Maxy, maxx miny, minx miny)\r\n",
    "#         geometry_string = \"POLYGON(({} {}, {} {}, {} {}, {} {},{} {}))\".format(min_x,min_y,   min_x,max_y,   max_x,max_y,   max_x,min_y,   min_x,min_y)\r\n",
    "\r\n",
    "# print(geometry_string)\r\n",
    "        \r\n",
    "#     # for timestampKey in measure_dictionary[key]:\r\n",
    "        \r\n",
    "#     #     #create new key for sensor summaries\r\n",
    "#     #     timestamp_sensor_key = str(df.index[0]) + \"_\" + str(df.index[-1]) + \"_\" +  str(int(key))\r\n",
    "\r\n",
    "#     #     #measurement dataframe\r\n",
    "#     #     mdf = measurements[timestampKey]\r\n",
    "\r\n",
    "#     #     #summaryArray = [timestamp_start,timestamp_end,sensor_id,bouding_box,measurement_count]\r\n",
    "#     #     summaryArray = [mdf.index[0],mdf.index[-1],int(key),geometry_string,len(mdf.index.values)] #inserting row into temp array\r\n",
    "#     #     sensor_summaries[timestamp_sensor_key] = summaryArray    #assign new dataframe to coressponding key\r\n",
    "        \r\n",
    "#     #     ##########print(sensor_summaries[timestamp_sensor_key])\r\n",
    "\r\n",
    "#     #     #dataArray = [id, mesaurement_json,location_json]\r\n",
    "#     #     dataArray = [mdf.to_json(orient=\"columns\"),ldf.to_json(orient=\"columns\")]     #dataArray = [mdf.to_json('./{}.json'.format(key),orient=\"columns\"),ldf.to_json(orient=\"columns\")]\r\n",
    "#     #     sensor_data[timestamp_sensor_key] = dataArray    #assign new dataframe to coressponding key    "
   ],
   "outputs": [
    {
     "output_type": "stream",
     "name": "stdout",
     "text": [
      "\n"
     ]
    }
   ],
   "metadata": {}
  },
  {
   "cell_type": "code",
   "execution_count": 11,
   "source": [
    "# # reading the JSON data using json.loads(json string)\r\n",
    "# # converting json dataset from dictionary to dataframe\r\n",
    "# dict_data = json.loads(sensor_data[sensorIds[0]][0])\r\n",
    "# data = pd.DataFrame.from_dict(dict_data, orient='columns')\r\n",
    "# data.index.rename('timestamp', inplace=True)\r\n",
    "# data.head()"
   ],
   "outputs": [],
   "metadata": {}
  },
  {
   "cell_type": "code",
   "execution_count": 21,
   "source": [
    "for key in sensor_summaries:\r\n",
    "    mdf = sensor_summaries[key]\r\n",
    "    print(mdf)\r\n"
   ],
   "outputs": [
    {
     "output_type": "stream",
     "name": "stdout",
     "text": [
      "[1626480043.0, 1626566444.0, 18699, '', 1434]\n",
      "[1626480043.0, 1626566444.0, 18720, '', 1434]\n",
      "[1626480043.0, 1626566444.0, 18749, '', 1434]\n"
     ]
    }
   ],
   "metadata": {}
  },
  {
   "cell_type": "markdown",
   "source": [
    "# Exporting to PostgresSQL \r\n"
   ],
   "metadata": {}
  },
  {
   "cell_type": "markdown",
   "source": [
    "# Writing records from a Dictionary of arrays to a SQL database\r\n",
    "loop over all the keys and execute insert query"
   ],
   "metadata": {}
  },
  {
   "cell_type": "code",
   "execution_count": 12,
   "source": [
    "#Connecting to an existing database\r\n",
    "con = psycopg2.connect(\r\n",
    "    host=\"localhost\",\r\n",
    "    database=\"airQuality\",\r\n",
    "    user=\"Riyad\", \r\n",
    "    password=\"123\",\r\n",
    "    # attempt to connect for 3 seconds then raise exception\r\n",
    "    connect_timeout = 3)"
   ],
   "outputs": [],
   "metadata": {}
  },
  {
   "cell_type": "code",
   "execution_count": 13,
   "source": [
    "#Opening a cursor to execute database operations\r\n",
    "cursor = con.cursor()\r\n",
    "query = \"SELECT * FROM sensor_network.sensors\"\r\n",
    "#change dataframe to csv and save file\r\n",
    "sensorsdf = pd.read_sql_query(query, con, index_col='plume_id')\r\n",
    "\r\n",
    "cursor.close()"
   ],
   "outputs": [],
   "metadata": {}
  },
  {
   "cell_type": "code",
   "execution_count": 14,
   "source": [
    "sensorsdf.head()"
   ],
   "outputs": [
    {
     "output_type": "execute_result",
     "data": {
      "text/plain": [
       "         sensor_serial_number  id  type_id\n",
       "plume_id                                  \n",
       "17539       02:00:00:00:43:8b   1        1\n",
       "19115       02:00:00:00:49:b3   2        1\n",
       "17521       02:00:00:00:43:79   3        1\n",
       "16397       02:00:00:00:3f:15   4        1\n",
       "16701       02:00:00:00:40:45   5        1"
      ],
      "text/html": [
       "<div>\n",
       "<style scoped>\n",
       "    .dataframe tbody tr th:only-of-type {\n",
       "        vertical-align: middle;\n",
       "    }\n",
       "\n",
       "    .dataframe tbody tr th {\n",
       "        vertical-align: top;\n",
       "    }\n",
       "\n",
       "    .dataframe thead th {\n",
       "        text-align: right;\n",
       "    }\n",
       "</style>\n",
       "<table border=\"1\" class=\"dataframe\">\n",
       "  <thead>\n",
       "    <tr style=\"text-align: right;\">\n",
       "      <th></th>\n",
       "      <th>sensor_serial_number</th>\n",
       "      <th>id</th>\n",
       "      <th>type_id</th>\n",
       "    </tr>\n",
       "    <tr>\n",
       "      <th>plume_id</th>\n",
       "      <th></th>\n",
       "      <th></th>\n",
       "      <th></th>\n",
       "    </tr>\n",
       "  </thead>\n",
       "  <tbody>\n",
       "    <tr>\n",
       "      <th>17539</th>\n",
       "      <td>02:00:00:00:43:8b</td>\n",
       "      <td>1</td>\n",
       "      <td>1</td>\n",
       "    </tr>\n",
       "    <tr>\n",
       "      <th>19115</th>\n",
       "      <td>02:00:00:00:49:b3</td>\n",
       "      <td>2</td>\n",
       "      <td>1</td>\n",
       "    </tr>\n",
       "    <tr>\n",
       "      <th>17521</th>\n",
       "      <td>02:00:00:00:43:79</td>\n",
       "      <td>3</td>\n",
       "      <td>1</td>\n",
       "    </tr>\n",
       "    <tr>\n",
       "      <th>16397</th>\n",
       "      <td>02:00:00:00:3f:15</td>\n",
       "      <td>4</td>\n",
       "      <td>1</td>\n",
       "    </tr>\n",
       "    <tr>\n",
       "      <th>16701</th>\n",
       "      <td>02:00:00:00:40:45</td>\n",
       "      <td>5</td>\n",
       "      <td>1</td>\n",
       "    </tr>\n",
       "  </tbody>\n",
       "</table>\n",
       "</div>"
      ]
     },
     "metadata": {},
     "execution_count": 14
    }
   ],
   "metadata": {}
  },
  {
   "cell_type": "code",
   "execution_count": 15,
   "source": [
    "for key in sensorIds:\r\n",
    "    #get the new key from sensors table\r\n",
    "    sensor_id = sensorsdf.loc[int(key)][1]\r\n",
    "\r\n",
    "    mdf = sensor_summaries[key]\r\n",
    "    ldf = sensor_data[key]\r\n",
    "\r\n",
    "    try:\r\n",
    "        #Opening a cursor to execute database operations\r\n",
    "        cursor = con.cursor()\r\n",
    "\r\n",
    "        #inserting sensor data and return the id of new record\r\n",
    "        cursor.execute(\"INSERT INTO sensor_data.archive_measurements (measurements,locations) VALUES(%s, %s) \\n RETURNING id\", (str(ldf[0]),str(ldf[1])) )\r\n",
    "        con.commit() \r\n",
    "        \r\n",
    "        #set id of new record into local variable\r\n",
    "        sensor_data_id = cursor.fetchone()[0]\r\n",
    "\r\n",
    "        #inserting sensor summary\r\n",
    "        cursor.execute(\"INSERT INTO sensor_network.sensor_summaries (timestamp_start,timestamp_end, sensor_id, b_box, sensor_data_id, measurement_count) VALUES(%s, %s, %s, %s, %s, %s)\", (int(mdf[0]), int(mdf[1]), int(sensor_id),str(mdf[3]),int(sensor_data_id),int(mdf[4])))\r\n",
    "        con.commit() \r\n",
    "\r\n",
    "        cursor.close()\r\n",
    "    #if table name does not exist exit loop \r\n",
    "    except(psycopg2.errors.UndefinedTable) as error:\r\n",
    "        print('ERROR: ' + error)\r\n",
    "        break"
   ],
   "outputs": [],
   "metadata": {}
  },
  {
   "cell_type": "code",
   "execution_count": 16,
   "source": [
    "#closing the connection\r\n",
    "con.close()"
   ],
   "outputs": [],
   "metadata": {}
  },
  {
   "cell_type": "markdown",
   "source": [],
   "metadata": {}
  }
 ]
}