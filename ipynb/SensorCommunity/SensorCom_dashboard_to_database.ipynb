{
 "cells": [
  {
   "cell_type": "code",
   "execution_count": 6,
   "metadata": {},
   "outputs": [],
   "source": [
    "import pandas as pd\n",
    "import numpy as np\n",
    "#import wget #WGET doesn't work here: URLError: <urlopen error [SSL: CERTIFICATE_VERIFY_FAILED] certificate verify failed: certificate has expired (_ssl.c:1125)>\n",
    "import requests\n",
    "import psycopg2\n",
    "from datetime import date, datetime, timedelta, timezone\n"
   ]
  },
  {
   "cell_type": "code",
   "execution_count": 7,
   "metadata": {},
   "outputs": [
    {
     "name": "stdout",
     "output_type": "stream",
     "text": [
      "2021-10-18\n"
     ]
    }
   ],
   "source": [
    "directory =  \"..\\..\\data\\sensorCommunity\\\\\"\n",
    "\n",
    "yesterday = (date.today() - timedelta(days=1)).strftime(\"%Y-%m-%d\")\n",
    "sensortype = \"sds011\"\n",
    "sensorid = \"60362\" #\"60368\"\n",
    "\n",
    "print(yesterday)"
   ]
  },
  {
   "cell_type": "markdown",
   "metadata": {},
   "source": [
    "# Code"
   ]
  },
  {
   "cell_type": "code",
   "execution_count": 8,
   "metadata": {},
   "outputs": [],
   "source": [
    "import io,csv\n",
    "from typing import List,Iterable"
   ]
  },
  {
   "cell_type": "code",
   "execution_count": 9,
   "metadata": {},
   "outputs": [
    {
     "name": "stdout",
     "output_type": "stream",
     "text": [
      "https://archive.sensor.community/2021-10-18/2021-10-18_sds011_sensor_60362.csv\n"
     ]
    }
   ],
   "source": [
    "url = \"https://archive.sensor.community/%s/%s_%s_sensor_%s.csv\" % (str(yesterday),str(yesterday),sensortype,sensorid)\n",
    "print(url)"
   ]
  },
  {
   "cell_type": "code",
   "execution_count": 16,
   "metadata": {},
   "outputs": [],
   "source": [
    "res = requests.get(url, stream=True)\n",
    "if res.ok:\n",
    "    file_ = io.BytesIO(res.content)\n",
    "else:\n",
    "     raise IOError()"
   ]
  },
  {
   "cell_type": "code",
   "execution_count": 17,
   "metadata": {},
   "outputs": [],
   "source": [
    "buffer = io.StringIO(file_.read().decode('UTF-8'))"
   ]
  },
  {
   "cell_type": "code",
   "execution_count": 18,
   "metadata": {},
   "outputs": [],
   "source": [
    "class ZepyhrSensor:\n",
    "    \"\"\"Per sensor object designed to wrap the csv files returned by the Plume API.\n",
    "\n",
    "    Example Usage:\n",
    "        ps = PlumeSensor.from_csv(\"16397\", open(\"sensor_measures_20211004_20211008_1.csv\"))\n",
    "        print(ps.DataFrame)\n",
    "    \"\"\"\n",
    "\n",
    "    def __init__(self, id_, header: List, rows: List):\n",
    "        self.id = id_\n",
    "        self.header = header\n",
    "        self.rows = rows\n",
    "\n",
    "    def add_row(self, row: Iterable):\n",
    "        \"\"\"Normalise and append row to internal list.\n",
    "\n",
    "        Coverts all digits to int objects, all elements are initially converted to strings before\n",
    "        digit check to avoid type errors.\n",
    "\n",
    "        :param row: row to add to plume sensor\n",
    "        \"\"\"\n",
    "        self.rows.append([int(i) if str(i).isdigit() else i for i in row])\n",
    "    \n",
    "    @property\n",
    "    def dataframe(self) -> pd.DataFrame:\n",
    "        \"\"\"Writes headers and rows into a DataFrame.\n",
    "        \"\"\"\n",
    "        return pd.DataFrame(self.rows, columns=self.header)"
   ]
  },
  {
   "cell_type": "code",
   "execution_count": 19,
   "metadata": {},
   "outputs": [],
   "source": [
    "sensor_id = '814'\n",
    "reader = csv.reader(buffer, dialect=csv.unix_dialect, delimiter = ';')\n",
    "header = next(reader)\n",
    "sensor = ZepyhrSensor(sensor_id, header, [])\n",
    "for row in reader:\n",
    "    sensor.add_row(row)"
   ]
  },
  {
   "cell_type": "code",
   "execution_count": 20,
   "metadata": {},
   "outputs": [
    {
     "data": {
      "text/html": [
       "<div>\n",
       "<style scoped>\n",
       "    .dataframe tbody tr th:only-of-type {\n",
       "        vertical-align: middle;\n",
       "    }\n",
       "\n",
       "    .dataframe tbody tr th {\n",
       "        vertical-align: top;\n",
       "    }\n",
       "\n",
       "    .dataframe thead th {\n",
       "        text-align: right;\n",
       "    }\n",
       "</style>\n",
       "<table border=\"1\" class=\"dataframe\">\n",
       "  <thead>\n",
       "    <tr style=\"text-align: right;\">\n",
       "      <th></th>\n",
       "      <th>sensor_id</th>\n",
       "      <th>sensor_type</th>\n",
       "      <th>location</th>\n",
       "      <th>lat</th>\n",
       "      <th>lon</th>\n",
       "      <th>timestamp</th>\n",
       "      <th>P1</th>\n",
       "      <th>durP1</th>\n",
       "      <th>ratioP1</th>\n",
       "      <th>P2</th>\n",
       "      <th>durP2</th>\n",
       "      <th>ratioP2</th>\n",
       "    </tr>\n",
       "  </thead>\n",
       "  <tbody>\n",
       "    <tr>\n",
       "      <th>0</th>\n",
       "      <td>60362</td>\n",
       "      <td>SDS011</td>\n",
       "      <td>46205</td>\n",
       "      <td>48.870</td>\n",
       "      <td>12.562</td>\n",
       "      <td>2021-10-18T00:00:15</td>\n",
       "      <td>61.50</td>\n",
       "      <td></td>\n",
       "      <td></td>\n",
       "      <td>34.78</td>\n",
       "      <td></td>\n",
       "      <td></td>\n",
       "    </tr>\n",
       "    <tr>\n",
       "      <th>1</th>\n",
       "      <td>60362</td>\n",
       "      <td>SDS011</td>\n",
       "      <td>46205</td>\n",
       "      <td>48.870</td>\n",
       "      <td>12.562</td>\n",
       "      <td>2021-10-18T00:02:42</td>\n",
       "      <td>66.40</td>\n",
       "      <td></td>\n",
       "      <td></td>\n",
       "      <td>36.90</td>\n",
       "      <td></td>\n",
       "      <td></td>\n",
       "    </tr>\n",
       "    <tr>\n",
       "      <th>2</th>\n",
       "      <td>60362</td>\n",
       "      <td>SDS011</td>\n",
       "      <td>46205</td>\n",
       "      <td>48.870</td>\n",
       "      <td>12.562</td>\n",
       "      <td>2021-10-18T00:05:09</td>\n",
       "      <td>70.15</td>\n",
       "      <td></td>\n",
       "      <td></td>\n",
       "      <td>37.40</td>\n",
       "      <td></td>\n",
       "      <td></td>\n",
       "    </tr>\n",
       "    <tr>\n",
       "      <th>3</th>\n",
       "      <td>60362</td>\n",
       "      <td>SDS011</td>\n",
       "      <td>46205</td>\n",
       "      <td>48.870</td>\n",
       "      <td>12.562</td>\n",
       "      <td>2021-10-18T00:07:38</td>\n",
       "      <td>66.53</td>\n",
       "      <td></td>\n",
       "      <td></td>\n",
       "      <td>34.58</td>\n",
       "      <td></td>\n",
       "      <td></td>\n",
       "    </tr>\n",
       "    <tr>\n",
       "      <th>4</th>\n",
       "      <td>60362</td>\n",
       "      <td>SDS011</td>\n",
       "      <td>46205</td>\n",
       "      <td>48.870</td>\n",
       "      <td>12.562</td>\n",
       "      <td>2021-10-18T00:10:05</td>\n",
       "      <td>59.42</td>\n",
       "      <td></td>\n",
       "      <td></td>\n",
       "      <td>34.70</td>\n",
       "      <td></td>\n",
       "      <td></td>\n",
       "    </tr>\n",
       "  </tbody>\n",
       "</table>\n",
       "</div>"
      ],
      "text/plain": [
       "   sensor_id sensor_type  location     lat     lon            timestamp  \\\n",
       "0      60362      SDS011     46205  48.870  12.562  2021-10-18T00:00:15   \n",
       "1      60362      SDS011     46205  48.870  12.562  2021-10-18T00:02:42   \n",
       "2      60362      SDS011     46205  48.870  12.562  2021-10-18T00:05:09   \n",
       "3      60362      SDS011     46205  48.870  12.562  2021-10-18T00:07:38   \n",
       "4      60362      SDS011     46205  48.870  12.562  2021-10-18T00:10:05   \n",
       "\n",
       "      P1 durP1 ratioP1     P2 durP2 ratioP2  \n",
       "0  61.50                34.78                \n",
       "1  66.40                36.90                \n",
       "2  70.15                37.40                \n",
       "3  66.53                34.58                \n",
       "4  59.42                34.70                "
      ]
     },
     "execution_count": 20,
     "metadata": {},
     "output_type": "execute_result"
    }
   ],
   "source": [
    "sensor.dataframe.head()"
   ]
  },
  {
   "cell_type": "markdown",
   "metadata": {},
   "source": [
    "# Code"
   ]
  },
  {
   "cell_type": "code",
   "execution_count": 3,
   "metadata": {},
   "outputs": [
    {
     "name": "stdout",
     "output_type": "stream",
     "text": [
      "https://archive.sensor.community/2021-10-14/2021-10-14_sds011_sensor_60362.csv\n"
     ]
    }
   ],
   "source": [
    "url = \"https://archive.sensor.community/%s/%s_%s_sensor_%s.csv\" % (str(yesterday),str(yesterday),sensortype,sensorid)\n",
    "print(url)"
   ]
  },
  {
   "cell_type": "code",
   "execution_count": 4,
   "metadata": {},
   "outputs": [],
   "source": [
    "# Define the local filename to save data\n",
    "local_file = directory + url.split('_')[-1]\n",
    "# Make http request for remote file data\n",
    "data = requests.get(url)\n",
    "# Save file data to local copy\n",
    "with open(local_file, 'wb')as file:\n",
    "    file.write(data.content)"
   ]
  },
  {
   "cell_type": "code",
   "execution_count": 5,
   "metadata": {},
   "outputs": [
    {
     "name": "stdout",
     "output_type": "stream",
     "text": [
      "['60362.csv', '60368.csv']\n"
     ]
    }
   ],
   "source": [
    "sensorDirectory = next(os.walk(directory))[2]\n",
    "print(sensorDirectory)"
   ]
  },
  {
   "cell_type": "code",
   "execution_count": 6,
   "metadata": {},
   "outputs": [
    {
     "name": "stdout",
     "output_type": "stream",
     "text": [
      "['60362', '60368']\n"
     ]
    }
   ],
   "source": [
    "#extracts all the sensorIDs from the list of sensor directories and adds it to a list\n",
    "sensorIds = []\n",
    "\n",
    "for currentId in sensorDirectory:\n",
    "    sensorIds.append(currentId.split(\".\")[0])\n",
    "print(sensorIds)"
   ]
  },
  {
   "cell_type": "code",
   "execution_count": 7,
   "metadata": {},
   "outputs": [
    {
     "name": "stdout",
     "output_type": "stream",
     "text": [
      "{'60362': '..\\\\..\\\\data\\\\sensorCommunity\\\\60362.csv', '60368': '..\\\\..\\\\data\\\\sensorCommunity\\\\60368.csv'}\n"
     ]
    }
   ],
   "source": [
    "sensorPath = []\n",
    "for i in sensorIds:\n",
    "    sensorPath.append(os.path.join(directory + i + \".csv\"))\n",
    "\n",
    "#map serial number to filepaths\n",
    "sensorPaths = {k:v for k,v in zip(sensorIds,sensorPath)}\n",
    "print(sensorPaths)"
   ]
  },
  {
   "cell_type": "markdown",
   "metadata": {},
   "source": [
    "# Extract csv to dataframes"
   ]
  },
  {
   "cell_type": "code",
   "execution_count": 15,
   "metadata": {},
   "outputs": [],
   "source": [
    "for key in sensorPaths:\n",
    "    df = pd.read_csv(sensorPaths[key],sep=';', parse_dates=True, index_col= \"timestamp\")\n",
    "    df.drop(\"sensor_id\",axis=1,inplace=True)\n",
    "    df.drop(\"sensor_type\",axis=1,inplace=True)\n",
    "    df.drop(\"location\",axis=1,inplace=True)\n",
    "    break"
   ]
  },
  {
   "cell_type": "code",
   "execution_count": 16,
   "metadata": {},
   "outputs": [
    {
     "data": {
      "text/html": [
       "<div>\n",
       "<style scoped>\n",
       "    .dataframe tbody tr th:only-of-type {\n",
       "        vertical-align: middle;\n",
       "    }\n",
       "\n",
       "    .dataframe tbody tr th {\n",
       "        vertical-align: top;\n",
       "    }\n",
       "\n",
       "    .dataframe thead th {\n",
       "        text-align: right;\n",
       "    }\n",
       "</style>\n",
       "<table border=\"1\" class=\"dataframe\">\n",
       "  <thead>\n",
       "    <tr style=\"text-align: right;\">\n",
       "      <th></th>\n",
       "      <th>sensor_type</th>\n",
       "      <th>lat</th>\n",
       "      <th>lon</th>\n",
       "      <th>P1</th>\n",
       "      <th>durP1</th>\n",
       "      <th>ratioP1</th>\n",
       "      <th>P2</th>\n",
       "      <th>durP2</th>\n",
       "      <th>ratioP2</th>\n",
       "    </tr>\n",
       "    <tr>\n",
       "      <th>timestamp</th>\n",
       "      <th></th>\n",
       "      <th></th>\n",
       "      <th></th>\n",
       "      <th></th>\n",
       "      <th></th>\n",
       "      <th></th>\n",
       "      <th></th>\n",
       "      <th></th>\n",
       "      <th></th>\n",
       "    </tr>\n",
       "  </thead>\n",
       "  <tbody>\n",
       "    <tr>\n",
       "      <th>2021-10-14 00:00:16</th>\n",
       "      <td>SDS011</td>\n",
       "      <td>48.87</td>\n",
       "      <td>12.562</td>\n",
       "      <td>13.85</td>\n",
       "      <td>NaN</td>\n",
       "      <td>NaN</td>\n",
       "      <td>7.90</td>\n",
       "      <td>NaN</td>\n",
       "      <td>NaN</td>\n",
       "    </tr>\n",
       "    <tr>\n",
       "      <th>2021-10-14 00:02:42</th>\n",
       "      <td>SDS011</td>\n",
       "      <td>48.87</td>\n",
       "      <td>12.562</td>\n",
       "      <td>15.32</td>\n",
       "      <td>NaN</td>\n",
       "      <td>NaN</td>\n",
       "      <td>8.57</td>\n",
       "      <td>NaN</td>\n",
       "      <td>NaN</td>\n",
       "    </tr>\n",
       "    <tr>\n",
       "      <th>2021-10-14 00:05:09</th>\n",
       "      <td>SDS011</td>\n",
       "      <td>48.87</td>\n",
       "      <td>12.562</td>\n",
       "      <td>13.80</td>\n",
       "      <td>NaN</td>\n",
       "      <td>NaN</td>\n",
       "      <td>8.10</td>\n",
       "      <td>NaN</td>\n",
       "      <td>NaN</td>\n",
       "    </tr>\n",
       "    <tr>\n",
       "      <th>2021-10-14 00:07:35</th>\n",
       "      <td>SDS011</td>\n",
       "      <td>48.87</td>\n",
       "      <td>12.562</td>\n",
       "      <td>12.95</td>\n",
       "      <td>NaN</td>\n",
       "      <td>NaN</td>\n",
       "      <td>8.60</td>\n",
       "      <td>NaN</td>\n",
       "      <td>NaN</td>\n",
       "    </tr>\n",
       "    <tr>\n",
       "      <th>2021-10-14 00:10:03</th>\n",
       "      <td>SDS011</td>\n",
       "      <td>48.87</td>\n",
       "      <td>12.562</td>\n",
       "      <td>15.43</td>\n",
       "      <td>NaN</td>\n",
       "      <td>NaN</td>\n",
       "      <td>8.65</td>\n",
       "      <td>NaN</td>\n",
       "      <td>NaN</td>\n",
       "    </tr>\n",
       "  </tbody>\n",
       "</table>\n",
       "</div>"
      ],
      "text/plain": [
       "                    sensor_type    lat     lon     P1  durP1  ratioP1    P2  \\\n",
       "timestamp                                                                     \n",
       "2021-10-14 00:00:16      SDS011  48.87  12.562  13.85    NaN      NaN  7.90   \n",
       "2021-10-14 00:02:42      SDS011  48.87  12.562  15.32    NaN      NaN  8.57   \n",
       "2021-10-14 00:05:09      SDS011  48.87  12.562  13.80    NaN      NaN  8.10   \n",
       "2021-10-14 00:07:35      SDS011  48.87  12.562  12.95    NaN      NaN  8.60   \n",
       "2021-10-14 00:10:03      SDS011  48.87  12.562  15.43    NaN      NaN  8.65   \n",
       "\n",
       "                     durP2  ratioP2  \n",
       "timestamp                            \n",
       "2021-10-14 00:00:16    NaN      NaN  \n",
       "2021-10-14 00:02:42    NaN      NaN  \n",
       "2021-10-14 00:05:09    NaN      NaN  \n",
       "2021-10-14 00:07:35    NaN      NaN  \n",
       "2021-10-14 00:10:03    NaN      NaN  "
      ]
     },
     "execution_count": 16,
     "metadata": {},
     "output_type": "execute_result"
    }
   ],
   "source": [
    "df.head()"
   ]
  },
  {
   "cell_type": "code",
   "execution_count": null,
   "metadata": {},
   "outputs": [],
   "source": []
  }
 ],
 "metadata": {
  "interpreter": {
   "hash": "58e6f625ba2c43b7fc3c95c61d4ef7749e639023949ab2a4f0956b7241794ddb"
  },
  "kernelspec": {
   "display_name": "Python 3.8.8 64-bit ('base': conda)",
   "name": "python3"
  },
  "language_info": {
   "codemirror_mode": {
    "name": "ipython",
    "version": 3
   },
   "file_extension": ".py",
   "mimetype": "text/x-python",
   "name": "python",
   "nbconvert_exporter": "python",
   "pygments_lexer": "ipython3",
   "version": "3.8.8"
  },
  "orig_nbformat": 4
 },
 "nbformat": 4,
 "nbformat_minor": 2
}
