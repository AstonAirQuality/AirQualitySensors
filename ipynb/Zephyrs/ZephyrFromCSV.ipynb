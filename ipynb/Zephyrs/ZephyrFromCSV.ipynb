{
 "cells": [
  {
   "cell_type": "code",
   "execution_count": 2,
   "source": [
    "import pandas as pd\r\n",
    "import requests\r\n",
    "from datetime import datetime\r\n",
    "import numpy as np\r\n",
    "import json\r\n",
    "import wget # pip install wget"
   ],
   "outputs": [],
   "metadata": {}
  },
  {
   "cell_type": "code",
   "execution_count": 3,
   "source": [
    "zephyr_username = \"AstonUniversity\"\r\n",
    "zephyr_password = \"Xo08R83d43e0Kk6\""
   ],
   "outputs": [],
   "metadata": {}
  },
  {
   "cell_type": "code",
   "execution_count": 4,
   "source": [
    "url = \"https://data.earthsense.co.uk/zephyrsForUser/%s/%s\" % (zephyr_username, zephyr_password)\r\n",
    "response = requests.get(url)"
   ],
   "outputs": [],
   "metadata": {}
  },
  {
   "cell_type": "code",
   "execution_count": 5,
   "source": [
    "print(response.status_code)"
   ],
   "outputs": [
    {
     "output_type": "stream",
     "name": "stdout",
     "text": [
      "200\n"
     ]
    }
   ],
   "metadata": {}
  },
  {
   "cell_type": "code",
   "execution_count": 6,
   "source": [
    "def jprint(obj):\r\n",
    "    # create a formatted string of the Python JSON object\r\n",
    "    zepyhr_id = json.dumps(obj, sort_keys=True, indent=4)\r\n",
    "    return zepyhr_id"
   ],
   "outputs": [],
   "metadata": {}
  },
  {
   "cell_type": "code",
   "execution_count": 7,
   "source": [
    "pass_times = response.json()['usersZephyrs']['13883']['zNumber']\r\n",
    "jprint(pass_times)"
   ],
   "outputs": [
    {
     "output_type": "execute_result",
     "data": {
      "text/plain": [
       "'814'"
      ]
     },
     "metadata": {},
     "execution_count": 7
    }
   ],
   "metadata": {}
  },
  {
   "cell_type": "code",
   "execution_count": 8,
   "source": [
    "jsonObject = response.json()['usersZephyrs']\r\n",
    "zephyr_id_list = []\r\n",
    "\r\n",
    "for key in jsonObject:\r\n",
    "    pass_times = response.json()['usersZephyrs'][key]['zNumber']\r\n",
    "    zephyr_id_list.append(jprint(pass_times))\r\n",
    "    \r\n",
    "print(zephyr_id_list)"
   ],
   "outputs": [
    {
     "output_type": "stream",
     "name": "stdout",
     "text": [
      "['814', '821']\n"
     ]
    }
   ],
   "metadata": {}
  },
  {
   "cell_type": "markdown",
   "source": [
    "# Download and extraction "
   ],
   "metadata": {}
  },
  {
   "cell_type": "code",
   "execution_count": 9,
   "source": [
    "start_datetime = \"202108180000\"\r\n",
    "end_datetime = \"202108200000\"\r\n",
    "slots = \"B\"\r\n",
    "format_output = \"csv\"\r\n",
    "target = \"api\""
   ],
   "outputs": [],
   "metadata": {}
  },
  {
   "cell_type": "code",
   "execution_count": 10,
   "source": [
    "for zephyr_id in zephyr_id_list:\r\n",
    "    url = \"https://data.earthsense.co.uk/dataForViewBySlots/%s/%s/%s/%s/%s/%s/def/%s/%s\" % (zephyr_username, zephyr_password, zephyr_id,start_datetime,end_datetime,slots,format_output,target)\r\n",
    "\r\n",
    "    #We can use the wget library to download the zip file.\r\n",
    "    #We can then extract the file into a local \"data\" folder \r\n",
    "    #The final step is to identify the paths of the csv files we need.\r\n",
    "    try: \r\n",
    "        target = wget.download(url, \"..\\data\\zephyrs\")\r\n",
    "    except BaseException as error:\r\n",
    "        print('An exception occurred: {}'.format(error))"
   ],
   "outputs": [
    {
     "output_type": "stream",
     "name": "stdout",
     "text": [
      "An exception occurred: HTTP Error 500: INTERNAL SERVER ERROR\n",
      "An exception occurred: HTTP Error 500: INTERNAL SERVER ERROR\n"
     ]
    }
   ],
   "metadata": {}
  },
  {
   "cell_type": "code",
   "execution_count": 51,
   "source": [
    "zephyr_csv = []\r\n",
    "\r\n",
    "for zephyr_id in zephyr_id_list:\r\n",
    "    url = \"https://data.earthsense.co.uk/dataForViewBySlots/%s/%s/%s/%s/%s/%s/def/%s/%s\" % (zephyr_username, zephyr_password, zephyr_id,start_datetime,end_datetime,slots,format_output,target)\r\n",
    "    response = requests.get(url)\r\n",
    "    if response.status_code == 200:\r\n",
    "        zephyr_jsons.append(response.json()['slotB'])\r\n",
    "    else:\r\n",
    "        print(\"HTTP request error code: \" + response.status_code)"
   ],
   "outputs": [],
   "metadata": {}
  },
  {
   "cell_type": "markdown",
   "source": [
    "# json to dt"
   ],
   "metadata": {}
  },
  {
   "cell_type": "code",
   "execution_count": 153,
   "source": [
    "#extracting and preparing the dataframe from the json objects\r\n",
    "dfList = []\r\n",
    "for jsonObject in zephyr_jsons:\r\n",
    "    df_temp = pd.DataFrame.from_records(jsonObject)\r\n",
    "    df_temp.drop('header', axis =0, inplace=True)\r\n",
    "    df_temp.drop('data_hash', axis =0, inplace=True)\r\n",
    "    df_temp.drop('UTS', axis=1, inplace=True)\r\n",
    "\r\n",
    "    #explode function transform each element of a list to a row.\r\n",
    "    #we can apply it to all the columns assuming they have the same number of elements in each list \r\n",
    "    df_temp = df_temp.apply(pd.Series.explode)\r\n",
    "    \r\n",
    "    dfList.append(df_temp)\r\n",
    "\r\n",
    "measurement_dictionary = {k:v for k,v in zip(zephyr_id_list,dfList)}\r\n",
    "dfList = [] # clear dataframe list\r\n"
   ],
   "outputs": [],
   "metadata": {}
  },
  {
   "cell_type": "markdown",
   "source": [
    "# Splitting dataframe into days"
   ],
   "metadata": {}
  },
  {
   "cell_type": "code",
   "execution_count": 154,
   "source": [
    "def dataSplit(df_temp,dateString):\r\n",
    "    \r\n",
    "    data = {} #intialise empty dictionary to store each day of locations\r\n",
    "    \r\n",
    "    df_temp = measurement_dictionary[key]\r\n",
    "\r\n",
    "    # using the dates which are already supplied. This strategy in the line below converts them and rounds down to date using 'd' flag\r\n",
    "    # This strategy (line below) will keep just the date\r\n",
    "    df_temp['day'] = pd.to_datetime(df_temp[dateString], dayfirst=True, errors='coerce').dt.date\r\n",
    "\r\n",
    "    the_unique_dates = df_temp['day'].unique()\r\n",
    "    #print('Unique dates:',the_unique_dates)\r\n",
    "    # this gives the same result as the for loop below\r\n",
    "    \r\n",
    "    #splitting the dataframe into separate days\r\n",
    "    #for each day in unique dates set:\r\n",
    "    for day in the_unique_dates:\r\n",
    "        try:\r\n",
    "            # In my code below I assign the subset of records to a new dataframe called dft\r\n",
    "            # create 'midnight' timestamps\r\n",
    "            timestampKey = int((pd.to_datetime(day, errors='coerce')).timestamp())\r\n",
    "\r\n",
    "            # select the records for this day\r\n",
    "            dft = df_temp[df_temp['day']==day]\r\n",
    "\r\n",
    "            # #drop the date column to save space (we don't need this anymore)\r\n",
    "            #dft = dft.drop(dateString, axis=1)\r\n",
    "            dft = dft.drop(\"day\", axis=1)\r\n",
    "            dft = dft.dropna() #drop null values\r\n",
    "            \r\n",
    "            data[timestampKey] = dft\r\n",
    "\r\n",
    "        except KeyError as e:\r\n",
    "            print(e)\r\n",
    "\r\n",
    "    return data"
   ],
   "outputs": [],
   "metadata": {}
  },
  {
   "cell_type": "code",
   "execution_count": 155,
   "source": [
    "for key in measurement_dictionary:\r\n",
    "    measurement_dictionary[key] = dataSplit(measurement_dictionary[key],'dateTime')\r\n",
    "\r\n",
    "location_dictionary = measurement_dictionary "
   ],
   "outputs": [],
   "metadata": {}
  },
  {
   "cell_type": "markdown",
   "source": [
    "# Separating each list "
   ],
   "metadata": {}
  },
  {
   "cell_type": "code",
   "execution_count": 156,
   "source": [
    "def calculateTimestamps(df):\r\n",
    "    #set the index to Timestamp and automatically drops the datetime index\r\n",
    "    df['Timestamp'] = df.index.values.astype(np.int64) // 10 ** 9\r\n",
    "    df.set_index('Timestamp',inplace=True)\r\n",
    "    return df"
   ],
   "outputs": [],
   "metadata": {}
  },
  {
   "cell_type": "code",
   "execution_count": 157,
   "source": [
    "def dataframeAverages(intervalString,df):\r\n",
    "    #convert all column types to int\r\n",
    "    df = df.astype(int)\r\n",
    "    #resample by minute and get mean\r\n",
    "    df= df.resample(intervalString).mean() \r\n",
    "\r\n",
    "    df.isnull().sum() # identify any null values\r\n",
    "    df.dropna(inplace=True) #drop null values\r\n",
    "    #df = df.astype(int)  #convert avergaes back to int\r\n",
    "    return df"
   ],
   "outputs": [],
   "metadata": {}
  },
  {
   "cell_type": "code",
   "execution_count": 158,
   "source": [
    "for key in measurement_dictionary:\r\n",
    "    for timestamp in measurement_dictionary[key]:\r\n",
    "        df_temp = measurement_dictionary[key][timestamp]\r\n",
    "        df_temp.set_index('dateTime',inplace=True)\r\n",
    "        df_temp.index = pd.to_datetime(df_temp.index,dayfirst=True)\r\n",
    "\r\n",
    "        #extracting the location data\r\n",
    "        ldf = df_temp[['latitude','longitude']]\r\n",
    "        df_temp.drop(['latitude','longitude'],axis=1, inplace=True) #drop the lcoation columns \r\n",
    "\r\n",
    "        #calculate minute averages\r\n",
    "        #df_temp = dataframeAverages('1min',df_temp)\r\n",
    "        #df_temp = calculateTimestamps(df_temp)\r\n",
    "\r\n",
    "        #reassign new location dataframe to dictionary\r\n",
    "        location_dictionary[key][timestamp] = ldf\r\n",
    "\r\n",
    "        #reassign new measurement dataframe to dictionary\r\n",
    "        measurement_dictionary[key][timestamp] = df_temp"
   ],
   "outputs": [],
   "metadata": {}
  },
  {
   "cell_type": "code",
   "execution_count": 159,
   "source": [
    "for key in measurement_dictionary:\r\n",
    "    for timestamp in measurement_dictionary[key]:\r\n",
    "        df_temp = measurement_dictionary[key][timestamp]\r\n",
    "    #break\r\n",
    "\r\n",
    "df_temp.head()"
   ],
   "outputs": [
    {
     "output_type": "execute_result",
     "data": {
      "text/plain": [
       "                          NO NO2  O3 ambHumidity ambPressure ambTempC  \\\n",
       "dateTime                                                                \n",
       "2021-08-19 00:00:16+00:00  0  11  10          51       99948       22   \n",
       "2021-08-19 00:00:26+00:00  0  12   8          51       99946       22   \n",
       "2021-08-19 00:00:36+00:00  0  11   8          51       99946       22   \n",
       "2021-08-19 00:00:46+00:00  0  12  22          51       99944       22   \n",
       "2021-08-19 00:00:56+00:00  0  10  10          51       99946       22   \n",
       "\n",
       "                          humidity particulatePM1 particulatePM10  \\\n",
       "dateTime                                                            \n",
       "2021-08-19 00:00:16+00:00       52              1               8   \n",
       "2021-08-19 00:00:26+00:00       52              1               8   \n",
       "2021-08-19 00:00:36+00:00       52              1               8   \n",
       "2021-08-19 00:00:46+00:00       52              1               8   \n",
       "2021-08-19 00:00:56+00:00       52              1               8   \n",
       "\n",
       "                          particulatePM25 tempC  \n",
       "dateTime                                         \n",
       "2021-08-19 00:00:16+00:00               8    23  \n",
       "2021-08-19 00:00:26+00:00               8    23  \n",
       "2021-08-19 00:00:36+00:00               8    23  \n",
       "2021-08-19 00:00:46+00:00               8    23  \n",
       "2021-08-19 00:00:56+00:00               8    23  "
      ],
      "text/html": [
       "<div>\n",
       "<style scoped>\n",
       "    .dataframe tbody tr th:only-of-type {\n",
       "        vertical-align: middle;\n",
       "    }\n",
       "\n",
       "    .dataframe tbody tr th {\n",
       "        vertical-align: top;\n",
       "    }\n",
       "\n",
       "    .dataframe thead th {\n",
       "        text-align: right;\n",
       "    }\n",
       "</style>\n",
       "<table border=\"1\" class=\"dataframe\">\n",
       "  <thead>\n",
       "    <tr style=\"text-align: right;\">\n",
       "      <th></th>\n",
       "      <th>NO</th>\n",
       "      <th>NO2</th>\n",
       "      <th>O3</th>\n",
       "      <th>ambHumidity</th>\n",
       "      <th>ambPressure</th>\n",
       "      <th>ambTempC</th>\n",
       "      <th>humidity</th>\n",
       "      <th>particulatePM1</th>\n",
       "      <th>particulatePM10</th>\n",
       "      <th>particulatePM25</th>\n",
       "      <th>tempC</th>\n",
       "    </tr>\n",
       "    <tr>\n",
       "      <th>dateTime</th>\n",
       "      <th></th>\n",
       "      <th></th>\n",
       "      <th></th>\n",
       "      <th></th>\n",
       "      <th></th>\n",
       "      <th></th>\n",
       "      <th></th>\n",
       "      <th></th>\n",
       "      <th></th>\n",
       "      <th></th>\n",
       "      <th></th>\n",
       "    </tr>\n",
       "  </thead>\n",
       "  <tbody>\n",
       "    <tr>\n",
       "      <th>2021-08-19 00:00:16+00:00</th>\n",
       "      <td>0</td>\n",
       "      <td>11</td>\n",
       "      <td>10</td>\n",
       "      <td>51</td>\n",
       "      <td>99948</td>\n",
       "      <td>22</td>\n",
       "      <td>52</td>\n",
       "      <td>1</td>\n",
       "      <td>8</td>\n",
       "      <td>8</td>\n",
       "      <td>23</td>\n",
       "    </tr>\n",
       "    <tr>\n",
       "      <th>2021-08-19 00:00:26+00:00</th>\n",
       "      <td>0</td>\n",
       "      <td>12</td>\n",
       "      <td>8</td>\n",
       "      <td>51</td>\n",
       "      <td>99946</td>\n",
       "      <td>22</td>\n",
       "      <td>52</td>\n",
       "      <td>1</td>\n",
       "      <td>8</td>\n",
       "      <td>8</td>\n",
       "      <td>23</td>\n",
       "    </tr>\n",
       "    <tr>\n",
       "      <th>2021-08-19 00:00:36+00:00</th>\n",
       "      <td>0</td>\n",
       "      <td>11</td>\n",
       "      <td>8</td>\n",
       "      <td>51</td>\n",
       "      <td>99946</td>\n",
       "      <td>22</td>\n",
       "      <td>52</td>\n",
       "      <td>1</td>\n",
       "      <td>8</td>\n",
       "      <td>8</td>\n",
       "      <td>23</td>\n",
       "    </tr>\n",
       "    <tr>\n",
       "      <th>2021-08-19 00:00:46+00:00</th>\n",
       "      <td>0</td>\n",
       "      <td>12</td>\n",
       "      <td>22</td>\n",
       "      <td>51</td>\n",
       "      <td>99944</td>\n",
       "      <td>22</td>\n",
       "      <td>52</td>\n",
       "      <td>1</td>\n",
       "      <td>8</td>\n",
       "      <td>8</td>\n",
       "      <td>23</td>\n",
       "    </tr>\n",
       "    <tr>\n",
       "      <th>2021-08-19 00:00:56+00:00</th>\n",
       "      <td>0</td>\n",
       "      <td>10</td>\n",
       "      <td>10</td>\n",
       "      <td>51</td>\n",
       "      <td>99946</td>\n",
       "      <td>22</td>\n",
       "      <td>52</td>\n",
       "      <td>1</td>\n",
       "      <td>8</td>\n",
       "      <td>8</td>\n",
       "      <td>23</td>\n",
       "    </tr>\n",
       "  </tbody>\n",
       "</table>\n",
       "</div>"
      ]
     },
     "metadata": {},
     "execution_count": 159
    }
   ],
   "metadata": {}
  },
  {
   "cell_type": "markdown",
   "source": [
    "# looking at the data"
   ],
   "metadata": {}
  },
  {
   "cell_type": "code",
   "execution_count": 160,
   "source": [
    "import matplotlib.pyplot as plt\r\n",
    "import seaborn as sns\r\n",
    "import sys\r\n",
    "import numpy as np\r\n",
    "import matplotlib.dates as mdates"
   ],
   "outputs": [],
   "metadata": {}
  },
  {
   "cell_type": "code",
   "execution_count": 162,
   "source": [
    "df.head()"
   ],
   "outputs": [
    {
     "output_type": "execute_result",
     "data": {
      "text/plain": [
       "                            NO       NO2         O3  ambHumidity  \\\n",
       "dateTime                                                           \n",
       "2021-08-19 00:00:00+00:00  0.0  9.557994  11.363636    50.959248   \n",
       "2021-08-19 01:00:00+00:00  0.0  8.510638  12.714286    50.957447   \n",
       "2021-08-19 02:00:00+00:00  0.0  7.403727  12.307453    50.546584   \n",
       "2021-08-19 03:00:00+00:00  0.0  8.080997  11.638629    50.373832   \n",
       "2021-08-19 04:00:00+00:00  0.0  9.561350  11.131902    50.861963   \n",
       "\n",
       "                            ambPressure  ambTempC   humidity  particulatePM1  \\\n",
       "dateTime                                                                       \n",
       "2021-08-19 00:00:00+00:00  99924.373041      22.0  51.984326        0.880878   \n",
       "2021-08-19 01:00:00+00:00  99898.629179      22.0  51.699088        0.829787   \n",
       "2021-08-19 02:00:00+00:00  99875.841615      22.0  51.000000        0.754658   \n",
       "2021-08-19 03:00:00+00:00  99857.186916      22.0  51.000000        0.669782   \n",
       "2021-08-19 04:00:00+00:00  99833.917178      22.0  51.208589        0.794479   \n",
       "\n",
       "                           particulatePM10  particulatePM25      tempC  \n",
       "dateTime                                                                \n",
       "2021-08-19 00:00:00+00:00         8.407524         8.407524  22.990596  \n",
       "2021-08-19 01:00:00+00:00         8.553191         8.553191  22.127660  \n",
       "2021-08-19 02:00:00+00:00         8.590062         8.590062  22.000000  \n",
       "2021-08-19 03:00:00+00:00         8.404984         8.404984  22.000000  \n",
       "2021-08-19 04:00:00+00:00         8.674847         8.674847  22.000000  "
      ],
      "text/html": [
       "<div>\n",
       "<style scoped>\n",
       "    .dataframe tbody tr th:only-of-type {\n",
       "        vertical-align: middle;\n",
       "    }\n",
       "\n",
       "    .dataframe tbody tr th {\n",
       "        vertical-align: top;\n",
       "    }\n",
       "\n",
       "    .dataframe thead th {\n",
       "        text-align: right;\n",
       "    }\n",
       "</style>\n",
       "<table border=\"1\" class=\"dataframe\">\n",
       "  <thead>\n",
       "    <tr style=\"text-align: right;\">\n",
       "      <th></th>\n",
       "      <th>NO</th>\n",
       "      <th>NO2</th>\n",
       "      <th>O3</th>\n",
       "      <th>ambHumidity</th>\n",
       "      <th>ambPressure</th>\n",
       "      <th>ambTempC</th>\n",
       "      <th>humidity</th>\n",
       "      <th>particulatePM1</th>\n",
       "      <th>particulatePM10</th>\n",
       "      <th>particulatePM25</th>\n",
       "      <th>tempC</th>\n",
       "    </tr>\n",
       "    <tr>\n",
       "      <th>dateTime</th>\n",
       "      <th></th>\n",
       "      <th></th>\n",
       "      <th></th>\n",
       "      <th></th>\n",
       "      <th></th>\n",
       "      <th></th>\n",
       "      <th></th>\n",
       "      <th></th>\n",
       "      <th></th>\n",
       "      <th></th>\n",
       "      <th></th>\n",
       "    </tr>\n",
       "  </thead>\n",
       "  <tbody>\n",
       "    <tr>\n",
       "      <th>2021-08-19 00:00:00+00:00</th>\n",
       "      <td>0.0</td>\n",
       "      <td>9.557994</td>\n",
       "      <td>11.363636</td>\n",
       "      <td>50.959248</td>\n",
       "      <td>99924.373041</td>\n",
       "      <td>22.0</td>\n",
       "      <td>51.984326</td>\n",
       "      <td>0.880878</td>\n",
       "      <td>8.407524</td>\n",
       "      <td>8.407524</td>\n",
       "      <td>22.990596</td>\n",
       "    </tr>\n",
       "    <tr>\n",
       "      <th>2021-08-19 01:00:00+00:00</th>\n",
       "      <td>0.0</td>\n",
       "      <td>8.510638</td>\n",
       "      <td>12.714286</td>\n",
       "      <td>50.957447</td>\n",
       "      <td>99898.629179</td>\n",
       "      <td>22.0</td>\n",
       "      <td>51.699088</td>\n",
       "      <td>0.829787</td>\n",
       "      <td>8.553191</td>\n",
       "      <td>8.553191</td>\n",
       "      <td>22.127660</td>\n",
       "    </tr>\n",
       "    <tr>\n",
       "      <th>2021-08-19 02:00:00+00:00</th>\n",
       "      <td>0.0</td>\n",
       "      <td>7.403727</td>\n",
       "      <td>12.307453</td>\n",
       "      <td>50.546584</td>\n",
       "      <td>99875.841615</td>\n",
       "      <td>22.0</td>\n",
       "      <td>51.000000</td>\n",
       "      <td>0.754658</td>\n",
       "      <td>8.590062</td>\n",
       "      <td>8.590062</td>\n",
       "      <td>22.000000</td>\n",
       "    </tr>\n",
       "    <tr>\n",
       "      <th>2021-08-19 03:00:00+00:00</th>\n",
       "      <td>0.0</td>\n",
       "      <td>8.080997</td>\n",
       "      <td>11.638629</td>\n",
       "      <td>50.373832</td>\n",
       "      <td>99857.186916</td>\n",
       "      <td>22.0</td>\n",
       "      <td>51.000000</td>\n",
       "      <td>0.669782</td>\n",
       "      <td>8.404984</td>\n",
       "      <td>8.404984</td>\n",
       "      <td>22.000000</td>\n",
       "    </tr>\n",
       "    <tr>\n",
       "      <th>2021-08-19 04:00:00+00:00</th>\n",
       "      <td>0.0</td>\n",
       "      <td>9.561350</td>\n",
       "      <td>11.131902</td>\n",
       "      <td>50.861963</td>\n",
       "      <td>99833.917178</td>\n",
       "      <td>22.0</td>\n",
       "      <td>51.208589</td>\n",
       "      <td>0.794479</td>\n",
       "      <td>8.674847</td>\n",
       "      <td>8.674847</td>\n",
       "      <td>22.000000</td>\n",
       "    </tr>\n",
       "  </tbody>\n",
       "</table>\n",
       "</div>"
      ]
     },
     "metadata": {},
     "execution_count": 162
    }
   ],
   "metadata": {}
  },
  {
   "cell_type": "code",
   "execution_count": 161,
   "source": [
    "df = dataframeAverages('60min',df_temp)\r\n",
    "\r\n",
    "myTimeFormat = mdates.DateFormatter('%D:%H:%M')\r\n",
    "\r\n",
    "plt.style.use('fivethirtyeight')\r\n",
    "fig = plt.figure(figsize = (24,20))\r\n",
    "axs = fig.add_suplot(111)\r\n",
    "\r\n",
    "axs.set_title('PM partiuclate hourly average')\r\n",
    "axs.plot(df.index, df[\"particulatePM1\"], color = (0.4,0.4,0.4), linewidth = 4, alpha = .9, label = 'pm 1')\r\n",
    "axs.plot(df.index, df[\"particulatePM25\"], color = (0.6,0.6,0.9), linewidth = 4, alpha = .9, label = 'pm 2.5')\r\n",
    "#axs.plot(df.index, df[\"particulatePM10\"], color = (0.9,0.6,0.6), linewidth = 4, alpha = .9, label = 'pm 10')\r\n",
    "axs.set_xlabel(\"Time\")\r\n",
    "axs.set_ylabel(\"particualte matter (ug/m3)\")\r\n",
    "axs.xaxis.set_major_formatter(myTimeFormat)\r\n",
    "axs.legend()\r\n",
    "\r\n",
    "plt.show()"
   ],
   "outputs": [
    {
     "output_type": "display_data",
     "data": {
      "text/plain": [
       "<Figure size 1728x1440 with 2 Axes>"
      ],
      "image/svg+xml": "<?xml version=\"1.0\" encoding=\"utf-8\" standalone=\"no\"?>\r\n<!DOCTYPE svg PUBLIC \"-//W3C//DTD SVG 1.1//EN\"\r\n  \"http://www.w3.org/Graphics/SVG/1.1/DTD/svg11.dtd\">\r\n<!-- Created with matplotlib (https://matplotlib.org/) -->\r\n<svg height=\"1219.167825pt\" version=\"1.1\" viewBox=\"0 0 1604.391048 1219.167825\" width=\"1604.391048pt\" xmlns=\"http://www.w3.org/2000/svg\" xmlns:xlink=\"http://www.w3.org/1999/xlink\">\r\n <metadata>\r\n  <rdf:RDF xmlns:cc=\"http://creativecommons.org/ns#\" xmlns:dc=\"http://purl.org/dc/elements/1.1/\" xmlns:rdf=\"http://www.w3.org/1999/02/22-rdf-syntax-ns#\">\r\n   <cc:Work>\r\n    <dc:type rdf:resource=\"http://purl.org/dc/dcmitype/StillImage\"/>\r\n    <dc:date>2021-08-20T13:12:47.018292</dc:date>\r\n    <dc:format>image/svg+xml</dc:format>\r\n    <dc:creator>\r\n     <cc:Agent>\r\n      <dc:title>Matplotlib v3.3.4, https://matplotlib.org/</dc:title>\r\n     </cc:Agent>\r\n    </dc:creator>\r\n   </cc:Work>\r\n  </rdf:RDF>\r\n </metadata>\r\n <defs>\r\n  <style type=\"text/css\">*{stroke-linecap:butt;stroke-linejoin:round;}</style>\r\n </defs>\r\n <g id=\"figure_1\">\r\n  <g id=\"patch_1\">\r\n   <path d=\"M 0 1219.167825 \r\nL 1604.391048 1219.167825 \r\nL 1604.391048 0 \r\nL 0 0 \r\nz\r\n\" style=\"fill:#f0f0f0;\"/>\r\n  </g>\r\n  <g id=\"axes_1\">\r\n   <g id=\"patch_2\">\r\n    <path d=\"M 48.77425 558.700268 \r\nL 1552.13425 558.700268 \r\nL 1552.13425 28.51845 \r\nL 48.77425 28.51845 \r\nz\r\n\" style=\"fill:#f0f0f0;\"/>\r\n   </g>\r\n   <g id=\"matplotlib.axis_1\">\r\n    <g id=\"xtick_1\">\r\n     <g id=\"line2d_1\">\r\n      <path clip-path=\"url(#pdbf809ed23)\" d=\"M 117.108795 558.700268 \r\nL 117.108795 28.51845 \r\n\" style=\"fill:none;stroke:#cbcbcb;\"/>\r\n     </g>\r\n     <g id=\"line2d_2\"/>\r\n     <g id=\"text_1\">\r\n      <!-- 08/19/21:00:00 -->\r\n      <g transform=\"translate(63.138795 572.838081)scale(0.14 -0.14)\">\r\n       <defs>\r\n        <path d=\"M 31.78125 66.40625 \r\nQ 24.171875 66.40625 20.328125 58.90625 \r\nQ 16.5 51.421875 16.5 36.375 \r\nQ 16.5 21.390625 20.328125 13.890625 \r\nQ 24.171875 6.390625 31.78125 6.390625 \r\nQ 39.453125 6.390625 43.28125 13.890625 \r\nQ 47.125 21.390625 47.125 36.375 \r\nQ 47.125 51.421875 43.28125 58.90625 \r\nQ 39.453125 66.40625 31.78125 66.40625 \r\nz\r\nM 31.78125 74.21875 \r\nQ 44.046875 74.21875 50.515625 64.515625 \r\nQ 56.984375 54.828125 56.984375 36.375 \r\nQ 56.984375 17.96875 50.515625 8.265625 \r\nQ 44.046875 -1.421875 31.78125 -1.421875 \r\nQ 19.53125 -1.421875 13.0625 8.265625 \r\nQ 6.59375 17.96875 6.59375 36.375 \r\nQ 6.59375 54.828125 13.0625 64.515625 \r\nQ 19.53125 74.21875 31.78125 74.21875 \r\nz\r\n\" id=\"DejaVuSans-48\"/>\r\n        <path d=\"M 31.78125 34.625 \r\nQ 24.75 34.625 20.71875 30.859375 \r\nQ 16.703125 27.09375 16.703125 20.515625 \r\nQ 16.703125 13.921875 20.71875 10.15625 \r\nQ 24.75 6.390625 31.78125 6.390625 \r\nQ 38.8125 6.390625 42.859375 10.171875 \r\nQ 46.921875 13.96875 46.921875 20.515625 \r\nQ 46.921875 27.09375 42.890625 30.859375 \r\nQ 38.875 34.625 31.78125 34.625 \r\nz\r\nM 21.921875 38.8125 \r\nQ 15.578125 40.375 12.03125 44.71875 \r\nQ 8.5 49.078125 8.5 55.328125 \r\nQ 8.5 64.0625 14.71875 69.140625 \r\nQ 20.953125 74.21875 31.78125 74.21875 \r\nQ 42.671875 74.21875 48.875 69.140625 \r\nQ 55.078125 64.0625 55.078125 55.328125 \r\nQ 55.078125 49.078125 51.53125 44.71875 \r\nQ 48 40.375 41.703125 38.8125 \r\nQ 48.828125 37.15625 52.796875 32.3125 \r\nQ 56.78125 27.484375 56.78125 20.515625 \r\nQ 56.78125 9.90625 50.3125 4.234375 \r\nQ 43.84375 -1.421875 31.78125 -1.421875 \r\nQ 19.734375 -1.421875 13.25 4.234375 \r\nQ 6.78125 9.90625 6.78125 20.515625 \r\nQ 6.78125 27.484375 10.78125 32.3125 \r\nQ 14.796875 37.15625 21.921875 38.8125 \r\nz\r\nM 18.3125 54.390625 \r\nQ 18.3125 48.734375 21.84375 45.5625 \r\nQ 25.390625 42.390625 31.78125 42.390625 \r\nQ 38.140625 42.390625 41.71875 45.5625 \r\nQ 45.3125 48.734375 45.3125 54.390625 \r\nQ 45.3125 60.0625 41.71875 63.234375 \r\nQ 38.140625 66.40625 31.78125 66.40625 \r\nQ 25.390625 66.40625 21.84375 63.234375 \r\nQ 18.3125 60.0625 18.3125 54.390625 \r\nz\r\n\" id=\"DejaVuSans-56\"/>\r\n        <path d=\"M 25.390625 72.90625 \r\nL 33.6875 72.90625 \r\nL 8.296875 -9.28125 \r\nL 0 -9.28125 \r\nz\r\n\" id=\"DejaVuSans-47\"/>\r\n        <path d=\"M 12.40625 8.296875 \r\nL 28.515625 8.296875 \r\nL 28.515625 63.921875 \r\nL 10.984375 60.40625 \r\nL 10.984375 69.390625 \r\nL 28.421875 72.90625 \r\nL 38.28125 72.90625 \r\nL 38.28125 8.296875 \r\nL 54.390625 8.296875 \r\nL 54.390625 0 \r\nL 12.40625 0 \r\nz\r\n\" id=\"DejaVuSans-49\"/>\r\n        <path d=\"M 10.984375 1.515625 \r\nL 10.984375 10.5 \r\nQ 14.703125 8.734375 18.5 7.8125 \r\nQ 22.3125 6.890625 25.984375 6.890625 \r\nQ 35.75 6.890625 40.890625 13.453125 \r\nQ 46.046875 20.015625 46.78125 33.40625 \r\nQ 43.953125 29.203125 39.59375 26.953125 \r\nQ 35.25 24.703125 29.984375 24.703125 \r\nQ 19.046875 24.703125 12.671875 31.3125 \r\nQ 6.296875 37.9375 6.296875 49.421875 \r\nQ 6.296875 60.640625 12.9375 67.421875 \r\nQ 19.578125 74.21875 30.609375 74.21875 \r\nQ 43.265625 74.21875 49.921875 64.515625 \r\nQ 56.59375 54.828125 56.59375 36.375 \r\nQ 56.59375 19.140625 48.40625 8.859375 \r\nQ 40.234375 -1.421875 26.421875 -1.421875 \r\nQ 22.703125 -1.421875 18.890625 -0.6875 \r\nQ 15.09375 0.046875 10.984375 1.515625 \r\nz\r\nM 30.609375 32.421875 \r\nQ 37.25 32.421875 41.125 36.953125 \r\nQ 45.015625 41.5 45.015625 49.421875 \r\nQ 45.015625 57.28125 41.125 61.84375 \r\nQ 37.25 66.40625 30.609375 66.40625 \r\nQ 23.96875 66.40625 20.09375 61.84375 \r\nQ 16.21875 57.28125 16.21875 49.421875 \r\nQ 16.21875 41.5 20.09375 36.953125 \r\nQ 23.96875 32.421875 30.609375 32.421875 \r\nz\r\n\" id=\"DejaVuSans-57\"/>\r\n        <path d=\"M 19.1875 8.296875 \r\nL 53.609375 8.296875 \r\nL 53.609375 0 \r\nL 7.328125 0 \r\nL 7.328125 8.296875 \r\nQ 12.9375 14.109375 22.625 23.890625 \r\nQ 32.328125 33.6875 34.8125 36.53125 \r\nQ 39.546875 41.84375 41.421875 45.53125 \r\nQ 43.3125 49.21875 43.3125 52.78125 \r\nQ 43.3125 58.59375 39.234375 62.25 \r\nQ 35.15625 65.921875 28.609375 65.921875 \r\nQ 23.96875 65.921875 18.8125 64.3125 \r\nQ 13.671875 62.703125 7.8125 59.421875 \r\nL 7.8125 69.390625 \r\nQ 13.765625 71.78125 18.9375 73 \r\nQ 24.125 74.21875 28.421875 74.21875 \r\nQ 39.75 74.21875 46.484375 68.546875 \r\nQ 53.21875 62.890625 53.21875 53.421875 \r\nQ 53.21875 48.921875 51.53125 44.890625 \r\nQ 49.859375 40.875 45.40625 35.40625 \r\nQ 44.1875 33.984375 37.640625 27.21875 \r\nQ 31.109375 20.453125 19.1875 8.296875 \r\nz\r\n\" id=\"DejaVuSans-50\"/>\r\n        <path d=\"M 11.71875 12.40625 \r\nL 22.015625 12.40625 \r\nL 22.015625 0 \r\nL 11.71875 0 \r\nz\r\nM 11.71875 51.703125 \r\nL 22.015625 51.703125 \r\nL 22.015625 39.3125 \r\nL 11.71875 39.3125 \r\nz\r\n\" id=\"DejaVuSans-58\"/>\r\n       </defs>\r\n       <use xlink:href=\"#DejaVuSans-48\"/>\r\n       <use x=\"63.623047\" xlink:href=\"#DejaVuSans-56\"/>\r\n       <use x=\"127.246094\" xlink:href=\"#DejaVuSans-47\"/>\r\n       <use x=\"160.9375\" xlink:href=\"#DejaVuSans-49\"/>\r\n       <use x=\"224.560547\" xlink:href=\"#DejaVuSans-57\"/>\r\n       <use x=\"288.183594\" xlink:href=\"#DejaVuSans-47\"/>\r\n       <use x=\"321.875\" xlink:href=\"#DejaVuSans-50\"/>\r\n       <use x=\"385.498047\" xlink:href=\"#DejaVuSans-49\"/>\r\n       <use x=\"449.121094\" xlink:href=\"#DejaVuSans-58\"/>\r\n       <use x=\"482.8125\" xlink:href=\"#DejaVuSans-48\"/>\r\n       <use x=\"546.435547\" xlink:href=\"#DejaVuSans-48\"/>\r\n       <use x=\"610.058594\" xlink:href=\"#DejaVuSans-58\"/>\r\n       <use x=\"643.75\" xlink:href=\"#DejaVuSans-48\"/>\r\n       <use x=\"707.373047\" xlink:href=\"#DejaVuSans-48\"/>\r\n      </g>\r\n     </g>\r\n    </g>\r\n    <g id=\"xtick_2\">\r\n     <g id=\"line2d_3\">\r\n      <path clip-path=\"url(#pdbf809ed23)\" d=\"M 295.372827 558.700268 \r\nL 295.372827 28.51845 \r\n\" style=\"fill:none;stroke:#cbcbcb;\"/>\r\n     </g>\r\n     <g id=\"line2d_4\"/>\r\n     <g id=\"text_2\">\r\n      <!-- 08/19/21:03:00 -->\r\n      <g transform=\"translate(241.402827 572.838081)scale(0.14 -0.14)\">\r\n       <defs>\r\n        <path d=\"M 40.578125 39.3125 \r\nQ 47.65625 37.796875 51.625 33 \r\nQ 55.609375 28.21875 55.609375 21.1875 \r\nQ 55.609375 10.40625 48.1875 4.484375 \r\nQ 40.765625 -1.421875 27.09375 -1.421875 \r\nQ 22.515625 -1.421875 17.65625 -0.515625 \r\nQ 12.796875 0.390625 7.625 2.203125 \r\nL 7.625 11.71875 \r\nQ 11.71875 9.328125 16.59375 8.109375 \r\nQ 21.484375 6.890625 26.8125 6.890625 \r\nQ 36.078125 6.890625 40.9375 10.546875 \r\nQ 45.796875 14.203125 45.796875 21.1875 \r\nQ 45.796875 27.640625 41.28125 31.265625 \r\nQ 36.765625 34.90625 28.71875 34.90625 \r\nL 20.21875 34.90625 \r\nL 20.21875 43.015625 \r\nL 29.109375 43.015625 \r\nQ 36.375 43.015625 40.234375 45.921875 \r\nQ 44.09375 48.828125 44.09375 54.296875 \r\nQ 44.09375 59.90625 40.109375 62.90625 \r\nQ 36.140625 65.921875 28.71875 65.921875 \r\nQ 24.65625 65.921875 20.015625 65.03125 \r\nQ 15.375 64.15625 9.8125 62.3125 \r\nL 9.8125 71.09375 \r\nQ 15.4375 72.65625 20.34375 73.4375 \r\nQ 25.25 74.21875 29.59375 74.21875 \r\nQ 40.828125 74.21875 47.359375 69.109375 \r\nQ 53.90625 64.015625 53.90625 55.328125 \r\nQ 53.90625 49.265625 50.4375 45.09375 \r\nQ 46.96875 40.921875 40.578125 39.3125 \r\nz\r\n\" id=\"DejaVuSans-51\"/>\r\n       </defs>\r\n       <use xlink:href=\"#DejaVuSans-48\"/>\r\n       <use x=\"63.623047\" xlink:href=\"#DejaVuSans-56\"/>\r\n       <use x=\"127.246094\" xlink:href=\"#DejaVuSans-47\"/>\r\n       <use x=\"160.9375\" xlink:href=\"#DejaVuSans-49\"/>\r\n       <use x=\"224.560547\" xlink:href=\"#DejaVuSans-57\"/>\r\n       <use x=\"288.183594\" xlink:href=\"#DejaVuSans-47\"/>\r\n       <use x=\"321.875\" xlink:href=\"#DejaVuSans-50\"/>\r\n       <use x=\"385.498047\" xlink:href=\"#DejaVuSans-49\"/>\r\n       <use x=\"449.121094\" xlink:href=\"#DejaVuSans-58\"/>\r\n       <use x=\"482.8125\" xlink:href=\"#DejaVuSans-48\"/>\r\n       <use x=\"546.435547\" xlink:href=\"#DejaVuSans-51\"/>\r\n       <use x=\"610.058594\" xlink:href=\"#DejaVuSans-58\"/>\r\n       <use x=\"643.75\" xlink:href=\"#DejaVuSans-48\"/>\r\n       <use x=\"707.373047\" xlink:href=\"#DejaVuSans-48\"/>\r\n      </g>\r\n     </g>\r\n    </g>\r\n    <g id=\"xtick_3\">\r\n     <g id=\"line2d_5\">\r\n      <path clip-path=\"url(#pdbf809ed23)\" d=\"M 473.636859 558.700268 \r\nL 473.636859 28.51845 \r\n\" style=\"fill:none;stroke:#cbcbcb;\"/>\r\n     </g>\r\n     <g id=\"line2d_6\"/>\r\n     <g id=\"text_3\">\r\n      <!-- 08/19/21:06:00 -->\r\n      <g transform=\"translate(419.666859 572.838081)scale(0.14 -0.14)\">\r\n       <defs>\r\n        <path d=\"M 33.015625 40.375 \r\nQ 26.375 40.375 22.484375 35.828125 \r\nQ 18.609375 31.296875 18.609375 23.390625 \r\nQ 18.609375 15.53125 22.484375 10.953125 \r\nQ 26.375 6.390625 33.015625 6.390625 \r\nQ 39.65625 6.390625 43.53125 10.953125 \r\nQ 47.40625 15.53125 47.40625 23.390625 \r\nQ 47.40625 31.296875 43.53125 35.828125 \r\nQ 39.65625 40.375 33.015625 40.375 \r\nz\r\nM 52.59375 71.296875 \r\nL 52.59375 62.3125 \r\nQ 48.875 64.0625 45.09375 64.984375 \r\nQ 41.3125 65.921875 37.59375 65.921875 \r\nQ 27.828125 65.921875 22.671875 59.328125 \r\nQ 17.53125 52.734375 16.796875 39.40625 \r\nQ 19.671875 43.65625 24.015625 45.921875 \r\nQ 28.375 48.1875 33.59375 48.1875 \r\nQ 44.578125 48.1875 50.953125 41.515625 \r\nQ 57.328125 34.859375 57.328125 23.390625 \r\nQ 57.328125 12.15625 50.6875 5.359375 \r\nQ 44.046875 -1.421875 33.015625 -1.421875 \r\nQ 20.359375 -1.421875 13.671875 8.265625 \r\nQ 6.984375 17.96875 6.984375 36.375 \r\nQ 6.984375 53.65625 15.1875 63.9375 \r\nQ 23.390625 74.21875 37.203125 74.21875 \r\nQ 40.921875 74.21875 44.703125 73.484375 \r\nQ 48.484375 72.75 52.59375 71.296875 \r\nz\r\n\" id=\"DejaVuSans-54\"/>\r\n       </defs>\r\n       <use xlink:href=\"#DejaVuSans-48\"/>\r\n       <use x=\"63.623047\" xlink:href=\"#DejaVuSans-56\"/>\r\n       <use x=\"127.246094\" xlink:href=\"#DejaVuSans-47\"/>\r\n       <use x=\"160.9375\" xlink:href=\"#DejaVuSans-49\"/>\r\n       <use x=\"224.560547\" xlink:href=\"#DejaVuSans-57\"/>\r\n       <use x=\"288.183594\" xlink:href=\"#DejaVuSans-47\"/>\r\n       <use x=\"321.875\" xlink:href=\"#DejaVuSans-50\"/>\r\n       <use x=\"385.498047\" xlink:href=\"#DejaVuSans-49\"/>\r\n       <use x=\"449.121094\" xlink:href=\"#DejaVuSans-58\"/>\r\n       <use x=\"482.8125\" xlink:href=\"#DejaVuSans-48\"/>\r\n       <use x=\"546.435547\" xlink:href=\"#DejaVuSans-54\"/>\r\n       <use x=\"610.058594\" xlink:href=\"#DejaVuSans-58\"/>\r\n       <use x=\"643.75\" xlink:href=\"#DejaVuSans-48\"/>\r\n       <use x=\"707.373047\" xlink:href=\"#DejaVuSans-48\"/>\r\n      </g>\r\n     </g>\r\n    </g>\r\n    <g id=\"xtick_4\">\r\n     <g id=\"line2d_7\">\r\n      <path clip-path=\"url(#pdbf809ed23)\" d=\"M 651.90089 558.700268 \r\nL 651.90089 28.51845 \r\n\" style=\"fill:none;stroke:#cbcbcb;\"/>\r\n     </g>\r\n     <g id=\"line2d_8\"/>\r\n     <g id=\"text_4\">\r\n      <!-- 08/19/21:09:00 -->\r\n      <g transform=\"translate(597.93089 572.838081)scale(0.14 -0.14)\">\r\n       <use xlink:href=\"#DejaVuSans-48\"/>\r\n       <use x=\"63.623047\" xlink:href=\"#DejaVuSans-56\"/>\r\n       <use x=\"127.246094\" xlink:href=\"#DejaVuSans-47\"/>\r\n       <use x=\"160.9375\" xlink:href=\"#DejaVuSans-49\"/>\r\n       <use x=\"224.560547\" xlink:href=\"#DejaVuSans-57\"/>\r\n       <use x=\"288.183594\" xlink:href=\"#DejaVuSans-47\"/>\r\n       <use x=\"321.875\" xlink:href=\"#DejaVuSans-50\"/>\r\n       <use x=\"385.498047\" xlink:href=\"#DejaVuSans-49\"/>\r\n       <use x=\"449.121094\" xlink:href=\"#DejaVuSans-58\"/>\r\n       <use x=\"482.8125\" xlink:href=\"#DejaVuSans-48\"/>\r\n       <use x=\"546.435547\" xlink:href=\"#DejaVuSans-57\"/>\r\n       <use x=\"610.058594\" xlink:href=\"#DejaVuSans-58\"/>\r\n       <use x=\"643.75\" xlink:href=\"#DejaVuSans-48\"/>\r\n       <use x=\"707.373047\" xlink:href=\"#DejaVuSans-48\"/>\r\n      </g>\r\n     </g>\r\n    </g>\r\n    <g id=\"xtick_5\">\r\n     <g id=\"line2d_9\">\r\n      <path clip-path=\"url(#pdbf809ed23)\" d=\"M 830.164922 558.700268 \r\nL 830.164922 28.51845 \r\n\" style=\"fill:none;stroke:#cbcbcb;\"/>\r\n     </g>\r\n     <g id=\"line2d_10\"/>\r\n     <g id=\"text_5\">\r\n      <!-- 08/19/21:12:00 -->\r\n      <g transform=\"translate(776.194922 572.838081)scale(0.14 -0.14)\">\r\n       <use xlink:href=\"#DejaVuSans-48\"/>\r\n       <use x=\"63.623047\" xlink:href=\"#DejaVuSans-56\"/>\r\n       <use x=\"127.246094\" xlink:href=\"#DejaVuSans-47\"/>\r\n       <use x=\"160.9375\" xlink:href=\"#DejaVuSans-49\"/>\r\n       <use x=\"224.560547\" xlink:href=\"#DejaVuSans-57\"/>\r\n       <use x=\"288.183594\" xlink:href=\"#DejaVuSans-47\"/>\r\n       <use x=\"321.875\" xlink:href=\"#DejaVuSans-50\"/>\r\n       <use x=\"385.498047\" xlink:href=\"#DejaVuSans-49\"/>\r\n       <use x=\"449.121094\" xlink:href=\"#DejaVuSans-58\"/>\r\n       <use x=\"482.8125\" xlink:href=\"#DejaVuSans-49\"/>\r\n       <use x=\"546.435547\" xlink:href=\"#DejaVuSans-50\"/>\r\n       <use x=\"610.058594\" xlink:href=\"#DejaVuSans-58\"/>\r\n       <use x=\"643.75\" xlink:href=\"#DejaVuSans-48\"/>\r\n       <use x=\"707.373047\" xlink:href=\"#DejaVuSans-48\"/>\r\n      </g>\r\n     </g>\r\n    </g>\r\n    <g id=\"xtick_6\">\r\n     <g id=\"line2d_11\">\r\n      <path clip-path=\"url(#pdbf809ed23)\" d=\"M 1008.428954 558.700268 \r\nL 1008.428954 28.51845 \r\n\" style=\"fill:none;stroke:#cbcbcb;\"/>\r\n     </g>\r\n     <g id=\"line2d_12\"/>\r\n     <g id=\"text_6\">\r\n      <!-- 08/19/21:15:00 -->\r\n      <g transform=\"translate(954.458954 572.838081)scale(0.14 -0.14)\">\r\n       <defs>\r\n        <path d=\"M 10.796875 72.90625 \r\nL 49.515625 72.90625 \r\nL 49.515625 64.59375 \r\nL 19.828125 64.59375 \r\nL 19.828125 46.734375 \r\nQ 21.96875 47.46875 24.109375 47.828125 \r\nQ 26.265625 48.1875 28.421875 48.1875 \r\nQ 40.625 48.1875 47.75 41.5 \r\nQ 54.890625 34.8125 54.890625 23.390625 \r\nQ 54.890625 11.625 47.5625 5.09375 \r\nQ 40.234375 -1.421875 26.90625 -1.421875 \r\nQ 22.3125 -1.421875 17.546875 -0.640625 \r\nQ 12.796875 0.140625 7.71875 1.703125 \r\nL 7.71875 11.625 \r\nQ 12.109375 9.234375 16.796875 8.0625 \r\nQ 21.484375 6.890625 26.703125 6.890625 \r\nQ 35.15625 6.890625 40.078125 11.328125 \r\nQ 45.015625 15.765625 45.015625 23.390625 \r\nQ 45.015625 31 40.078125 35.4375 \r\nQ 35.15625 39.890625 26.703125 39.890625 \r\nQ 22.75 39.890625 18.8125 39.015625 \r\nQ 14.890625 38.140625 10.796875 36.28125 \r\nz\r\n\" id=\"DejaVuSans-53\"/>\r\n       </defs>\r\n       <use xlink:href=\"#DejaVuSans-48\"/>\r\n       <use x=\"63.623047\" xlink:href=\"#DejaVuSans-56\"/>\r\n       <use x=\"127.246094\" xlink:href=\"#DejaVuSans-47\"/>\r\n       <use x=\"160.9375\" xlink:href=\"#DejaVuSans-49\"/>\r\n       <use x=\"224.560547\" xlink:href=\"#DejaVuSans-57\"/>\r\n       <use x=\"288.183594\" xlink:href=\"#DejaVuSans-47\"/>\r\n       <use x=\"321.875\" xlink:href=\"#DejaVuSans-50\"/>\r\n       <use x=\"385.498047\" xlink:href=\"#DejaVuSans-49\"/>\r\n       <use x=\"449.121094\" xlink:href=\"#DejaVuSans-58\"/>\r\n       <use x=\"482.8125\" xlink:href=\"#DejaVuSans-49\"/>\r\n       <use x=\"546.435547\" xlink:href=\"#DejaVuSans-53\"/>\r\n       <use x=\"610.058594\" xlink:href=\"#DejaVuSans-58\"/>\r\n       <use x=\"643.75\" xlink:href=\"#DejaVuSans-48\"/>\r\n       <use x=\"707.373047\" xlink:href=\"#DejaVuSans-48\"/>\r\n      </g>\r\n     </g>\r\n    </g>\r\n    <g id=\"xtick_7\">\r\n     <g id=\"line2d_13\">\r\n      <path clip-path=\"url(#pdbf809ed23)\" d=\"M 1186.692985 558.700268 \r\nL 1186.692985 28.51845 \r\n\" style=\"fill:none;stroke:#cbcbcb;\"/>\r\n     </g>\r\n     <g id=\"line2d_14\"/>\r\n     <g id=\"text_7\">\r\n      <!-- 08/19/21:18:00 -->\r\n      <g transform=\"translate(1132.722985 572.838081)scale(0.14 -0.14)\">\r\n       <use xlink:href=\"#DejaVuSans-48\"/>\r\n       <use x=\"63.623047\" xlink:href=\"#DejaVuSans-56\"/>\r\n       <use x=\"127.246094\" xlink:href=\"#DejaVuSans-47\"/>\r\n       <use x=\"160.9375\" xlink:href=\"#DejaVuSans-49\"/>\r\n       <use x=\"224.560547\" xlink:href=\"#DejaVuSans-57\"/>\r\n       <use x=\"288.183594\" xlink:href=\"#DejaVuSans-47\"/>\r\n       <use x=\"321.875\" xlink:href=\"#DejaVuSans-50\"/>\r\n       <use x=\"385.498047\" xlink:href=\"#DejaVuSans-49\"/>\r\n       <use x=\"449.121094\" xlink:href=\"#DejaVuSans-58\"/>\r\n       <use x=\"482.8125\" xlink:href=\"#DejaVuSans-49\"/>\r\n       <use x=\"546.435547\" xlink:href=\"#DejaVuSans-56\"/>\r\n       <use x=\"610.058594\" xlink:href=\"#DejaVuSans-58\"/>\r\n       <use x=\"643.75\" xlink:href=\"#DejaVuSans-48\"/>\r\n       <use x=\"707.373047\" xlink:href=\"#DejaVuSans-48\"/>\r\n      </g>\r\n     </g>\r\n    </g>\r\n    <g id=\"xtick_8\">\r\n     <g id=\"line2d_15\">\r\n      <path clip-path=\"url(#pdbf809ed23)\" d=\"M 1364.957017 558.700268 \r\nL 1364.957017 28.51845 \r\n\" style=\"fill:none;stroke:#cbcbcb;\"/>\r\n     </g>\r\n     <g id=\"line2d_16\"/>\r\n     <g id=\"text_8\">\r\n      <!-- 08/19/21:21:00 -->\r\n      <g transform=\"translate(1310.987017 572.838081)scale(0.14 -0.14)\">\r\n       <use xlink:href=\"#DejaVuSans-48\"/>\r\n       <use x=\"63.623047\" xlink:href=\"#DejaVuSans-56\"/>\r\n       <use x=\"127.246094\" xlink:href=\"#DejaVuSans-47\"/>\r\n       <use x=\"160.9375\" xlink:href=\"#DejaVuSans-49\"/>\r\n       <use x=\"224.560547\" xlink:href=\"#DejaVuSans-57\"/>\r\n       <use x=\"288.183594\" xlink:href=\"#DejaVuSans-47\"/>\r\n       <use x=\"321.875\" xlink:href=\"#DejaVuSans-50\"/>\r\n       <use x=\"385.498047\" xlink:href=\"#DejaVuSans-49\"/>\r\n       <use x=\"449.121094\" xlink:href=\"#DejaVuSans-58\"/>\r\n       <use x=\"482.8125\" xlink:href=\"#DejaVuSans-50\"/>\r\n       <use x=\"546.435547\" xlink:href=\"#DejaVuSans-49\"/>\r\n       <use x=\"610.058594\" xlink:href=\"#DejaVuSans-58\"/>\r\n       <use x=\"643.75\" xlink:href=\"#DejaVuSans-48\"/>\r\n       <use x=\"707.373047\" xlink:href=\"#DejaVuSans-48\"/>\r\n      </g>\r\n     </g>\r\n    </g>\r\n    <g id=\"xtick_9\">\r\n     <g id=\"line2d_17\">\r\n      <path clip-path=\"url(#pdbf809ed23)\" d=\"M 1543.221048 558.700268 \r\nL 1543.221048 28.51845 \r\n\" style=\"fill:none;stroke:#cbcbcb;\"/>\r\n     </g>\r\n     <g id=\"line2d_18\"/>\r\n     <g id=\"text_9\">\r\n      <!-- 08/20/21:00:00 -->\r\n      <g transform=\"translate(1489.251048 572.838081)scale(0.14 -0.14)\">\r\n       <use xlink:href=\"#DejaVuSans-48\"/>\r\n       <use x=\"63.623047\" xlink:href=\"#DejaVuSans-56\"/>\r\n       <use x=\"127.246094\" xlink:href=\"#DejaVuSans-47\"/>\r\n       <use x=\"160.9375\" xlink:href=\"#DejaVuSans-50\"/>\r\n       <use x=\"224.560547\" xlink:href=\"#DejaVuSans-48\"/>\r\n       <use x=\"288.183594\" xlink:href=\"#DejaVuSans-47\"/>\r\n       <use x=\"321.875\" xlink:href=\"#DejaVuSans-50\"/>\r\n       <use x=\"385.498047\" xlink:href=\"#DejaVuSans-49\"/>\r\n       <use x=\"449.121094\" xlink:href=\"#DejaVuSans-58\"/>\r\n       <use x=\"482.8125\" xlink:href=\"#DejaVuSans-48\"/>\r\n       <use x=\"546.435547\" xlink:href=\"#DejaVuSans-48\"/>\r\n       <use x=\"610.058594\" xlink:href=\"#DejaVuSans-58\"/>\r\n       <use x=\"643.75\" xlink:href=\"#DejaVuSans-48\"/>\r\n       <use x=\"707.373047\" xlink:href=\"#DejaVuSans-48\"/>\r\n      </g>\r\n     </g>\r\n    </g>\r\n    <g id=\"text_10\">\r\n     <!-- Time -->\r\n     <g transform=\"translate(779.901813 592.515018)scale(0.168 -0.168)\">\r\n      <defs>\r\n       <path d=\"M -0.296875 72.90625 \r\nL 61.375 72.90625 \r\nL 61.375 64.59375 \r\nL 35.5 64.59375 \r\nL 35.5 0 \r\nL 25.59375 0 \r\nL 25.59375 64.59375 \r\nL -0.296875 64.59375 \r\nz\r\n\" id=\"DejaVuSans-84\"/>\r\n       <path d=\"M 9.421875 54.6875 \r\nL 18.40625 54.6875 \r\nL 18.40625 0 \r\nL 9.421875 0 \r\nz\r\nM 9.421875 75.984375 \r\nL 18.40625 75.984375 \r\nL 18.40625 64.59375 \r\nL 9.421875 64.59375 \r\nz\r\n\" id=\"DejaVuSans-105\"/>\r\n       <path d=\"M 52 44.1875 \r\nQ 55.375 50.25 60.0625 53.125 \r\nQ 64.75 56 71.09375 56 \r\nQ 79.640625 56 84.28125 50.015625 \r\nQ 88.921875 44.046875 88.921875 33.015625 \r\nL 88.921875 0 \r\nL 79.890625 0 \r\nL 79.890625 32.71875 \r\nQ 79.890625 40.578125 77.09375 44.375 \r\nQ 74.3125 48.1875 68.609375 48.1875 \r\nQ 61.625 48.1875 57.5625 43.546875 \r\nQ 53.515625 38.921875 53.515625 30.90625 \r\nL 53.515625 0 \r\nL 44.484375 0 \r\nL 44.484375 32.71875 \r\nQ 44.484375 40.625 41.703125 44.40625 \r\nQ 38.921875 48.1875 33.109375 48.1875 \r\nQ 26.21875 48.1875 22.15625 43.53125 \r\nQ 18.109375 38.875 18.109375 30.90625 \r\nL 18.109375 0 \r\nL 9.078125 0 \r\nL 9.078125 54.6875 \r\nL 18.109375 54.6875 \r\nL 18.109375 46.1875 \r\nQ 21.1875 51.21875 25.484375 53.609375 \r\nQ 29.78125 56 35.6875 56 \r\nQ 41.65625 56 45.828125 52.96875 \r\nQ 50 49.953125 52 44.1875 \r\nz\r\n\" id=\"DejaVuSans-109\"/>\r\n       <path d=\"M 56.203125 29.59375 \r\nL 56.203125 25.203125 \r\nL 14.890625 25.203125 \r\nQ 15.484375 15.921875 20.484375 11.0625 \r\nQ 25.484375 6.203125 34.421875 6.203125 \r\nQ 39.59375 6.203125 44.453125 7.46875 \r\nQ 49.3125 8.734375 54.109375 11.28125 \r\nL 54.109375 2.78125 \r\nQ 49.265625 0.734375 44.1875 -0.34375 \r\nQ 39.109375 -1.421875 33.890625 -1.421875 \r\nQ 20.796875 -1.421875 13.15625 6.1875 \r\nQ 5.515625 13.8125 5.515625 26.8125 \r\nQ 5.515625 40.234375 12.765625 48.109375 \r\nQ 20.015625 56 32.328125 56 \r\nQ 43.359375 56 49.78125 48.890625 \r\nQ 56.203125 41.796875 56.203125 29.59375 \r\nz\r\nM 47.21875 32.234375 \r\nQ 47.125 39.59375 43.09375 43.984375 \r\nQ 39.0625 48.390625 32.421875 48.390625 \r\nQ 24.90625 48.390625 20.390625 44.140625 \r\nQ 15.875 39.890625 15.1875 32.171875 \r\nz\r\n\" id=\"DejaVuSans-101\"/>\r\n      </defs>\r\n      <use xlink:href=\"#DejaVuSans-84\"/>\r\n      <use x=\"57.958984\" xlink:href=\"#DejaVuSans-105\"/>\r\n      <use x=\"85.742188\" xlink:href=\"#DejaVuSans-109\"/>\r\n      <use x=\"183.154297\" xlink:href=\"#DejaVuSans-101\"/>\r\n     </g>\r\n    </g>\r\n   </g>\r\n   <g id=\"matplotlib.axis_2\">\r\n    <g id=\"ytick_1\">\r\n     <g id=\"line2d_19\">\r\n      <path clip-path=\"url(#pdbf809ed23)\" d=\"M 48.77425 485.119398 \r\nL 1552.13425 485.119398 \r\n\" style=\"fill:none;stroke:#cbcbcb;\"/>\r\n     </g>\r\n     <g id=\"line2d_20\"/>\r\n     <g id=\"text_11\">\r\n      <!-- 2 -->\r\n      <g transform=\"translate(36.36675 490.438304)scale(0.14 -0.14)\">\r\n       <use xlink:href=\"#DejaVuSans-50\"/>\r\n      </g>\r\n     </g>\r\n    </g>\r\n    <g id=\"ytick_2\">\r\n     <g id=\"line2d_21\">\r\n      <path clip-path=\"url(#pdbf809ed23)\" d=\"M 48.77425 410.723029 \r\nL 1552.13425 410.723029 \r\n\" style=\"fill:none;stroke:#cbcbcb;\"/>\r\n     </g>\r\n     <g id=\"line2d_22\"/>\r\n     <g id=\"text_12\">\r\n      <!-- 4 -->\r\n      <g transform=\"translate(36.36675 416.041935)scale(0.14 -0.14)\">\r\n       <defs>\r\n        <path d=\"M 37.796875 64.3125 \r\nL 12.890625 25.390625 \r\nL 37.796875 25.390625 \r\nz\r\nM 35.203125 72.90625 \r\nL 47.609375 72.90625 \r\nL 47.609375 25.390625 \r\nL 58.015625 25.390625 \r\nL 58.015625 17.1875 \r\nL 47.609375 17.1875 \r\nL 47.609375 0 \r\nL 37.796875 0 \r\nL 37.796875 17.1875 \r\nL 4.890625 17.1875 \r\nL 4.890625 26.703125 \r\nz\r\n\" id=\"DejaVuSans-52\"/>\r\n       </defs>\r\n       <use xlink:href=\"#DejaVuSans-52\"/>\r\n      </g>\r\n     </g>\r\n    </g>\r\n    <g id=\"ytick_3\">\r\n     <g id=\"line2d_23\">\r\n      <path clip-path=\"url(#pdbf809ed23)\" d=\"M 48.77425 336.32666 \r\nL 1552.13425 336.32666 \r\n\" style=\"fill:none;stroke:#cbcbcb;\"/>\r\n     </g>\r\n     <g id=\"line2d_24\"/>\r\n     <g id=\"text_13\">\r\n      <!-- 6 -->\r\n      <g transform=\"translate(36.36675 341.645566)scale(0.14 -0.14)\">\r\n       <use xlink:href=\"#DejaVuSans-54\"/>\r\n      </g>\r\n     </g>\r\n    </g>\r\n    <g id=\"ytick_4\">\r\n     <g id=\"line2d_25\">\r\n      <path clip-path=\"url(#pdbf809ed23)\" d=\"M 48.77425 261.930291 \r\nL 1552.13425 261.930291 \r\n\" style=\"fill:none;stroke:#cbcbcb;\"/>\r\n     </g>\r\n     <g id=\"line2d_26\"/>\r\n     <g id=\"text_14\">\r\n      <!-- 8 -->\r\n      <g transform=\"translate(36.36675 267.249197)scale(0.14 -0.14)\">\r\n       <use xlink:href=\"#DejaVuSans-56\"/>\r\n      </g>\r\n     </g>\r\n    </g>\r\n    <g id=\"ytick_5\">\r\n     <g id=\"line2d_27\">\r\n      <path clip-path=\"url(#pdbf809ed23)\" d=\"M 48.77425 187.533922 \r\nL 1552.13425 187.533922 \r\n\" style=\"fill:none;stroke:#cbcbcb;\"/>\r\n     </g>\r\n     <g id=\"line2d_28\"/>\r\n     <g id=\"text_15\">\r\n      <!-- 10 -->\r\n      <g transform=\"translate(27.45925 192.852829)scale(0.14 -0.14)\">\r\n       <use xlink:href=\"#DejaVuSans-49\"/>\r\n       <use x=\"63.623047\" xlink:href=\"#DejaVuSans-48\"/>\r\n      </g>\r\n     </g>\r\n    </g>\r\n    <g id=\"ytick_6\">\r\n     <g id=\"line2d_29\">\r\n      <path clip-path=\"url(#pdbf809ed23)\" d=\"M 48.77425 113.137554 \r\nL 1552.13425 113.137554 \r\n\" style=\"fill:none;stroke:#cbcbcb;\"/>\r\n     </g>\r\n     <g id=\"line2d_30\"/>\r\n     <g id=\"text_16\">\r\n      <!-- 12 -->\r\n      <g transform=\"translate(27.45925 118.45646)scale(0.14 -0.14)\">\r\n       <use xlink:href=\"#DejaVuSans-49\"/>\r\n       <use x=\"63.623047\" xlink:href=\"#DejaVuSans-50\"/>\r\n      </g>\r\n     </g>\r\n    </g>\r\n    <g id=\"ytick_7\">\r\n     <g id=\"line2d_31\">\r\n      <path clip-path=\"url(#pdbf809ed23)\" d=\"M 48.77425 38.741185 \r\nL 1552.13425 38.741185 \r\n\" style=\"fill:none;stroke:#cbcbcb;\"/>\r\n     </g>\r\n     <g id=\"line2d_32\"/>\r\n     <g id=\"text_17\">\r\n      <!-- 14 -->\r\n      <g transform=\"translate(27.45925 44.060091)scale(0.14 -0.14)\">\r\n       <use xlink:href=\"#DejaVuSans-49\"/>\r\n       <use x=\"63.623047\" xlink:href=\"#DejaVuSans-52\"/>\r\n      </g>\r\n     </g>\r\n    </g>\r\n    <g id=\"text_18\">\r\n     <!-- particualte matter (ug/m3) -->\r\n     <g transform=\"translate(19.965375 406.498797)rotate(-90)scale(0.168 -0.168)\">\r\n      <defs>\r\n       <path d=\"M 18.109375 8.203125 \r\nL 18.109375 -20.796875 \r\nL 9.078125 -20.796875 \r\nL 9.078125 54.6875 \r\nL 18.109375 54.6875 \r\nL 18.109375 46.390625 \r\nQ 20.953125 51.265625 25.265625 53.625 \r\nQ 29.59375 56 35.59375 56 \r\nQ 45.5625 56 51.78125 48.09375 \r\nQ 58.015625 40.1875 58.015625 27.296875 \r\nQ 58.015625 14.40625 51.78125 6.484375 \r\nQ 45.5625 -1.421875 35.59375 -1.421875 \r\nQ 29.59375 -1.421875 25.265625 0.953125 \r\nQ 20.953125 3.328125 18.109375 8.203125 \r\nz\r\nM 48.6875 27.296875 \r\nQ 48.6875 37.203125 44.609375 42.84375 \r\nQ 40.53125 48.484375 33.40625 48.484375 \r\nQ 26.265625 48.484375 22.1875 42.84375 \r\nQ 18.109375 37.203125 18.109375 27.296875 \r\nQ 18.109375 17.390625 22.1875 11.75 \r\nQ 26.265625 6.109375 33.40625 6.109375 \r\nQ 40.53125 6.109375 44.609375 11.75 \r\nQ 48.6875 17.390625 48.6875 27.296875 \r\nz\r\n\" id=\"DejaVuSans-112\"/>\r\n       <path d=\"M 34.28125 27.484375 \r\nQ 23.390625 27.484375 19.1875 25 \r\nQ 14.984375 22.515625 14.984375 16.5 \r\nQ 14.984375 11.71875 18.140625 8.90625 \r\nQ 21.296875 6.109375 26.703125 6.109375 \r\nQ 34.1875 6.109375 38.703125 11.40625 \r\nQ 43.21875 16.703125 43.21875 25.484375 \r\nL 43.21875 27.484375 \r\nz\r\nM 52.203125 31.203125 \r\nL 52.203125 0 \r\nL 43.21875 0 \r\nL 43.21875 8.296875 \r\nQ 40.140625 3.328125 35.546875 0.953125 \r\nQ 30.953125 -1.421875 24.3125 -1.421875 \r\nQ 15.921875 -1.421875 10.953125 3.296875 \r\nQ 6 8.015625 6 15.921875 \r\nQ 6 25.140625 12.171875 29.828125 \r\nQ 18.359375 34.515625 30.609375 34.515625 \r\nL 43.21875 34.515625 \r\nL 43.21875 35.40625 \r\nQ 43.21875 41.609375 39.140625 45 \r\nQ 35.0625 48.390625 27.6875 48.390625 \r\nQ 23 48.390625 18.546875 47.265625 \r\nQ 14.109375 46.140625 10.015625 43.890625 \r\nL 10.015625 52.203125 \r\nQ 14.9375 54.109375 19.578125 55.046875 \r\nQ 24.21875 56 28.609375 56 \r\nQ 40.484375 56 46.34375 49.84375 \r\nQ 52.203125 43.703125 52.203125 31.203125 \r\nz\r\n\" id=\"DejaVuSans-97\"/>\r\n       <path d=\"M 41.109375 46.296875 \r\nQ 39.59375 47.171875 37.8125 47.578125 \r\nQ 36.03125 48 33.890625 48 \r\nQ 26.265625 48 22.1875 43.046875 \r\nQ 18.109375 38.09375 18.109375 28.8125 \r\nL 18.109375 0 \r\nL 9.078125 0 \r\nL 9.078125 54.6875 \r\nL 18.109375 54.6875 \r\nL 18.109375 46.1875 \r\nQ 20.953125 51.171875 25.484375 53.578125 \r\nQ 30.03125 56 36.53125 56 \r\nQ 37.453125 56 38.578125 55.875 \r\nQ 39.703125 55.765625 41.0625 55.515625 \r\nz\r\n\" id=\"DejaVuSans-114\"/>\r\n       <path d=\"M 18.3125 70.21875 \r\nL 18.3125 54.6875 \r\nL 36.8125 54.6875 \r\nL 36.8125 47.703125 \r\nL 18.3125 47.703125 \r\nL 18.3125 18.015625 \r\nQ 18.3125 11.328125 20.140625 9.421875 \r\nQ 21.96875 7.515625 27.59375 7.515625 \r\nL 36.8125 7.515625 \r\nL 36.8125 0 \r\nL 27.59375 0 \r\nQ 17.1875 0 13.234375 3.875 \r\nQ 9.28125 7.765625 9.28125 18.015625 \r\nL 9.28125 47.703125 \r\nL 2.6875 47.703125 \r\nL 2.6875 54.6875 \r\nL 9.28125 54.6875 \r\nL 9.28125 70.21875 \r\nz\r\n\" id=\"DejaVuSans-116\"/>\r\n       <path d=\"M 48.78125 52.59375 \r\nL 48.78125 44.1875 \r\nQ 44.96875 46.296875 41.140625 47.34375 \r\nQ 37.3125 48.390625 33.40625 48.390625 \r\nQ 24.65625 48.390625 19.8125 42.84375 \r\nQ 14.984375 37.3125 14.984375 27.296875 \r\nQ 14.984375 17.28125 19.8125 11.734375 \r\nQ 24.65625 6.203125 33.40625 6.203125 \r\nQ 37.3125 6.203125 41.140625 7.25 \r\nQ 44.96875 8.296875 48.78125 10.40625 \r\nL 48.78125 2.09375 \r\nQ 45.015625 0.34375 40.984375 -0.53125 \r\nQ 36.96875 -1.421875 32.421875 -1.421875 \r\nQ 20.0625 -1.421875 12.78125 6.34375 \r\nQ 5.515625 14.109375 5.515625 27.296875 \r\nQ 5.515625 40.671875 12.859375 48.328125 \r\nQ 20.21875 56 33.015625 56 \r\nQ 37.15625 56 41.109375 55.140625 \r\nQ 45.0625 54.296875 48.78125 52.59375 \r\nz\r\n\" id=\"DejaVuSans-99\"/>\r\n       <path d=\"M 8.5 21.578125 \r\nL 8.5 54.6875 \r\nL 17.484375 54.6875 \r\nL 17.484375 21.921875 \r\nQ 17.484375 14.15625 20.5 10.265625 \r\nQ 23.53125 6.390625 29.59375 6.390625 \r\nQ 36.859375 6.390625 41.078125 11.03125 \r\nQ 45.3125 15.671875 45.3125 23.6875 \r\nL 45.3125 54.6875 \r\nL 54.296875 54.6875 \r\nL 54.296875 0 \r\nL 45.3125 0 \r\nL 45.3125 8.40625 \r\nQ 42.046875 3.421875 37.71875 1 \r\nQ 33.40625 -1.421875 27.6875 -1.421875 \r\nQ 18.265625 -1.421875 13.375 4.4375 \r\nQ 8.5 10.296875 8.5 21.578125 \r\nz\r\nM 31.109375 56 \r\nz\r\n\" id=\"DejaVuSans-117\"/>\r\n       <path d=\"M 9.421875 75.984375 \r\nL 18.40625 75.984375 \r\nL 18.40625 0 \r\nL 9.421875 0 \r\nz\r\n\" id=\"DejaVuSans-108\"/>\r\n       <path id=\"DejaVuSans-32\"/>\r\n       <path d=\"M 31 75.875 \r\nQ 24.46875 64.65625 21.28125 53.65625 \r\nQ 18.109375 42.671875 18.109375 31.390625 \r\nQ 18.109375 20.125 21.3125 9.0625 \r\nQ 24.515625 -2 31 -13.1875 \r\nL 23.1875 -13.1875 \r\nQ 15.875 -1.703125 12.234375 9.375 \r\nQ 8.59375 20.453125 8.59375 31.390625 \r\nQ 8.59375 42.28125 12.203125 53.3125 \r\nQ 15.828125 64.359375 23.1875 75.875 \r\nz\r\n\" id=\"DejaVuSans-40\"/>\r\n       <path d=\"M 45.40625 27.984375 \r\nQ 45.40625 37.75 41.375 43.109375 \r\nQ 37.359375 48.484375 30.078125 48.484375 \r\nQ 22.859375 48.484375 18.828125 43.109375 \r\nQ 14.796875 37.75 14.796875 27.984375 \r\nQ 14.796875 18.265625 18.828125 12.890625 \r\nQ 22.859375 7.515625 30.078125 7.515625 \r\nQ 37.359375 7.515625 41.375 12.890625 \r\nQ 45.40625 18.265625 45.40625 27.984375 \r\nz\r\nM 54.390625 6.78125 \r\nQ 54.390625 -7.171875 48.1875 -13.984375 \r\nQ 42 -20.796875 29.203125 -20.796875 \r\nQ 24.46875 -20.796875 20.265625 -20.09375 \r\nQ 16.0625 -19.390625 12.109375 -17.921875 \r\nL 12.109375 -9.1875 \r\nQ 16.0625 -11.328125 19.921875 -12.34375 \r\nQ 23.78125 -13.375 27.78125 -13.375 \r\nQ 36.625 -13.375 41.015625 -8.765625 \r\nQ 45.40625 -4.15625 45.40625 5.171875 \r\nL 45.40625 9.625 \r\nQ 42.625 4.78125 38.28125 2.390625 \r\nQ 33.9375 0 27.875 0 \r\nQ 17.828125 0 11.671875 7.65625 \r\nQ 5.515625 15.328125 5.515625 27.984375 \r\nQ 5.515625 40.671875 11.671875 48.328125 \r\nQ 17.828125 56 27.875 56 \r\nQ 33.9375 56 38.28125 53.609375 \r\nQ 42.625 51.21875 45.40625 46.390625 \r\nL 45.40625 54.6875 \r\nL 54.390625 54.6875 \r\nz\r\n\" id=\"DejaVuSans-103\"/>\r\n       <path d=\"M 8.015625 75.875 \r\nL 15.828125 75.875 \r\nQ 23.140625 64.359375 26.78125 53.3125 \r\nQ 30.421875 42.28125 30.421875 31.390625 \r\nQ 30.421875 20.453125 26.78125 9.375 \r\nQ 23.140625 -1.703125 15.828125 -13.1875 \r\nL 8.015625 -13.1875 \r\nQ 14.5 -2 17.703125 9.0625 \r\nQ 20.90625 20.125 20.90625 31.390625 \r\nQ 20.90625 42.671875 17.703125 53.65625 \r\nQ 14.5 64.65625 8.015625 75.875 \r\nz\r\n\" id=\"DejaVuSans-41\"/>\r\n      </defs>\r\n      <use xlink:href=\"#DejaVuSans-112\"/>\r\n      <use x=\"63.476562\" xlink:href=\"#DejaVuSans-97\"/>\r\n      <use x=\"124.755859\" xlink:href=\"#DejaVuSans-114\"/>\r\n      <use x=\"165.869141\" xlink:href=\"#DejaVuSans-116\"/>\r\n      <use x=\"205.078125\" xlink:href=\"#DejaVuSans-105\"/>\r\n      <use x=\"232.861328\" xlink:href=\"#DejaVuSans-99\"/>\r\n      <use x=\"287.841797\" xlink:href=\"#DejaVuSans-117\"/>\r\n      <use x=\"351.220703\" xlink:href=\"#DejaVuSans-97\"/>\r\n      <use x=\"412.5\" xlink:href=\"#DejaVuSans-108\"/>\r\n      <use x=\"440.283203\" xlink:href=\"#DejaVuSans-116\"/>\r\n      <use x=\"479.492188\" xlink:href=\"#DejaVuSans-101\"/>\r\n      <use x=\"541.015625\" xlink:href=\"#DejaVuSans-32\"/>\r\n      <use x=\"572.802734\" xlink:href=\"#DejaVuSans-109\"/>\r\n      <use x=\"670.214844\" xlink:href=\"#DejaVuSans-97\"/>\r\n      <use x=\"731.494141\" xlink:href=\"#DejaVuSans-116\"/>\r\n      <use x=\"770.703125\" xlink:href=\"#DejaVuSans-116\"/>\r\n      <use x=\"809.912109\" xlink:href=\"#DejaVuSans-101\"/>\r\n      <use x=\"871.435547\" xlink:href=\"#DejaVuSans-114\"/>\r\n      <use x=\"912.548828\" xlink:href=\"#DejaVuSans-32\"/>\r\n      <use x=\"944.335938\" xlink:href=\"#DejaVuSans-40\"/>\r\n      <use x=\"983.349609\" xlink:href=\"#DejaVuSans-117\"/>\r\n      <use x=\"1046.728516\" xlink:href=\"#DejaVuSans-103\"/>\r\n      <use x=\"1110.205078\" xlink:href=\"#DejaVuSans-47\"/>\r\n      <use x=\"1143.896484\" xlink:href=\"#DejaVuSans-109\"/>\r\n      <use x=\"1241.308594\" xlink:href=\"#DejaVuSans-51\"/>\r\n      <use x=\"1304.931641\" xlink:href=\"#DejaVuSans-41\"/>\r\n     </g>\r\n    </g>\r\n   </g>\r\n   <g id=\"line2d_33\">\r\n    <path clip-path=\"url(#pdbf809ed23)\" d=\"M 117.108795 526.748714 \r\nL 176.530139 528.649188 \r\nL 235.951483 531.443845 \r\nL 295.372827 534.601095 \r\nL 354.794171 529.962608 \r\nL 414.215515 526.553674 \r\nL 473.636859 520.719223 \r\nL 533.058203 513.57825 \r\nL 592.479546 504.411624 \r\nL 651.90089 499.533694 \r\nL 711.322234 492.259606 \r\nL 770.743578 483.605518 \r\nL 830.164922 468.780008 \r\nL 889.586266 472.378735 \r\nL 949.00761 458.415999 \r\nL 1008.428954 457.660801 \r\nL 1067.850297 462.075239 \r\nL 1127.271641 470.948661 \r\nL 1186.692985 483.693269 \r\nL 1246.114329 472.247645 \r\nL 1305.535673 511.837598 \r\nL 1364.957017 515.753197 \r\nL 1424.378361 518.490116 \r\nL 1483.799705 522.198738 \r\n\" style=\"fill:none;stroke:#666666;stroke-opacity:0.9;stroke-width:4;\"/>\r\n   </g>\r\n   <g id=\"line2d_34\">\r\n    <path clip-path=\"url(#pdbf809ed23)\" d=\"M 117.108795 246.771157 \r\nL 176.530139 241.352572 \r\nL 235.951483 239.981052 \r\nL 295.372827 246.865606 \r\nL 354.794171 236.827222 \r\nL 414.215515 253.987618 \r\nL 473.636859 201.919158 \r\nL 533.058203 150.559823 \r\nL 592.479546 80.329217 \r\nL 651.90089 72.335795 \r\nL 711.322234 59.470823 \r\nL 770.743578 66.423555 \r\nL 830.164922 55.775867 \r\nL 889.586266 60.468565 \r\nL 949.00761 52.617624 \r\nL 1008.428954 56.460194 \r\nL 1067.850297 120.623981 \r\nL 1127.271641 150.217649 \r\nL 1186.692985 188.246987 \r\nL 1246.114329 190.013801 \r\nL 1305.535673 250.989649 \r\nL 1364.957017 257.554034 \r\nL 1424.378361 262.647941 \r\nL 1483.799705 281.658402 \r\n\" style=\"fill:none;stroke:#9999e6;stroke-opacity:0.9;stroke-width:4;\"/>\r\n   </g>\r\n   <g id=\"patch_3\">\r\n    <path d=\"M 48.77425 558.700268 \r\nL 48.77425 28.51845 \r\n\" style=\"fill:none;stroke:#f0f0f0;stroke-linecap:square;stroke-linejoin:miter;stroke-width:3;\"/>\r\n   </g>\r\n   <g id=\"patch_4\">\r\n    <path d=\"M 1552.13425 558.700268 \r\nL 1552.13425 28.51845 \r\n\" style=\"fill:none;stroke:#f0f0f0;stroke-linecap:square;stroke-linejoin:miter;stroke-width:3;\"/>\r\n   </g>\r\n   <g id=\"patch_5\">\r\n    <path d=\"M 48.77425 558.700268 \r\nL 1552.13425 558.700268 \r\n\" style=\"fill:none;stroke:#f0f0f0;stroke-linecap:square;stroke-linejoin:miter;stroke-width:3;\"/>\r\n   </g>\r\n   <g id=\"patch_6\">\r\n    <path d=\"M 48.77425 28.51845 \r\nL 1552.13425 28.51845 \r\n\" style=\"fill:none;stroke:#f0f0f0;stroke-linecap:square;stroke-linejoin:miter;stroke-width:3;\"/>\r\n   </g>\r\n   <g id=\"text_19\">\r\n    <!-- PM partiuclate hourly average -->\r\n    <g transform=\"translate(648.411625 22.51845)scale(0.2016 -0.2016)\">\r\n     <defs>\r\n      <path d=\"M 19.671875 64.796875 \r\nL 19.671875 37.40625 \r\nL 32.078125 37.40625 \r\nQ 38.96875 37.40625 42.71875 40.96875 \r\nQ 46.484375 44.53125 46.484375 51.125 \r\nQ 46.484375 57.671875 42.71875 61.234375 \r\nQ 38.96875 64.796875 32.078125 64.796875 \r\nz\r\nM 9.8125 72.90625 \r\nL 32.078125 72.90625 \r\nQ 44.34375 72.90625 50.609375 67.359375 \r\nQ 56.890625 61.8125 56.890625 51.125 \r\nQ 56.890625 40.328125 50.609375 34.8125 \r\nQ 44.34375 29.296875 32.078125 29.296875 \r\nL 19.671875 29.296875 \r\nL 19.671875 0 \r\nL 9.8125 0 \r\nz\r\n\" id=\"DejaVuSans-80\"/>\r\n      <path d=\"M 9.8125 72.90625 \r\nL 24.515625 72.90625 \r\nL 43.109375 23.296875 \r\nL 61.8125 72.90625 \r\nL 76.515625 72.90625 \r\nL 76.515625 0 \r\nL 66.890625 0 \r\nL 66.890625 64.015625 \r\nL 48.09375 14.015625 \r\nL 38.1875 14.015625 \r\nL 19.390625 64.015625 \r\nL 19.390625 0 \r\nL 9.8125 0 \r\nz\r\n\" id=\"DejaVuSans-77\"/>\r\n      <path d=\"M 54.890625 33.015625 \r\nL 54.890625 0 \r\nL 45.90625 0 \r\nL 45.90625 32.71875 \r\nQ 45.90625 40.484375 42.875 44.328125 \r\nQ 39.84375 48.1875 33.796875 48.1875 \r\nQ 26.515625 48.1875 22.3125 43.546875 \r\nQ 18.109375 38.921875 18.109375 30.90625 \r\nL 18.109375 0 \r\nL 9.078125 0 \r\nL 9.078125 75.984375 \r\nL 18.109375 75.984375 \r\nL 18.109375 46.1875 \r\nQ 21.34375 51.125 25.703125 53.5625 \r\nQ 30.078125 56 35.796875 56 \r\nQ 45.21875 56 50.046875 50.171875 \r\nQ 54.890625 44.34375 54.890625 33.015625 \r\nz\r\n\" id=\"DejaVuSans-104\"/>\r\n      <path d=\"M 30.609375 48.390625 \r\nQ 23.390625 48.390625 19.1875 42.75 \r\nQ 14.984375 37.109375 14.984375 27.296875 \r\nQ 14.984375 17.484375 19.15625 11.84375 \r\nQ 23.34375 6.203125 30.609375 6.203125 \r\nQ 37.796875 6.203125 41.984375 11.859375 \r\nQ 46.1875 17.53125 46.1875 27.296875 \r\nQ 46.1875 37.015625 41.984375 42.703125 \r\nQ 37.796875 48.390625 30.609375 48.390625 \r\nz\r\nM 30.609375 56 \r\nQ 42.328125 56 49.015625 48.375 \r\nQ 55.71875 40.765625 55.71875 27.296875 \r\nQ 55.71875 13.875 49.015625 6.21875 \r\nQ 42.328125 -1.421875 30.609375 -1.421875 \r\nQ 18.84375 -1.421875 12.171875 6.21875 \r\nQ 5.515625 13.875 5.515625 27.296875 \r\nQ 5.515625 40.765625 12.171875 48.375 \r\nQ 18.84375 56 30.609375 56 \r\nz\r\n\" id=\"DejaVuSans-111\"/>\r\n      <path d=\"M 32.171875 -5.078125 \r\nQ 28.375 -14.84375 24.75 -17.8125 \r\nQ 21.140625 -20.796875 15.09375 -20.796875 \r\nL 7.90625 -20.796875 \r\nL 7.90625 -13.28125 \r\nL 13.1875 -13.28125 \r\nQ 16.890625 -13.28125 18.9375 -11.515625 \r\nQ 21 -9.765625 23.484375 -3.21875 \r\nL 25.09375 0.875 \r\nL 2.984375 54.6875 \r\nL 12.5 54.6875 \r\nL 29.59375 11.921875 \r\nL 46.6875 54.6875 \r\nL 56.203125 54.6875 \r\nz\r\n\" id=\"DejaVuSans-121\"/>\r\n      <path d=\"M 2.984375 54.6875 \r\nL 12.5 54.6875 \r\nL 29.59375 8.796875 \r\nL 46.6875 54.6875 \r\nL 56.203125 54.6875 \r\nL 35.6875 0 \r\nL 23.484375 0 \r\nz\r\n\" id=\"DejaVuSans-118\"/>\r\n     </defs>\r\n     <use xlink:href=\"#DejaVuSans-80\"/>\r\n     <use x=\"60.302734\" xlink:href=\"#DejaVuSans-77\"/>\r\n     <use x=\"146.582031\" xlink:href=\"#DejaVuSans-32\"/>\r\n     <use x=\"178.369141\" xlink:href=\"#DejaVuSans-112\"/>\r\n     <use x=\"241.845703\" xlink:href=\"#DejaVuSans-97\"/>\r\n     <use x=\"303.125\" xlink:href=\"#DejaVuSans-114\"/>\r\n     <use x=\"344.238281\" xlink:href=\"#DejaVuSans-116\"/>\r\n     <use x=\"383.447266\" xlink:href=\"#DejaVuSans-105\"/>\r\n     <use x=\"411.230469\" xlink:href=\"#DejaVuSans-117\"/>\r\n     <use x=\"474.609375\" xlink:href=\"#DejaVuSans-99\"/>\r\n     <use x=\"529.589844\" xlink:href=\"#DejaVuSans-108\"/>\r\n     <use x=\"557.373047\" xlink:href=\"#DejaVuSans-97\"/>\r\n     <use x=\"618.652344\" xlink:href=\"#DejaVuSans-116\"/>\r\n     <use x=\"657.861328\" xlink:href=\"#DejaVuSans-101\"/>\r\n     <use x=\"719.384766\" xlink:href=\"#DejaVuSans-32\"/>\r\n     <use x=\"751.171875\" xlink:href=\"#DejaVuSans-104\"/>\r\n     <use x=\"814.550781\" xlink:href=\"#DejaVuSans-111\"/>\r\n     <use x=\"875.732422\" xlink:href=\"#DejaVuSans-117\"/>\r\n     <use x=\"939.111328\" xlink:href=\"#DejaVuSans-114\"/>\r\n     <use x=\"980.224609\" xlink:href=\"#DejaVuSans-108\"/>\r\n     <use x=\"1008.007812\" xlink:href=\"#DejaVuSans-121\"/>\r\n     <use x=\"1067.1875\" xlink:href=\"#DejaVuSans-32\"/>\r\n     <use x=\"1098.974609\" xlink:href=\"#DejaVuSans-97\"/>\r\n     <use x=\"1160.253906\" xlink:href=\"#DejaVuSans-118\"/>\r\n     <use x=\"1219.433594\" xlink:href=\"#DejaVuSans-101\"/>\r\n     <use x=\"1280.957031\" xlink:href=\"#DejaVuSans-114\"/>\r\n     <use x=\"1322.070312\" xlink:href=\"#DejaVuSans-97\"/>\r\n     <use x=\"1383.349609\" xlink:href=\"#DejaVuSans-103\"/>\r\n     <use x=\"1446.826172\" xlink:href=\"#DejaVuSans-101\"/>\r\n    </g>\r\n   </g>\r\n   <g id=\"legend_1\">\r\n    <g id=\"patch_7\">\r\n     <path d=\"M 1448.295812 80.8172 \r\nL 1542.33425 80.8172 \r\nQ 1545.13425 80.8172 1545.13425 78.0172 \r\nL 1545.13425 38.31845 \r\nQ 1545.13425 35.51845 1542.33425 35.51845 \r\nL 1448.295812 35.51845 \r\nQ 1445.495812 35.51845 1445.495812 38.31845 \r\nL 1445.495812 78.0172 \r\nQ 1445.495812 80.8172 1448.295812 80.8172 \r\nz\r\n\" style=\"fill:#f0f0f0;opacity:0.8;stroke:#cccccc;stroke-linejoin:miter;stroke-width:0.5;\"/>\r\n    </g>\r\n    <g id=\"line2d_35\">\r\n     <path d=\"M 1451.095812 46.856263 \r\nL 1479.095812 46.856263 \r\n\" style=\"fill:none;stroke:#666666;stroke-opacity:0.9;stroke-width:4;\"/>\r\n    </g>\r\n    <g id=\"line2d_36\"/>\r\n    <g id=\"text_20\">\r\n     <!-- pm 1 -->\r\n     <g transform=\"translate(1490.295812 51.756263)scale(0.14 -0.14)\">\r\n      <use xlink:href=\"#DejaVuSans-112\"/>\r\n      <use x=\"63.476562\" xlink:href=\"#DejaVuSans-109\"/>\r\n      <use x=\"160.888672\" xlink:href=\"#DejaVuSans-32\"/>\r\n      <use x=\"192.675781\" xlink:href=\"#DejaVuSans-49\"/>\r\n     </g>\r\n    </g>\r\n    <g id=\"line2d_37\">\r\n     <path d=\"M 1451.095812 67.405638 \r\nL 1479.095812 67.405638 \r\n\" style=\"fill:none;stroke:#9999e6;stroke-opacity:0.9;stroke-width:4;\"/>\r\n    </g>\r\n    <g id=\"line2d_38\"/>\r\n    <g id=\"text_21\">\r\n     <!-- pm 2.5 -->\r\n     <g transform=\"translate(1490.295812 72.305638)scale(0.14 -0.14)\">\r\n      <defs>\r\n       <path d=\"M 10.6875 12.40625 \r\nL 21 12.40625 \r\nL 21 0 \r\nL 10.6875 0 \r\nz\r\n\" id=\"DejaVuSans-46\"/>\r\n      </defs>\r\n      <use xlink:href=\"#DejaVuSans-112\"/>\r\n      <use x=\"63.476562\" xlink:href=\"#DejaVuSans-109\"/>\r\n      <use x=\"160.888672\" xlink:href=\"#DejaVuSans-32\"/>\r\n      <use x=\"192.675781\" xlink:href=\"#DejaVuSans-50\"/>\r\n      <use x=\"256.298828\" xlink:href=\"#DejaVuSans-46\"/>\r\n      <use x=\"288.085938\" xlink:href=\"#DejaVuSans-53\"/>\r\n     </g>\r\n    </g>\r\n   </g>\r\n  </g>\r\n  <g id=\"axes_2\">\r\n   <g id=\"patch_8\">\r\n    <path d=\"M 48.77425 1194.91845 \r\nL 1552.13425 1194.91845 \r\nL 1552.13425 664.736632 \r\nL 48.77425 664.736632 \r\nz\r\n\" style=\"fill:#f0f0f0;\"/>\r\n   </g>\r\n   <g id=\"matplotlib.axis_3\">\r\n    <g id=\"xtick_10\">\r\n     <g id=\"line2d_39\">\r\n      <path clip-path=\"url(#p82846fe47a)\" d=\"M 48.77425 1194.91845 \r\nL 48.77425 664.736632 \r\n\" style=\"fill:none;stroke:#cbcbcb;\"/>\r\n     </g>\r\n     <g id=\"line2d_40\"/>\r\n     <g id=\"text_22\">\r\n      <!-- 0.0 -->\r\n      <g transform=\"translate(37.642063 1209.056263)scale(0.14 -0.14)\">\r\n       <use xlink:href=\"#DejaVuSans-48\"/>\r\n       <use x=\"63.623047\" xlink:href=\"#DejaVuSans-46\"/>\r\n       <use x=\"95.410156\" xlink:href=\"#DejaVuSans-48\"/>\r\n      </g>\r\n     </g>\r\n    </g>\r\n    <g id=\"xtick_11\">\r\n     <g id=\"line2d_41\">\r\n      <path clip-path=\"url(#p82846fe47a)\" d=\"M 349.44625 1194.91845 \r\nL 349.44625 664.736632 \r\n\" style=\"fill:none;stroke:#cbcbcb;\"/>\r\n     </g>\r\n     <g id=\"line2d_42\"/>\r\n     <g id=\"text_23\">\r\n      <!-- 0.2 -->\r\n      <g transform=\"translate(338.314062 1209.056263)scale(0.14 -0.14)\">\r\n       <use xlink:href=\"#DejaVuSans-48\"/>\r\n       <use x=\"63.623047\" xlink:href=\"#DejaVuSans-46\"/>\r\n       <use x=\"95.410156\" xlink:href=\"#DejaVuSans-50\"/>\r\n      </g>\r\n     </g>\r\n    </g>\r\n    <g id=\"xtick_12\">\r\n     <g id=\"line2d_43\">\r\n      <path clip-path=\"url(#p82846fe47a)\" d=\"M 650.11825 1194.91845 \r\nL 650.11825 664.736632 \r\n\" style=\"fill:none;stroke:#cbcbcb;\"/>\r\n     </g>\r\n     <g id=\"line2d_44\"/>\r\n     <g id=\"text_24\">\r\n      <!-- 0.4 -->\r\n      <g transform=\"translate(638.986063 1209.056263)scale(0.14 -0.14)\">\r\n       <use xlink:href=\"#DejaVuSans-48\"/>\r\n       <use x=\"63.623047\" xlink:href=\"#DejaVuSans-46\"/>\r\n       <use x=\"95.410156\" xlink:href=\"#DejaVuSans-52\"/>\r\n      </g>\r\n     </g>\r\n    </g>\r\n    <g id=\"xtick_13\">\r\n     <g id=\"line2d_45\">\r\n      <path clip-path=\"url(#p82846fe47a)\" d=\"M 950.79025 1194.91845 \r\nL 950.79025 664.736632 \r\n\" style=\"fill:none;stroke:#cbcbcb;\"/>\r\n     </g>\r\n     <g id=\"line2d_46\"/>\r\n     <g id=\"text_25\">\r\n      <!-- 0.6 -->\r\n      <g transform=\"translate(939.658063 1209.056263)scale(0.14 -0.14)\">\r\n       <use xlink:href=\"#DejaVuSans-48\"/>\r\n       <use x=\"63.623047\" xlink:href=\"#DejaVuSans-46\"/>\r\n       <use x=\"95.410156\" xlink:href=\"#DejaVuSans-54\"/>\r\n      </g>\r\n     </g>\r\n    </g>\r\n    <g id=\"xtick_14\">\r\n     <g id=\"line2d_47\">\r\n      <path clip-path=\"url(#p82846fe47a)\" d=\"M 1251.46225 1194.91845 \r\nL 1251.46225 664.736632 \r\n\" style=\"fill:none;stroke:#cbcbcb;\"/>\r\n     </g>\r\n     <g id=\"line2d_48\"/>\r\n     <g id=\"text_26\">\r\n      <!-- 0.8 -->\r\n      <g transform=\"translate(1240.330062 1209.056263)scale(0.14 -0.14)\">\r\n       <use xlink:href=\"#DejaVuSans-48\"/>\r\n       <use x=\"63.623047\" xlink:href=\"#DejaVuSans-46\"/>\r\n       <use x=\"95.410156\" xlink:href=\"#DejaVuSans-56\"/>\r\n      </g>\r\n     </g>\r\n    </g>\r\n    <g id=\"xtick_15\">\r\n     <g id=\"line2d_49\">\r\n      <path clip-path=\"url(#p82846fe47a)\" d=\"M 1552.13425 1194.91845 \r\nL 1552.13425 664.736632 \r\n\" style=\"fill:none;stroke:#cbcbcb;\"/>\r\n     </g>\r\n     <g id=\"line2d_50\"/>\r\n     <g id=\"text_27\">\r\n      <!-- 1.0 -->\r\n      <g transform=\"translate(1541.002062 1209.056263)scale(0.14 -0.14)\">\r\n       <use xlink:href=\"#DejaVuSans-49\"/>\r\n       <use x=\"63.623047\" xlink:href=\"#DejaVuSans-46\"/>\r\n       <use x=\"95.410156\" xlink:href=\"#DejaVuSans-48\"/>\r\n      </g>\r\n     </g>\r\n    </g>\r\n   </g>\r\n   <g id=\"matplotlib.axis_4\">\r\n    <g id=\"ytick_8\">\r\n     <g id=\"line2d_51\">\r\n      <path clip-path=\"url(#p82846fe47a)\" d=\"M 48.77425 1194.91845 \r\nL 1552.13425 1194.91845 \r\n\" style=\"fill:none;stroke:#cbcbcb;\"/>\r\n     </g>\r\n     <g id=\"line2d_52\"/>\r\n     <g id=\"text_28\">\r\n      <!-- 0.0 -->\r\n      <g transform=\"translate(23.009875 1200.237356)scale(0.14 -0.14)\">\r\n       <use xlink:href=\"#DejaVuSans-48\"/>\r\n       <use x=\"63.623047\" xlink:href=\"#DejaVuSans-46\"/>\r\n       <use x=\"95.410156\" xlink:href=\"#DejaVuSans-48\"/>\r\n      </g>\r\n     </g>\r\n    </g>\r\n    <g id=\"ytick_9\">\r\n     <g id=\"line2d_53\">\r\n      <path clip-path=\"url(#p82846fe47a)\" d=\"M 48.77425 1088.882086 \r\nL 1552.13425 1088.882086 \r\n\" style=\"fill:none;stroke:#cbcbcb;\"/>\r\n     </g>\r\n     <g id=\"line2d_54\"/>\r\n     <g id=\"text_29\">\r\n      <!-- 0.2 -->\r\n      <g transform=\"translate(23.009875 1094.200993)scale(0.14 -0.14)\">\r\n       <use xlink:href=\"#DejaVuSans-48\"/>\r\n       <use x=\"63.623047\" xlink:href=\"#DejaVuSans-46\"/>\r\n       <use x=\"95.410156\" xlink:href=\"#DejaVuSans-50\"/>\r\n      </g>\r\n     </g>\r\n    </g>\r\n    <g id=\"ytick_10\">\r\n     <g id=\"line2d_55\">\r\n      <path clip-path=\"url(#p82846fe47a)\" d=\"M 48.77425 982.845723 \r\nL 1552.13425 982.845723 \r\n\" style=\"fill:none;stroke:#cbcbcb;\"/>\r\n     </g>\r\n     <g id=\"line2d_56\"/>\r\n     <g id=\"text_30\">\r\n      <!-- 0.4 -->\r\n      <g transform=\"translate(23.009875 988.164629)scale(0.14 -0.14)\">\r\n       <use xlink:href=\"#DejaVuSans-48\"/>\r\n       <use x=\"63.623047\" xlink:href=\"#DejaVuSans-46\"/>\r\n       <use x=\"95.410156\" xlink:href=\"#DejaVuSans-52\"/>\r\n      </g>\r\n     </g>\r\n    </g>\r\n    <g id=\"ytick_11\">\r\n     <g id=\"line2d_57\">\r\n      <path clip-path=\"url(#p82846fe47a)\" d=\"M 48.77425 876.809359 \r\nL 1552.13425 876.809359 \r\n\" style=\"fill:none;stroke:#cbcbcb;\"/>\r\n     </g>\r\n     <g id=\"line2d_58\"/>\r\n     <g id=\"text_31\">\r\n      <!-- 0.6 -->\r\n      <g transform=\"translate(23.009875 882.128265)scale(0.14 -0.14)\">\r\n       <use xlink:href=\"#DejaVuSans-48\"/>\r\n       <use x=\"63.623047\" xlink:href=\"#DejaVuSans-46\"/>\r\n       <use x=\"95.410156\" xlink:href=\"#DejaVuSans-54\"/>\r\n      </g>\r\n     </g>\r\n    </g>\r\n    <g id=\"ytick_12\">\r\n     <g id=\"line2d_59\">\r\n      <path clip-path=\"url(#p82846fe47a)\" d=\"M 48.77425 770.772995 \r\nL 1552.13425 770.772995 \r\n\" style=\"fill:none;stroke:#cbcbcb;\"/>\r\n     </g>\r\n     <g id=\"line2d_60\"/>\r\n     <g id=\"text_32\">\r\n      <!-- 0.8 -->\r\n      <g transform=\"translate(23.009875 776.091902)scale(0.14 -0.14)\">\r\n       <use xlink:href=\"#DejaVuSans-48\"/>\r\n       <use x=\"63.623047\" xlink:href=\"#DejaVuSans-46\"/>\r\n       <use x=\"95.410156\" xlink:href=\"#DejaVuSans-56\"/>\r\n      </g>\r\n     </g>\r\n    </g>\r\n    <g id=\"ytick_13\">\r\n     <g id=\"line2d_61\">\r\n      <path clip-path=\"url(#p82846fe47a)\" d=\"M 48.77425 664.736632 \r\nL 1552.13425 664.736632 \r\n\" style=\"fill:none;stroke:#cbcbcb;\"/>\r\n     </g>\r\n     <g id=\"line2d_62\"/>\r\n     <g id=\"text_33\">\r\n      <!-- 1.0 -->\r\n      <g transform=\"translate(23.009875 670.055538)scale(0.14 -0.14)\">\r\n       <use xlink:href=\"#DejaVuSans-49\"/>\r\n       <use x=\"63.623047\" xlink:href=\"#DejaVuSans-46\"/>\r\n       <use x=\"95.410156\" xlink:href=\"#DejaVuSans-48\"/>\r\n      </g>\r\n     </g>\r\n    </g>\r\n   </g>\r\n   <g id=\"patch_9\">\r\n    <path d=\"M 48.77425 1194.91845 \r\nL 48.77425 664.736632 \r\n\" style=\"fill:none;stroke:#f0f0f0;stroke-linecap:square;stroke-linejoin:miter;stroke-width:3;\"/>\r\n   </g>\r\n   <g id=\"patch_10\">\r\n    <path d=\"M 1552.13425 1194.91845 \r\nL 1552.13425 664.736632 \r\n\" style=\"fill:none;stroke:#f0f0f0;stroke-linecap:square;stroke-linejoin:miter;stroke-width:3;\"/>\r\n   </g>\r\n   <g id=\"patch_11\">\r\n    <path d=\"M 48.77425 1194.91845 \r\nL 1552.13425 1194.91845 \r\n\" style=\"fill:none;stroke:#f0f0f0;stroke-linecap:square;stroke-linejoin:miter;stroke-width:3;\"/>\r\n   </g>\r\n   <g id=\"patch_12\">\r\n    <path d=\"M 48.77425 664.736632 \r\nL 1552.13425 664.736632 \r\n\" style=\"fill:none;stroke:#f0f0f0;stroke-linecap:square;stroke-linejoin:miter;stroke-width:3;\"/>\r\n   </g>\r\n  </g>\r\n </g>\r\n <defs>\r\n  <clipPath id=\"pdbf809ed23\">\r\n   <rect height=\"530.181818\" width=\"1503.36\" x=\"48.77425\" y=\"28.51845\"/>\r\n  </clipPath>\r\n  <clipPath id=\"p82846fe47a\">\r\n   <rect height=\"530.181818\" width=\"1503.36\" x=\"48.77425\" y=\"664.736632\"/>\r\n  </clipPath>\r\n </defs>\r\n</svg>\r\n",
      "image/png": "[encoded data removed]"
     },
     "metadata": {}
    }
   ],
   "metadata": {}
  },
  {
   "cell_type": "markdown",
   "source": [
    "# locations"
   ],
   "metadata": {}
  },
  {
   "cell_type": "code",
   "execution_count": null,
   "source": [
    "def calculateSensorMovement(ldf):\r\n",
    "    precision = 0.00025 #this precision constant is derived from the GPS min and max readings which have 0.0003+/- variance for a stationary sensor \r\n",
    "\r\n",
    "    full_location_storage = False\r\n",
    "\r\n",
    "    #check if the sensor has moved greater than a speicifed precision. \r\n",
    "    if ((ldf['latitude'].min() + precision) > ldf['latitude'].max()) or ((ldf['latitude'].max() - precision) < ldf['latitude'].min()):\r\n",
    "        full_location_storage = True\r\n",
    "    elif ((ldf['longitude'].min() + precision) > ldf['longitude'].max()) or ((ldf['longitude'].max() - precision) < ldf['longitude'].min()):\r\n",
    "        full_location_storage = True\r\n",
    "    else:\r\n",
    "        full_location_storage = False\r\n",
    "\r\n",
    "    return full_location_storage"
   ],
   "outputs": [],
   "metadata": {}
  },
  {
   "cell_type": "code",
   "execution_count": null,
   "source": [
    "def calculateBoundingBox(ldf):\r\n",
    "    min_y= ldf['longitude'].min()\r\n",
    "    max_y = ldf['longitude'].max()\r\n",
    "\r\n",
    "    min_x= ldf['latitude'].min()\r\n",
    "    max_x = ldf['latitude'].max()\r\n",
    "    geometry_string = \"POLYGON(({} {}, {} {}, {} {}, {} {},{} {}))\".format(min_x,min_y,   min_x,max_y,   max_x,max_y,   max_x,min_y,   min_x,min_y)"
   ],
   "outputs": [],
   "metadata": {}
  },
  {
   "cell_type": "code",
   "execution_count": null,
   "source": [
    "data = {}\r\n",
    "hoursummary = []\r\n",
    "\r\n",
    "ldf = ldf.resample('60min').agg(['min','max']) #resample only works with datetimes\r\n",
    "ldf['Timestamp'] = ldf.index.values.astype(np.int64) // 10 ** 9\r\n",
    "ldf.set_index('Timestamp',inplace=True)\r\n",
    "\r\n",
    "    #extracting a bounding box from hourly readings\r\n",
    "try:\r\n",
    "    for row in ldf.iterrows():\r\n",
    "        geometry_string = \"\"\r\n",
    "\r\n",
    "        tempArray = [] \r\n",
    "        min_x= row[1][0]    # lat\r\n",
    "        max_x = row[1][1]   # lat\r\n",
    "                \r\n",
    "        min_y= row[1][2]    # long\r\n",
    "        max_y = row[1][3]   # long\r\n",
    "\r\n",
    "        geometry_string = \"POLYGON(({} {}, {} {}, {} {}, {} {},{} {}))\".format(min_x,min_y,   min_x,max_y,   max_x,max_y,   max_x,min_y,   min_x,min_y)\r\n",
    "\r\n",
    "        tempArray = [geometry_string,len(ldf.index.values)] #inserting row into temp array\r\n",
    "    hoursummary.append(tempArray)\r\n",
    "\r\n",
    "except Exception as e:\r\n",
    "    print('The dataframe is empty therefore no bounding box will be applied :{0}'.format(e))"
   ],
   "outputs": [],
   "metadata": {}
  },
  {
   "cell_type": "code",
   "execution_count": null,
   "source": [
    "print(hoursummary[0])\r\n",
    "#ldf.head()"
   ],
   "outputs": [],
   "metadata": {}
  }
 ],
 "metadata": {
  "interpreter": {
   "hash": "58e6f625ba2c43b7fc3c95c61d4ef7749e639023949ab2a4f0956b7241794ddb"
  },
  "kernelspec": {
   "name": "python3",
   "display_name": "Python 3.8.8 64-bit ('base': conda)"
  },
  "language_info": {
   "codemirror_mode": {
    "name": "ipython",
    "version": 3
   },
   "file_extension": ".py",
   "mimetype": "text/x-python",
   "name": "python",
   "nbconvert_exporter": "python",
   "pygments_lexer": "ipython3",
   "version": "3.8.8"
  }
 },
 "nbformat": 4,
 "nbformat_minor": 4
}