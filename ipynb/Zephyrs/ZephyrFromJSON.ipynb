{
 "cells": [
  {
   "cell_type": "code",
   "execution_count": 1,
   "source": [
    "import pandas as pd\r\n",
    "import requests\r\n",
    "import json\r\n",
    "from datetime import datetime, timezone\r\n",
    "import numpy as np"
   ],
   "outputs": [],
   "metadata": {}
  },
  {
   "cell_type": "code",
   "execution_count": 2,
   "source": [
    "with open('..\\\\..\\\\CypressAutomation\\\\cypress\\\\fixtures\\\\Zephyr.json') as f:\r\n",
    "    requestData = json.load(f)\r\n",
    "requestData['slots'] = \"B\"\r\n",
    "requestData['format_output'] = \"json\"\r\n",
    "requestData['target'] = \"api\"\r\n",
    "print(requestData)"
   ],
   "outputs": [
    {
     "output_type": "stream",
     "name": "stdout",
     "text": [
      "{'email': 'AstonUniversity', 'password': 'Xo08R83d43e0Kk6', 'dateStart': '20210917000', 'dateEnd': '202109200000', 'sensors': ['814', '821'], 'slots': 'B', 'format_output': 'json', 'target': 'api'}\n"
     ]
    }
   ],
   "metadata": {}
  },
  {
   "cell_type": "code",
   "execution_count": 3,
   "source": [
    "zephyr_jsons = []\r\n",
    "\r\n",
    "for zephyr_id in requestData['sensors']:\r\n",
    "    url = \"https://data.earthsense.co.uk/dataForViewBySlots/%s/%s/%s/%s/%s/%s/def/%s/%s\" % (requestData['email'], requestData['password'], zephyr_id,requestData['dateStart'],requestData['dateEnd'],requestData['slots'],requestData['format_output'],requestData['target'])\r\n",
    "    response = requests.get(url)\r\n",
    "    if response.status_code == 200:\r\n",
    "        zephyr_jsons.append(response.json()['slotB'])\r\n",
    "    else:\r\n",
    "        print(\"HTTP request error code: \" + response.status_code)"
   ],
   "outputs": [],
   "metadata": {}
  },
  {
   "cell_type": "markdown",
   "source": [
    "# json to dt"
   ],
   "metadata": {}
  },
  {
   "cell_type": "code",
   "execution_count": 4,
   "source": [
    "#extracting and preparing the dataframe from the json objects\r\n",
    "dfList = []\r\n",
    "for jsonObject in zephyr_jsons:\r\n",
    "    df_temp = pd.DataFrame.from_records(jsonObject)\r\n",
    "    df_temp.drop('header', axis =0, inplace=True)\r\n",
    "    df_temp.drop('data_hash', axis =0, inplace=True)\r\n",
    "    df_temp.drop('UTS', axis=1, inplace=True)\r\n",
    "\r\n",
    "    #explode function transform each element of a list to a row.\r\n",
    "    #we can apply it to all the columns assuming they have the same number of elements in each list \r\n",
    "    df_temp = df_temp.apply(pd.Series.explode)\r\n",
    "    \r\n",
    "    dfList.append(df_temp)\r\n",
    "\r\n",
    "measurement_dictionary = {k:v for k,v in zip(requestData['sensors'],dfList)}\r\n",
    "dfList = [] # clear dataframe list\r\n"
   ],
   "outputs": [],
   "metadata": {}
  },
  {
   "cell_type": "markdown",
   "source": [
    "# Splitting dataframe into days"
   ],
   "metadata": {}
  },
  {
   "cell_type": "code",
   "execution_count": 5,
   "source": [
    "def dataSplit(df_temp,dateString):\r\n",
    "    \r\n",
    "    data = {} #intialise empty dictionary to store each day of locations\r\n",
    "    \r\n",
    "    df_temp = measurement_dictionary[key]\r\n",
    "\r\n",
    "    # using the dates which are already supplied. This strategy in the line below converts them and rounds down to date using 'd' flag\r\n",
    "    # This strategy (line below) will keep just the date\r\n",
    "    df_temp['day'] = pd.to_datetime(df_temp[dateString], dayfirst=True, errors='coerce').dt.date\r\n",
    "\r\n",
    "    the_unique_dates = df_temp['day'].unique()\r\n",
    "    # this gives the same result as the for loop below\r\n",
    "    \r\n",
    "    #splitting the dataframe into separate days\r\n",
    "    #for each day in unique dates set:\r\n",
    "    for day in the_unique_dates:\r\n",
    "        try:\r\n",
    "            # In my code below I assign the subset of records to a new dataframe called dft\r\n",
    "            # create 'midnight' timestamps\r\n",
    "            timestampKey = int((pd.to_datetime(day, errors='coerce')).timestamp())\r\n",
    "\r\n",
    "            # select the records for this day\r\n",
    "            dft = df_temp[df_temp['day']==day]\r\n",
    "\r\n",
    "            # #drop the date column to save space (we don't need this anymore)\r\n",
    "            #dft = dft.drop(dateString, axis=1)\r\n",
    "            dft = dft.drop(\"day\", axis=1)\r\n",
    "            dft = dft.dropna() #drop null values\r\n",
    "            \r\n",
    "            data[timestampKey] = dft\r\n",
    "\r\n",
    "        except KeyError as e:\r\n",
    "            print(e)\r\n",
    "\r\n",
    "    return data"
   ],
   "outputs": [],
   "metadata": {}
  },
  {
   "cell_type": "code",
   "execution_count": 6,
   "source": [
    "for key in measurement_dictionary:\r\n",
    "    measurement_dictionary[key] = dataSplit(measurement_dictionary[key],'dateTime')\r\n",
    "\r\n",
    "#location_dictionary = measurement_dictionary \r\n",
    "location_dictionary = {}"
   ],
   "outputs": [],
   "metadata": {}
  },
  {
   "cell_type": "markdown",
   "source": [
    "# Flagging missed days "
   ],
   "metadata": {}
  },
  {
   "cell_type": "code",
   "execution_count": 7,
   "source": [
    "dateStart = datetime.strptime(str(requestData['dateStart']) ,'%Y%m%d%H%M').date()\r\n",
    "dateEnd = datetime.strptime(str(requestData['dateEnd']) ,'%Y%m%d%H%M').date()\r\n",
    "\r\n",
    "dateList = pd.date_range(dateStart,dateEnd,freq='d')\r\n",
    "\r\n",
    "timeStampRange = []\r\n",
    "for day in dateList:\r\n",
    "    timeStampRange.append(int(day.replace(tzinfo=timezone.utc).timestamp()))"
   ],
   "outputs": [],
   "metadata": {}
  },
  {
   "cell_type": "code",
   "execution_count": 8,
   "source": [
    "for key in requestData['sensors']:\r\n",
    "    timestampKeys = list(measurement_dictionary[key])\r\n",
    "\r\n",
    "    #if there are no missing days skip to the next sensor\r\n",
    "    if timeStampRange == timestampKeys:\r\n",
    "        continue\r\n",
    "\r\n",
    "    #flag the missing days\r\n",
    "    else:\r\n",
    "        missingDays = list(set(timeStampRange) - set(timestampKeys))\r\n",
    "        print(\"Missing days for sensor %s :\" % str(key) )\r\n",
    "        for day in missingDays:\r\n",
    "            print(datetime.utcfromtimestamp(day).date())\r\n"
   ],
   "outputs": [
    {
     "output_type": "stream",
     "name": "stdout",
     "text": [
      "Missing days for sensor 814 :\n",
      "2021-09-20\n",
      "Missing days for sensor 821 :\n",
      "2021-09-20\n"
     ]
    }
   ],
   "metadata": {}
  },
  {
   "cell_type": "code",
   "execution_count": 9,
   "source": [
    "measurement_dictionary['814'].keys()"
   ],
   "outputs": [
    {
     "output_type": "execute_result",
     "data": {
      "text/plain": [
       "dict_keys([1631836800, 1631923200, 1632009600])"
      ]
     },
     "metadata": {},
     "execution_count": 9
    }
   ],
   "metadata": {}
  },
  {
   "cell_type": "markdown",
   "source": [
    "# Separating each list "
   ],
   "metadata": {}
  },
  {
   "cell_type": "code",
   "execution_count": 10,
   "source": [
    "def calculateTimestamps(df):\r\n",
    "    #set the index to Timestamp and automatically drops the datetime index\r\n",
    "    df['Timestamp'] = df.index.values.astype(np.int64) // 10 ** 9\r\n",
    "    df.set_index('Timestamp',inplace=True)\r\n",
    "    return df"
   ],
   "outputs": [],
   "metadata": {}
  },
  {
   "cell_type": "code",
   "execution_count": 11,
   "source": [
    "def dataframeAverages(intervalString,df):\r\n",
    "    #convert all column types to int\r\n",
    "    df = df.astype(int)\r\n",
    "    #resample by minute and get mean\r\n",
    "    df= df.resample(intervalString).mean() \r\n",
    "\r\n",
    "    df.isnull().sum() # identify any null values\r\n",
    "    df.dropna(inplace=True) #drop null values\r\n",
    "    #df = df.astype(int)  #convert avergaes back to int\r\n",
    "    return df"
   ],
   "outputs": [],
   "metadata": {}
  },
  {
   "cell_type": "code",
   "execution_count": 12,
   "source": [
    "for key in measurement_dictionary:\r\n",
    "    temp_locations = {}\r\n",
    "    temp_measurements = {}\r\n",
    "    for timestamp in measurement_dictionary[key]:\r\n",
    "        df_temp = measurement_dictionary[key][timestamp]\r\n",
    "        df_temp.set_index('dateTime',inplace=True)\r\n",
    "        df_temp.index = pd.to_datetime(df_temp.index,dayfirst=True)\r\n",
    "\r\n",
    "        #extracting the location data\r\n",
    "        ldf = df_temp[['latitude','longitude']]\r\n",
    "        df_temp.drop(['latitude','longitude'],axis=1, inplace=True) #drop the location columns \r\n",
    "\r\n",
    "        #calculate minute averages\r\n",
    "        df_temp = dataframeAverages('1min',df_temp)\r\n",
    "        df_temp = calculateTimestamps(df_temp)\r\n",
    "\r\n",
    "        #reassign new location dataframe to dictionary\r\n",
    "        temp_locations[timestamp] = ldf\r\n",
    "\r\n",
    "        #reassign new measurement dataframe to dictionary\r\n",
    "        temp_measurements[timestamp] = df_temp\r\n",
    "\r\n",
    "    location_dictionary[key] = temp_locations\r\n",
    "    measurement_dictionary[key] = temp_measurements\r\n",
    "\r\n",
    "    temp_locations = {} # clear dictionary \r\n",
    "    temp_measurements = {} # clear dictionary"
   ],
   "outputs": [],
   "metadata": {}
  },
  {
   "cell_type": "markdown",
   "source": [
    "# Preparing data for postgres"
   ],
   "metadata": {}
  },
  {
   "cell_type": "code",
   "execution_count": 13,
   "source": [
    "def calculateSensorMovement(ldf):\r\n",
    "    precision = 0.00025 #this precision constant is derived from the GPS min and max readings which have 0.0003+/- variance for a stationary sensor \r\n",
    "\r\n",
    "    full_location_storage = False\r\n",
    "\r\n",
    "    #check if the sensor has moved greater than a speicfied precision. \r\n",
    "    if ((ldf['latitude'].min() + precision) > ldf['latitude'].max()) or ((ldf['latitude'].max() - precision) < ldf['latitude'].min()):\r\n",
    "        full_location_storage = True\r\n",
    "    elif ((ldf['longitude'].min() + precision) > ldf['longitude'].max()) or ((ldf['longitude'].max() - precision) < ldf['longitude'].min()):\r\n",
    "        full_location_storage = True\r\n",
    "    else:\r\n",
    "        full_location_storage = False\r\n",
    "\r\n",
    "    return full_location_storage"
   ],
   "outputs": [],
   "metadata": {}
  },
  {
   "cell_type": "code",
   "execution_count": 14,
   "source": [
    "def calculateBoundingBox(ldf):\r\n",
    "    for row in ldf.iterrows():\r\n",
    "        geometry_string = \"\"\r\n",
    "\r\n",
    "        tempArray = [] \r\n",
    "        min_x= row[1][2]    # lat\r\n",
    "        max_x = row[1][3]   # lat\r\n",
    "                \r\n",
    "        min_y= row[1][0]    # long\r\n",
    "        max_y = row[1][1]   # long\r\n",
    "\r\n",
    "    return \"POLYGON((%f %f, %f %f, %f %f, %f %f,%f %f))\" % (min_x,min_y,   min_x,max_y,   max_x,max_y,   max_x,min_y,   min_x,min_y)"
   ],
   "outputs": [],
   "metadata": {}
  },
  {
   "cell_type": "code",
   "execution_count": 15,
   "source": [
    "sensor_summaries = {}\r\n",
    "sensor_data = {}\r\n",
    "\r\n",
    "for key in requestData['sensors']:\r\n",
    "    \r\n",
    "    df = mdf =  pd.DataFrame\r\n",
    "    geometry_string = \"\"\r\n",
    "    timestamp_sensor_key = \"\"\r\n",
    "\r\n",
    "    #we can look into either dictioanry as they both share the same time range.\r\n",
    "    for timestampKey in location_dictionary[key]:\r\n",
    "   \r\n",
    "        # concatenating numbers into text: \r\n",
    "        timestamp_sensor_key = \"%s_%s\" % (timestampKey, key)\r\n",
    "\r\n",
    "        #try get location dataframe\r\n",
    "        try:\r\n",
    "            ldf = location_dictionary[key][timestampKey]\r\n",
    "            \r\n",
    "            #check if there is any movment in this current day of data and generate a bounding box if there is \r\n",
    "            if calculateSensorMovement(ldf) == True:\r\n",
    "                print(\"Storing all measurements for this moving sensor\")\r\n",
    "                geometry_string = calculateBoundingBox(ldf)\r\n",
    "            \r\n",
    "            #if no movement is recorded them we can just take the min and max measuremnt for the day and drop the other values\r\n",
    "            else:               \r\n",
    "                temp_ldf = ldf.resample('D').agg(['min','max']) #resample on day interval\r\n",
    "                geometry_string = calculateBoundingBox(temp_ldf)\r\n",
    "               \r\n",
    "                #convert all column types to float to get an averaged location\r\n",
    "                ldf = ldf.astype(float)\r\n",
    "                ldf = ldf.resample('D').mean()\r\n",
    "                ldf = calculateTimestamps(ldf)\r\n",
    "               \r\n",
    "        except Exception as e:\r\n",
    "            print('The dataframe is empty therefore no bounding box will be applied :{}'.format(e))\r\n",
    "        \r\n",
    "        # try get measurement dataframe\r\n",
    "        try:\r\n",
    "            mdf = measurement_dictionary[key][timestampKey] \r\n",
    "        except Exception as e:\r\n",
    "            print('The measurement dataframe is empty. check csv files :{}'.format(e))\r\n",
    "\r\n",
    "\r\n",
    "        #summaryArray = [timestamp_start,sensor_id,bouding_box,measurement_count]\r\n",
    "        summaryArray = [timestampKey,int(key),geometry_string,len(mdf.index.values)] #inserting row into temp array\r\n",
    "        sensor_summaries[timestamp_sensor_key] = summaryArray    #assign new dataframe to coressponding key\r\n",
    "\r\n",
    "        #dataArray = [id, mesaurement_json,location_json]\r\n",
    "        dataArray = [mdf.to_json(orient=\"columns\"),ldf.to_json(orient=\"columns\")] \r\n",
    "        sensor_data[timestamp_sensor_key] = dataArray    #assign new dataframe to coressponding key    "
   ],
   "outputs": [],
   "metadata": {}
  },
  {
   "cell_type": "markdown",
   "source": [
    "# Exporting to PostgresSQL \n"
   ],
   "metadata": {}
  },
  {
   "cell_type": "markdown",
   "source": [
    "# Writing records from a Dictionary of arrays to a SQL database\n",
    "loop over all the keys and execute insert query"
   ],
   "metadata": {}
  },
  {
   "cell_type": "code",
   "execution_count": 16,
   "source": [
    "#TODO check if sensor is stationary. if it is then don't upload the location table and use the last known stationary geometry string (from our database) in each day of data"
   ],
   "outputs": [],
   "metadata": {}
  },
  {
   "cell_type": "code",
   "execution_count": 17,
   "source": [
    "import psycopg2"
   ],
   "outputs": [],
   "metadata": {}
  },
  {
   "cell_type": "code",
   "execution_count": 18,
   "source": [
    "#Connecting to an existing database\r\n",
    "con = psycopg2.connect(\r\n",
    "    host=\"localhost\",\r\n",
    "    database=\"airQuality\",\r\n",
    "    user=\"Riyad\", \r\n",
    "    password=\"123\",\r\n",
    "    # attempt to connect for 3 seconds then raise exception\r\n",
    "    connect_timeout = 3)"
   ],
   "outputs": [],
   "metadata": {}
  },
  {
   "cell_type": "code",
   "execution_count": 19,
   "source": [
    "# cursor = con.cursor()\r\n",
    "\r\n",
    "# query = \"UPDATE sensor_network.sensor_summaries SET b_box = 'POLYGON ((52.0 10.0, 51.3 3.61, 51.3 3.0, 52.0 10.0))' WHERE timestamp_start = 1630454400 AND sensor_id = 31 \\n RETURNING sensor_data_id;\"\r\n",
    "# #query = \"SELECT sensor_data_id FROM sensor_network.sensor_summaries WHERE timestamp_start = 1630454400 AND sensor_id = 31\"\r\n",
    "# cursor.execute(query)\r\n",
    "# con.commit()\r\n",
    "\r\n",
    "# result = cursor.fetchone()\r\n",
    "\r\n",
    "# print('Returns', result)\r\n",
    "\r\n",
    "# if result == None:\r\n",
    "#     #INSERT\r\n",
    "#     print('INSERT')\r\n",
    "# else:\r\n",
    "#     #UPDATE\r\n",
    "#     print(result)\r\n",
    "\r\n",
    "# cursor.close()\r\n",
    "# con.close()\r\n"
   ],
   "outputs": [],
   "metadata": {}
  },
  {
   "cell_type": "code",
   "execution_count": 20,
   "source": [
    "#Opening a cursor to execute database operations\r\n",
    "cursor = con.cursor()\r\n",
    "query = \"SELECT * FROM sensor_network.sensors\"\r\n",
    "#change dataframe to csv and save file\r\n",
    "sensorsdf = pd.read_sql_query(query, con, index_col='lookup_id')\r\n",
    "sensorsdf = sensorsdf.convert_dtypes() #convert to correct types\r\n",
    "cursor.close()"
   ],
   "outputs": [],
   "metadata": {}
  },
  {
   "cell_type": "code",
   "execution_count": 21,
   "source": [
    "sensorsdf.head()"
   ],
   "outputs": [
    {
     "output_type": "execute_result",
     "data": {
      "text/html": [
       "<div>\n",
       "<style scoped>\n",
       "    .dataframe tbody tr th:only-of-type {\n",
       "        vertical-align: middle;\n",
       "    }\n",
       "\n",
       "    .dataframe tbody tr th {\n",
       "        vertical-align: top;\n",
       "    }\n",
       "\n",
       "    .dataframe thead th {\n",
       "        text-align: right;\n",
       "    }\n",
       "</style>\n",
       "<table border=\"1\" class=\"dataframe\">\n",
       "  <thead>\n",
       "    <tr style=\"text-align: right;\">\n",
       "      <th></th>\n",
       "      <th>sensor_serial_number</th>\n",
       "      <th>id</th>\n",
       "      <th>type_id</th>\n",
       "      <th>active</th>\n",
       "      <th>last_update</th>\n",
       "    </tr>\n",
       "    <tr>\n",
       "      <th>lookup_id</th>\n",
       "      <th></th>\n",
       "      <th></th>\n",
       "      <th></th>\n",
       "      <th></th>\n",
       "      <th></th>\n",
       "    </tr>\n",
       "  </thead>\n",
       "  <tbody>\n",
       "    <tr>\n",
       "      <th>16701</th>\n",
       "      <td>02:00:00:00:40:45</td>\n",
       "      <td>5</td>\n",
       "      <td>1</td>\n",
       "      <td>False</td>\n",
       "      <td>None</td>\n",
       "    </tr>\n",
       "    <tr>\n",
       "      <th>18683</th>\n",
       "      <td>02:00:00:00:48:03</td>\n",
       "      <td>6</td>\n",
       "      <td>1</td>\n",
       "      <td>False</td>\n",
       "      <td>None</td>\n",
       "    </tr>\n",
       "    <tr>\n",
       "      <th>18720</th>\n",
       "      <td>02:00:00:00:48:28</td>\n",
       "      <td>8</td>\n",
       "      <td>1</td>\n",
       "      <td>False</td>\n",
       "      <td>None</td>\n",
       "    </tr>\n",
       "    <tr>\n",
       "      <th>18749</th>\n",
       "      <td>02:00:00:00:48:45</td>\n",
       "      <td>9</td>\n",
       "      <td>1</td>\n",
       "      <td>False</td>\n",
       "      <td>None</td>\n",
       "    </tr>\n",
       "    <tr>\n",
       "      <th>18704</th>\n",
       "      <td>02:00:00:00:48:18</td>\n",
       "      <td>10</td>\n",
       "      <td>1</td>\n",
       "      <td>False</td>\n",
       "      <td>None</td>\n",
       "    </tr>\n",
       "  </tbody>\n",
       "</table>\n",
       "</div>"
      ],
      "text/plain": [
       "          sensor_serial_number  id  type_id  active last_update\n",
       "lookup_id                                                      \n",
       "16701        02:00:00:00:40:45   5        1   False        None\n",
       "18683        02:00:00:00:48:03   6        1   False        None\n",
       "18720        02:00:00:00:48:28   8        1   False        None\n",
       "18749        02:00:00:00:48:45   9        1   False        None\n",
       "18704        02:00:00:00:48:18  10        1   False        None"
      ]
     },
     "metadata": {},
     "execution_count": 21
    }
   ],
   "metadata": {}
  },
  {
   "cell_type": "code",
   "execution_count": 22,
   "source": [
    "# def Insertdata(mdf,ldf,sensor_id):\r\n",
    "#     try:\r\n",
    "#         #Opening a cursor to execute database operations\r\n",
    "#         cursor = con.cursor()\r\n",
    "\r\n",
    "#         #inserting sensor data and return the id of new record\r\n",
    "#         cursor.execute(\"INSERT INTO sensor_data.archive_measurements (measurements,locations) VALUES(%s, %s) \\n RETURNING id\", (str(ldf[0]),str(ldf[1])) )\r\n",
    "#         con.commit() \r\n",
    "        \r\n",
    "#         #set id of new record into local variable\r\n",
    "#         sensor_data_id = cursor.fetchone()[0]\r\n",
    "\r\n",
    "#         #inserting a new sensor summary\r\n",
    "#         cursor.execute(\"INSERT INTO sensor_network.sensor_summaries (timestamp_start, sensor_id, b_box, sensor_data_id, measurement_count) VALUES(%s, %s, %s, %s, %s)\", (int(mdf[0]), int(sensor_id),str(mdf[2]),int(sensor_data_id),int(mdf[3])))\r\n",
    "#         con.commit() \r\n",
    "\r\n",
    "#         #inserting sensor summary\r\n",
    "#         current_date = datetime.fromtimestamp(int(key.split('_')[0]))\r\n",
    "#         cursor.execute(\"UPDATE sensor_network.sensors SET last_update = %s WHERE id = %s\", (current_date,int(sensor_id)))\r\n",
    "#         con.commit() \r\n",
    "\r\n",
    "#         cursor.close()\r\n",
    "#     #if table name does not exist exit loop \r\n",
    "#     except(psycopg2.errors.UndefinedTable) as error:\r\n",
    "#         print('ERROR: ' + error)\r\n"
   ],
   "outputs": [],
   "metadata": {}
  },
  {
   "cell_type": "code",
   "execution_count": 23,
   "source": [
    "def Insertdata(mdf,ldf,sensor_id,update):\r\n",
    "    try:\r\n",
    "        #Opening a cursor to execute database operations\r\n",
    "        cursor = con.cursor()\r\n",
    "\r\n",
    "        #inserting sensor data and return the id of new record\r\n",
    "        cursor.execute(\"INSERT INTO sensor_data.archive_measurements (measurements,locations) VALUES(%s, %s) \\n RETURNING id\", (str(ldf[0]),str(ldf[1])) )\r\n",
    "        con.commit() \r\n",
    "        \r\n",
    "        #set id of new record into local variable\r\n",
    "        sensor_data_id = cursor.fetchone()[0]\r\n",
    "\r\n",
    "        if update == False:\r\n",
    "            #inserting a new sensor summary\r\n",
    "            cursor.execute(\"INSERT INTO sensor_network.sensor_summaries (timestamp_start, sensor_id, b_box, sensor_data_id, measurement_count) VALUES(%s, %s, %s, %s, %s)\", (int(mdf[0]), int(sensor_id),str(mdf[2]),int(sensor_data_id),int(mdf[3])))\r\n",
    "        else:\r\n",
    "            #updating sensor summary\r\n",
    "            cursor.execute(\"UPDATE sensor_network.sensor_summaries SET sensor_data_id = {} WHERE sensor_summaries.timestamp_start = {} AND sensor_summaries.sensor_id = {}\".format(int(sensor_data_id),int(mdf[0]), int(sensor_id)))\r\n",
    "        con.commit() \r\n",
    "\r\n",
    "        #inserting sensor summary\r\n",
    "        current_date = datetime.fromtimestamp(int(key.split('_')[0]))\r\n",
    "        cursor.execute(\"UPDATE sensor_network.sensors SET last_update = %s WHERE id = %s\", (current_date,int(sensor_id)))\r\n",
    "        con.commit() \r\n",
    "\r\n",
    "        cursor.close()\r\n",
    "    #if table name does not exist exit loop \r\n",
    "    except(psycopg2.errors.UndefinedTable) as error:\r\n",
    "        print('ERROR: ' + error)"
   ],
   "outputs": [],
   "metadata": {}
  },
  {
   "cell_type": "code",
   "execution_count": 24,
   "source": [
    "previousSensorid = \"x\"\r\n",
    "upsert = True\r\n",
    "\r\n",
    "for key in sensor_summaries:\r\n",
    "\r\n",
    "    #split key to get only sensorid\r\n",
    "    s = key.split('_')[1]\r\n",
    "\r\n",
    "    # print(s)\r\n",
    "    # print(previousSensorid)\r\n",
    "    if s != previousSensorid:\r\n",
    "        previousSensorid = s\r\n",
    "        upsert = True\r\n",
    "    else:\r\n",
    "        upsert = False\r\n",
    "\r\n",
    "    #get the new key from sensors table\r\n",
    "    sensor_id = sensorsdf.loc[int(s)]['id']\r\n",
    "\r\n",
    "    mdf = sensor_summaries[key]\r\n",
    "    ldf = sensor_data[key]\r\n",
    "\r\n",
    "    if upsert == True:\r\n",
    "        try:\r\n",
    "            #Opening a cursor to execute database operations\r\n",
    "            cursor = con.cursor()\r\n",
    "            q = \"INSERT INTO sensor_network.sensor_summaries (timestamp_start, sensor_id, b_box, sensor_data_id, measurement_count) VALUES({}, {}, {}, NULL, {})\".format(int(mdf[0]), int(sensor_id),str(\"\\'\" + mdf[2] + \"\\'\"),int(mdf[3]))\r\n",
    "            q2 = \"\\n ON CONFLICT ON CONSTRAINT sensor_summaries_pkey\"\r\n",
    "            q3= \" \\n DO UPDATE SET b_box = {} WHERE sensor_summaries.timestamp_start = {} AND sensor_summaries.sensor_id = {} \\n RETURNING sensor_data_id;\".format(str(\"\\'\" + mdf[2] + \"\\'\"),int(mdf[0]), int(sensor_id))\r\n",
    "            query = q + q2 + q3\r\n",
    "            \r\n",
    "            cursor.execute(query)\r\n",
    "            con.commit() \r\n",
    "            result = cursor.fetchone()\r\n",
    "            #if the result fecthed is not empty then the sensor summary exsists and we can jsut update the raw measurement data\r\n",
    "            if result[0] != None:           \r\n",
    "                sensor_data_id = result[0]\r\n",
    "                #update sensor data\r\n",
    "                cursor.execute(\"UPDATE sensor_data.archive_measurements SET measurements = %s, locations = %s WHERE archive_measurements.id = %s;\", (str(ldf[0]),str(ldf[1]),int(sensor_data_id)))\r\n",
    "                con.commit()\r\n",
    "                print('UPDATE at', result[0])\r\n",
    "\r\n",
    "            else:\r\n",
    "                Insertdata(mdf,ldf,sensor_id,True)\r\n",
    "                print('INSERT')\r\n",
    "        \r\n",
    "        #if any errors occur then exit loop \r\n",
    "        except(Exception) as error:\r\n",
    "            print('ERROR: ' + error)\r\n",
    "            break\r\n",
    "\r\n",
    "    #regular insert\r\n",
    "    else: \r\n",
    "        Insertdata(mdf,ldf,sensor_id,False)\r\n",
    "        print('INSERT')\r\n",
    "\r\n",
    "#closing the connection\r\n",
    "con.close()"
   ],
   "outputs": [
    {
     "output_type": "stream",
     "name": "stdout",
     "text": [
      "UPDATE 781\n",
      "INSERT\n",
      "INSERT\n",
      "UPDATE 784\n",
      "INSERT\n",
      "INSERT\n"
     ]
    }
   ],
   "metadata": {}
  },
  {
   "cell_type": "code",
   "execution_count": 25,
   "source": [
    "# for key in sensor_summaries:  \r\n",
    "\r\n",
    "\r\n",
    "#     #split key to get only sensorid\r\n",
    "#     s = key.split('_')[1]\r\n",
    "\r\n",
    "#     #get the new key from sensors table\r\n",
    "#     sensor_id = sensorsdf.loc[int(s)]['id']\r\n",
    "\r\n",
    "#     mdf = sensor_summaries[key]\r\n",
    "#     ldf = sensor_data[key]\r\n",
    "#     try:\r\n",
    "#             #Opening a cursor to execute database operations\r\n",
    "#             cursor = con.cursor()\r\n",
    "\r\n",
    "#             #inserting sensor data and return the id of new record\r\n",
    "#             cursor.execute(\"INSERT INTO sensor_data.archive_measurements (measurements,locations) VALUES(%s, %s) \\n RETURNING id\", (str(ldf[0]),str(ldf[1])) )\r\n",
    "#             con.commit() \r\n",
    "            \r\n",
    "#             #set id of new record into local variable\r\n",
    "#             sensor_data_id = cursor.fetchone()[0]\r\n",
    "\r\n",
    "#             #inserting sensor summary\r\n",
    "#             cursor.execute(\"INSERT INTO sensor_network.sensor_summaries (timestamp_start, sensor_id, b_box, sensor_data_id, measurement_count) VALUES(%s, %s, %s, %s, %s)\", (int(mdf[0]), int(sensor_id),str(mdf[2]),int(sensor_data_id),int(mdf[3])))\r\n",
    "#             con.commit() \r\n",
    "\r\n",
    "#             #inserting sensor summary\r\n",
    "#             current_date = datetime.fromtimestamp(int(key.split('_')[0]))\r\n",
    "#             cursor.execute(\"UPDATE sensor_network.sensors SET last_update = %s WHERE id = %s\", (current_date,int(sensor_id)))\r\n",
    "#             con.commit() \r\n",
    "\r\n",
    "#             cursor.close()\r\n",
    "#         #if table name does not exist exit loop \r\n",
    "#     except(psycopg2.errors.UndefinedTable) as error:\r\n",
    "#         print('ERROR: ' + error)\r\n",
    "#         break\r\n",
    "\r\n",
    "# #closing the connection\r\n",
    "# con.close()"
   ],
   "outputs": [],
   "metadata": {}
  }
 ],
 "metadata": {
  "interpreter": {
   "hash": "58e6f625ba2c43b7fc3c95c61d4ef7749e639023949ab2a4f0956b7241794ddb"
  },
  "kernelspec": {
   "name": "python3",
   "display_name": "Python 3.8.8 64-bit ('base': conda)"
  },
  "language_info": {
   "codemirror_mode": {
    "name": "ipython",
    "version": 3
   },
   "file_extension": ".py",
   "mimetype": "text/x-python",
   "name": "python",
   "nbconvert_exporter": "python",
   "pygments_lexer": "ipython3",
   "version": "3.8.8"
  }
 },
 "nbformat": 4,
 "nbformat_minor": 4
}