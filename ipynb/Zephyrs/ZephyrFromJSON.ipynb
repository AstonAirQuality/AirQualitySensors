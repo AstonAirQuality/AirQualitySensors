{
 "cells": [
  {
   "cell_type": "code",
   "execution_count": 1,
   "source": [
    "import pandas as pd\r\n",
    "import requests\r\n",
    "import json\r\n",
    "from datetime import datetime\r\n",
    "import numpy as np"
   ],
   "outputs": [],
   "metadata": {}
  },
  {
   "cell_type": "code",
   "execution_count": 2,
   "source": [
    "zephyr_username = \"AstonUniversity\"\r\n",
    "zephyr_password = \"Xo08R83d43e0Kk6\""
   ],
   "outputs": [],
   "metadata": {}
  },
  {
   "cell_type": "code",
   "execution_count": 3,
   "source": [
    "url = \"https://data.earthsense.co.uk/zephyrsForUser/%s/%s\" % (zephyr_username, zephyr_password)\r\n",
    "response = requests.get(url)"
   ],
   "outputs": [],
   "metadata": {}
  },
  {
   "cell_type": "code",
   "execution_count": 4,
   "source": [
    "print(response.status_code)"
   ],
   "outputs": [
    {
     "output_type": "stream",
     "name": "stdout",
     "text": [
      "200\n"
     ]
    }
   ],
   "metadata": {}
  },
  {
   "cell_type": "code",
   "execution_count": 5,
   "source": [
    "def jprint(obj):\r\n",
    "    # create a formatted string of the Python JSON object\r\n",
    "    zepyhr_id = json.dumps(obj, sort_keys=True, indent=4)\r\n",
    "    return zepyhr_id"
   ],
   "outputs": [],
   "metadata": {}
  },
  {
   "cell_type": "code",
   "execution_count": 6,
   "source": [
    "pass_times = response.json()['usersZephyrs']['13883']['zNumber']\r\n",
    "jprint(pass_times)"
   ],
   "outputs": [
    {
     "output_type": "execute_result",
     "data": {
      "text/plain": [
       "'814'"
      ]
     },
     "metadata": {},
     "execution_count": 6
    }
   ],
   "metadata": {}
  },
  {
   "cell_type": "code",
   "execution_count": 7,
   "source": [
    "jsonObject = response.json()['usersZephyrs']\r\n",
    "zephyr_id_list = []\r\n",
    "\r\n",
    "for key in jsonObject:\r\n",
    "    pass_times = response.json()['usersZephyrs'][key]['zNumber']\r\n",
    "    zephyr_id_list.append(jprint(pass_times))\r\n",
    "    \r\n",
    "print(zephyr_id_list)"
   ],
   "outputs": [
    {
     "output_type": "stream",
     "name": "stdout",
     "text": [
      "['814', '821']\n"
     ]
    }
   ],
   "metadata": {}
  },
  {
   "cell_type": "code",
   "execution_count": 8,
   "source": [
    "start_datetime = \"202108180000\"\r\n",
    "end_datetime = \"202108210000\"\r\n",
    "slots = \"B\"\r\n",
    "format_output = \"json\"\r\n",
    "target = \"api\""
   ],
   "outputs": [],
   "metadata": {}
  },
  {
   "cell_type": "code",
   "execution_count": 9,
   "source": [
    "zephyr_jsons = []\r\n",
    "\r\n",
    "for zephyr_id in zephyr_id_list:\r\n",
    "    url = \"https://data.earthsense.co.uk/dataForViewBySlots/%s/%s/%s/%s/%s/%s/def/%s/%s\" % (zephyr_username, zephyr_password, zephyr_id,start_datetime,end_datetime,slots,format_output,target)\r\n",
    "    response = requests.get(url)\r\n",
    "    if response.status_code == 200:\r\n",
    "        zephyr_jsons.append(response.json()['slotB'])\r\n",
    "    else:\r\n",
    "        print(\"HTTP request error code: \" + response.status_code)"
   ],
   "outputs": [],
   "metadata": {}
  },
  {
   "cell_type": "markdown",
   "source": [
    "# json to dt"
   ],
   "metadata": {}
  },
  {
   "cell_type": "code",
   "execution_count": 10,
   "source": [
    "#extracting and preparing the dataframe from the json objects\r\n",
    "dfList = []\r\n",
    "for jsonObject in zephyr_jsons:\r\n",
    "    df_temp = pd.DataFrame.from_records(jsonObject)\r\n",
    "    df_temp.drop('header', axis =0, inplace=True)\r\n",
    "    df_temp.drop('data_hash', axis =0, inplace=True)\r\n",
    "    df_temp.drop('UTS', axis=1, inplace=True)\r\n",
    "\r\n",
    "    #explode function transform each element of a list to a row.\r\n",
    "    #we can apply it to all the columns assuming they have the same number of elements in each list \r\n",
    "    df_temp = df_temp.apply(pd.Series.explode)\r\n",
    "    \r\n",
    "    dfList.append(df_temp)\r\n",
    "\r\n",
    "measurement_dictionary = {k:v for k,v in zip(zephyr_id_list,dfList)}\r\n",
    "dfList = [] # clear dataframe list\r\n"
   ],
   "outputs": [],
   "metadata": {}
  },
  {
   "cell_type": "markdown",
   "source": [
    "# Splitting dataframe into days"
   ],
   "metadata": {}
  },
  {
   "cell_type": "code",
   "execution_count": 11,
   "source": [
    "def dataSplit(df_temp,dateString):\r\n",
    "    \r\n",
    "    data = {} #intialise empty dictionary to store each day of locations\r\n",
    "    \r\n",
    "    df_temp = measurement_dictionary[key]\r\n",
    "\r\n",
    "    # using the dates which are already supplied. This strategy in the line below converts them and rounds down to date using 'd' flag\r\n",
    "    # This strategy (line below) will keep just the date\r\n",
    "    df_temp['day'] = pd.to_datetime(df_temp[dateString], dayfirst=True, errors='coerce').dt.date\r\n",
    "\r\n",
    "    the_unique_dates = df_temp['day'].unique()\r\n",
    "    # this gives the same result as the for loop below\r\n",
    "    \r\n",
    "    #splitting the dataframe into separate days\r\n",
    "    #for each day in unique dates set:\r\n",
    "    for day in the_unique_dates:\r\n",
    "        try:\r\n",
    "            # In my code below I assign the subset of records to a new dataframe called dft\r\n",
    "            # create 'midnight' timestamps\r\n",
    "            timestampKey = int((pd.to_datetime(day, errors='coerce')).timestamp())\r\n",
    "\r\n",
    "            # select the records for this day\r\n",
    "            dft = df_temp[df_temp['day']==day]\r\n",
    "\r\n",
    "            # #drop the date column to save space (we don't need this anymore)\r\n",
    "            #dft = dft.drop(dateString, axis=1)\r\n",
    "            dft = dft.drop(\"day\", axis=1)\r\n",
    "            dft = dft.dropna() #drop null values\r\n",
    "            \r\n",
    "            data[timestampKey] = dft\r\n",
    "\r\n",
    "        except KeyError as e:\r\n",
    "            print(e)\r\n",
    "\r\n",
    "    return data"
   ],
   "outputs": [],
   "metadata": {}
  },
  {
   "cell_type": "code",
   "execution_count": 12,
   "source": [
    "for key in measurement_dictionary:\r\n",
    "    measurement_dictionary[key] = dataSplit(measurement_dictionary[key],'dateTime')\r\n",
    "\r\n",
    "#location_dictionary = measurement_dictionary \r\n",
    "location_dictionary = {}"
   ],
   "outputs": [],
   "metadata": {}
  },
  {
   "cell_type": "markdown",
   "source": [
    "# Separating each list "
   ],
   "metadata": {}
  },
  {
   "cell_type": "code",
   "execution_count": 13,
   "source": [
    "def calculateTimestamps(df):\r\n",
    "    #set the index to Timestamp and automatically drops the datetime index\r\n",
    "    df['Timestamp'] = df.index.values.astype(np.int64) // 10 ** 9\r\n",
    "    df.set_index('Timestamp',inplace=True)\r\n",
    "    return df"
   ],
   "outputs": [],
   "metadata": {}
  },
  {
   "cell_type": "code",
   "execution_count": 14,
   "source": [
    "def dataframeAverages(intervalString,df):\r\n",
    "    #convert all column types to int\r\n",
    "    df = df.astype(int)\r\n",
    "    #resample by minute and get mean\r\n",
    "    df= df.resample(intervalString).mean() \r\n",
    "\r\n",
    "    df.isnull().sum() # identify any null values\r\n",
    "    df.dropna(inplace=True) #drop null values\r\n",
    "    #df = df.astype(int)  #convert avergaes back to int\r\n",
    "    return df"
   ],
   "outputs": [],
   "metadata": {}
  },
  {
   "cell_type": "code",
   "execution_count": 15,
   "source": [
    "for key in measurement_dictionary:\r\n",
    "    temp_locations = {}\r\n",
    "    temp_measurements = {}\r\n",
    "    for timestamp in measurement_dictionary[key]:\r\n",
    "        df_temp = measurement_dictionary[key][timestamp]\r\n",
    "        df_temp.set_index('dateTime',inplace=True)\r\n",
    "        df_temp.index = pd.to_datetime(df_temp.index,dayfirst=True)\r\n",
    "\r\n",
    "        #extracting the location data\r\n",
    "        ldf = df_temp[['latitude','longitude']]\r\n",
    "        df_temp.drop(['latitude','longitude'],axis=1, inplace=True) #drop the location columns \r\n",
    "\r\n",
    "        #calculate minute averages\r\n",
    "        df_temp = dataframeAverages('1min',df_temp)\r\n",
    "        df_temp = calculateTimestamps(df_temp)\r\n",
    "\r\n",
    "        #reassign new location dataframe to dictionary\r\n",
    "        temp_locations[timestamp] = ldf\r\n",
    "\r\n",
    "        #reassign new measurement dataframe to dictionary\r\n",
    "        temp_measurements[timestamp] = df_temp\r\n",
    "\r\n",
    "    location_dictionary[key] = temp_locations\r\n",
    "    measurement_dictionary[key] = temp_measurements\r\n",
    "\r\n",
    "    temp_locations = {} # clear dictionary \r\n",
    "    temp_measurements = {} # clear dictionary"
   ],
   "outputs": [],
   "metadata": {}
  },
  {
   "cell_type": "markdown",
   "source": [
    "# Preparing data for postgres"
   ],
   "metadata": {}
  },
  {
   "cell_type": "code",
   "execution_count": 16,
   "source": [
    "# for key in location_dictionary:\r\n",
    "#     for timestamp in location_dictionary[key]:\r\n",
    "#         #ldf = temp_locations[timestamp]\r\n",
    "#         ldf = location_dictionary[key][timestamp]\r\n",
    "#     break\r\n",
    "# ldf.head()"
   ],
   "outputs": [],
   "metadata": {}
  },
  {
   "cell_type": "code",
   "execution_count": 17,
   "source": [
    "def calculateSensorMovement(ldf):\r\n",
    "    precision = 0.00025 #this precision constant is derived from the GPS min and max readings which have 0.0003+/- variance for a stationary sensor \r\n",
    "\r\n",
    "    full_location_storage = False\r\n",
    "\r\n",
    "    #check if the sensor has moved greater than a speicfied precision. \r\n",
    "    if ((ldf['latitude'].min() + precision) > ldf['latitude'].max()) or ((ldf['latitude'].max() - precision) < ldf['latitude'].min()):\r\n",
    "        full_location_storage = True\r\n",
    "    elif ((ldf['longitude'].min() + precision) > ldf['longitude'].max()) or ((ldf['longitude'].max() - precision) < ldf['longitude'].min()):\r\n",
    "        full_location_storage = True\r\n",
    "    else:\r\n",
    "        full_location_storage = False\r\n",
    "\r\n",
    "    return full_location_storage"
   ],
   "outputs": [],
   "metadata": {}
  },
  {
   "cell_type": "code",
   "execution_count": 18,
   "source": [
    "def calculateBoundingBox(ldf):\r\n",
    "    for row in ldf.iterrows():\r\n",
    "        geometry_string = \"\"\r\n",
    "\r\n",
    "        tempArray = [] \r\n",
    "        min_x= row[1][2]    # lat\r\n",
    "        max_x = row[1][3]   # lat\r\n",
    "                \r\n",
    "        min_y= row[1][0]    # long\r\n",
    "        max_y = row[1][1]   # long\r\n",
    "\r\n",
    "    return \"POLYGON((%f %f, %f %f, %f %f, %f %f,%f %f))\" % (min_x,min_y,   min_x,max_y,   max_x,max_y,   max_x,min_y,   min_x,min_y)"
   ],
   "outputs": [],
   "metadata": {}
  },
  {
   "cell_type": "code",
   "execution_count": 19,
   "source": [
    "sensor_summaries = {}\r\n",
    "sensor_data = {}\r\n",
    "\r\n",
    "for key in zephyr_id_list:\r\n",
    "    \r\n",
    "    df = mdf =  pd.DataFrame\r\n",
    "    geometry_string = \"\"\r\n",
    "    timestamp_sensor_key = \"\"\r\n",
    "\r\n",
    "    #we can look into either dictioanry as they both share the same time range.\r\n",
    "    for timestampKey in location_dictionary[key]:\r\n",
    "   \r\n",
    "        # concatenating numbers into text: \r\n",
    "        timestamp_sensor_key = \"%s_%s\" % (timestampKey, key)\r\n",
    "\r\n",
    "        #try get location dataframe\r\n",
    "        try:\r\n",
    "            ldf = location_dictionary[key][timestampKey]\r\n",
    "            \r\n",
    "            #check if there is any movment in this current day of data and generate a bounding box if there is \r\n",
    "            if calculateSensorMovement(ldf) == True:\r\n",
    "                print(\"Storing all measurements for this moving sensor\")\r\n",
    "                geometry_string = calculateBoundingBox(ldf)\r\n",
    "            \r\n",
    "            #if no movement is recorded them we can just take the min and max measuremnt for the day and drop the other values\r\n",
    "            else:               \r\n",
    "                temp_ldf = ldf.resample('D').agg(['min','max']) #resample on day interval\r\n",
    "                geometry_string = calculateBoundingBox(temp_ldf)\r\n",
    "               \r\n",
    "                #convert all column types to float to get an averaged location\r\n",
    "                ldf = ldf.astype(float)\r\n",
    "                ldf = ldf.resample('D').mean()\r\n",
    "                ldf = calculateTimestamps(ldf)\r\n",
    "               \r\n",
    "        except Exception as e:\r\n",
    "            print('The dataframe is empty therefore no bounding box will be applied :{}'.format(e))\r\n",
    "        \r\n",
    "        # try get measurement dataframe\r\n",
    "        try:\r\n",
    "            mdf = measurement_dictionary[key][timestampKey] \r\n",
    "        except Exception as e:\r\n",
    "            print('The measurement dataframe is empty. check csv files :{}'.format(e))\r\n",
    "\r\n",
    "\r\n",
    "        #summaryArray = [timestamp_start,sensor_id,bouding_box,measurement_count]\r\n",
    "        summaryArray = [timestampKey,int(key),geometry_string,len(mdf.index.values)] #inserting row into temp array\r\n",
    "        sensor_summaries[timestamp_sensor_key] = summaryArray    #assign new dataframe to coressponding key\r\n",
    "\r\n",
    "        #dataArray = [id, mesaurement_json,location_json]\r\n",
    "        dataArray = [mdf.to_json(orient=\"columns\"),ldf.to_json(orient=\"columns\")] \r\n",
    "        sensor_data[timestamp_sensor_key] = dataArray    #assign new dataframe to coressponding key    "
   ],
   "outputs": [],
   "metadata": {}
  },
  {
   "cell_type": "markdown",
   "source": [
    "# Exporting to PostgresSQL \n"
   ],
   "metadata": {}
  },
  {
   "cell_type": "markdown",
   "source": [
    "# Writing records from a Dictionary of arrays to a SQL database\n",
    "loop over all the keys and execute insert query"
   ],
   "metadata": {}
  },
  {
   "cell_type": "code",
   "execution_count": 99,
   "source": [
    "import psycopg2"
   ],
   "outputs": [],
   "metadata": {}
  },
  {
   "cell_type": "code",
   "execution_count": 100,
   "source": [
    "#Connecting to an existing database\r\n",
    "con = psycopg2.connect(\r\n",
    "    host=\"localhost\",\r\n",
    "    database=\"airQuality\",\r\n",
    "    user=\"Riyad\", \r\n",
    "    password=\"123\",\r\n",
    "    # attempt to connect for 3 seconds then raise exception\r\n",
    "    connect_timeout = 3)"
   ],
   "outputs": [],
   "metadata": {}
  },
  {
   "cell_type": "code",
   "execution_count": 101,
   "source": [
    "#Opening a cursor to execute database operations\r\n",
    "cursor = con.cursor()\r\n",
    "query = \"SELECT * FROM sensor_network.sensors\"\r\n",
    "#change dataframe to csv and save file\r\n",
    "sensorsdf = pd.read_sql_query(query, con, index_col='zephyr_id')\r\n",
    "sensorsdf = sensorsdf.convert_dtypes() #convert to correct types\r\n",
    "cursor.close()"
   ],
   "outputs": [],
   "metadata": {}
  },
  {
   "cell_type": "code",
   "execution_count": 102,
   "source": [
    "sensorsdf.head()"
   ],
   "outputs": [
    {
     "output_type": "execute_result",
     "data": {
      "text/plain": [
       "           plume_id sensor_serial_number  id  type_id\n",
       "zephyr_id                                            \n",
       "NaN           17539    02:00:00:00:43:8b   1        1\n",
       "NaN           19115    02:00:00:00:49:b3   2        1\n",
       "NaN           17521    02:00:00:00:43:79   3        1\n",
       "NaN           16397    02:00:00:00:3f:15   4        1\n",
       "NaN           16701    02:00:00:00:40:45   5        1"
      ],
      "text/html": [
       "<div>\n",
       "<style scoped>\n",
       "    .dataframe tbody tr th:only-of-type {\n",
       "        vertical-align: middle;\n",
       "    }\n",
       "\n",
       "    .dataframe tbody tr th {\n",
       "        vertical-align: top;\n",
       "    }\n",
       "\n",
       "    .dataframe thead th {\n",
       "        text-align: right;\n",
       "    }\n",
       "</style>\n",
       "<table border=\"1\" class=\"dataframe\">\n",
       "  <thead>\n",
       "    <tr style=\"text-align: right;\">\n",
       "      <th></th>\n",
       "      <th>plume_id</th>\n",
       "      <th>sensor_serial_number</th>\n",
       "      <th>id</th>\n",
       "      <th>type_id</th>\n",
       "    </tr>\n",
       "    <tr>\n",
       "      <th>zephyr_id</th>\n",
       "      <th></th>\n",
       "      <th></th>\n",
       "      <th></th>\n",
       "      <th></th>\n",
       "    </tr>\n",
       "  </thead>\n",
       "  <tbody>\n",
       "    <tr>\n",
       "      <th>NaN</th>\n",
       "      <td>17539</td>\n",
       "      <td>02:00:00:00:43:8b</td>\n",
       "      <td>1</td>\n",
       "      <td>1</td>\n",
       "    </tr>\n",
       "    <tr>\n",
       "      <th>NaN</th>\n",
       "      <td>19115</td>\n",
       "      <td>02:00:00:00:49:b3</td>\n",
       "      <td>2</td>\n",
       "      <td>1</td>\n",
       "    </tr>\n",
       "    <tr>\n",
       "      <th>NaN</th>\n",
       "      <td>17521</td>\n",
       "      <td>02:00:00:00:43:79</td>\n",
       "      <td>3</td>\n",
       "      <td>1</td>\n",
       "    </tr>\n",
       "    <tr>\n",
       "      <th>NaN</th>\n",
       "      <td>16397</td>\n",
       "      <td>02:00:00:00:3f:15</td>\n",
       "      <td>4</td>\n",
       "      <td>1</td>\n",
       "    </tr>\n",
       "    <tr>\n",
       "      <th>NaN</th>\n",
       "      <td>16701</td>\n",
       "      <td>02:00:00:00:40:45</td>\n",
       "      <td>5</td>\n",
       "      <td>1</td>\n",
       "    </tr>\n",
       "  </tbody>\n",
       "</table>\n",
       "</div>"
      ]
     },
     "metadata": {},
     "execution_count": 102
    }
   ],
   "metadata": {}
  },
  {
   "cell_type": "code",
   "execution_count": 103,
   "source": [
    "for key in sensor_summaries:\r\n",
    "\r\n",
    "    #split key to get only sensorid\r\n",
    "    s = key.split('_')[1]\r\n",
    "    #get the new key from sensors table\r\n",
    "    #sensor_id = sensorsdf.loc[int(s)]\r\n",
    "    break\r\n",
    "\r\n",
    "print(sensorsdf.loc[int(s)]['id'])"
   ],
   "outputs": [
    {
     "output_type": "stream",
     "name": "stdout",
     "text": [
      "31\n"
     ]
    }
   ],
   "metadata": {}
  },
  {
   "cell_type": "code",
   "execution_count": 104,
   "source": [
    "for key in sensor_summaries:\r\n",
    "\r\n",
    "    #split key to get only sensorid\r\n",
    "    s = key.split('_')[1]\r\n",
    "    #get the new key from sensors table\r\n",
    "    sensor_id = sensorsdf.loc[int(s)]['id']\r\n",
    "\r\n",
    "    mdf = sensor_summaries[key]\r\n",
    "    ldf = sensor_data[key]\r\n",
    "\r\n",
    "    try:\r\n",
    "        #Opening a cursor to execute database operations\r\n",
    "        cursor = con.cursor()\r\n",
    "\r\n",
    "        #inserting sensor data and return the id of new record\r\n",
    "        cursor.execute(\"INSERT INTO sensor_data.archive_measurements (measurements,locations) VALUES(%s, %s) \\n RETURNING id\", (str(ldf[0]),str(ldf[1])) )\r\n",
    "        con.commit() \r\n",
    "        \r\n",
    "        #set id of new record into local variable\r\n",
    "        sensor_data_id = cursor.fetchone()[0]\r\n",
    "\r\n",
    "        #inserting sensor summary\r\n",
    "        cursor.execute(\"INSERT INTO sensor_network.sensor_summaries (timestamp_start, sensor_id, b_box, sensor_data_id, measurement_count) VALUES(%s, %s, %s, %s, %s)\", (int(mdf[0]), int(sensor_id),str(mdf[2]),int(sensor_data_id),int(mdf[3])))\r\n",
    "        con.commit() \r\n",
    "\r\n",
    "        cursor.close()\r\n",
    "    #if table name does not exist exit loop \r\n",
    "    except(psycopg2.errors.UndefinedTable) as error:\r\n",
    "        print('ERROR: ' + error)\r\n",
    "        break\r\n"
   ],
   "outputs": [],
   "metadata": {}
  },
  {
   "cell_type": "code",
   "execution_count": 105,
   "source": [
    "#closing the connection\r\n",
    "con.close()"
   ],
   "outputs": [],
   "metadata": {}
  }
 ],
 "metadata": {
  "interpreter": {
   "hash": "58e6f625ba2c43b7fc3c95c61d4ef7749e639023949ab2a4f0956b7241794ddb"
  },
  "kernelspec": {
   "name": "python3",
   "display_name": "Python 3.8.8 64-bit ('base': conda)"
  },
  "language_info": {
   "codemirror_mode": {
    "name": "ipython",
    "version": 3
   },
   "file_extension": ".py",
   "mimetype": "text/x-python",
   "name": "python",
   "nbconvert_exporter": "python",
   "pygments_lexer": "ipython3",
   "version": "3.8.8"
  }
 },
 "nbformat": 4,
 "nbformat_minor": 4
}